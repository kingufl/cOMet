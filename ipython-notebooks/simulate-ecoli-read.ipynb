{
 "metadata": {
  "name": "",
  "signature": "sha256:1b3ab8a89065ba64ff78a2e3795cf45896cb9bb71b00a9a9f551dfabf12d7fcc"
 },
 "nbformat": 3,
 "nbformat_minor": 0,
 "worksheets": [
  {
   "cells": [
    {
     "cell_type": "code",
     "collapsed": false,
     "input": [
      "import matplotlib\n",
      "import Bio.SeqIO\n",
      "import Bio.Restriction\n",
      "import scipy\n",
      "import matplotlib.pyplot as plt\n",
      "%matplotlib inline\n",
      "import math\n",
      "import random\n",
      "import numpy as np"
     ],
     "language": "python",
     "metadata": {},
     "outputs": [],
     "prompt_number": 77
    },
    {
     "cell_type": "code",
     "collapsed": false,
     "input": [
      "handle = open(\"/s/fir/a/nobackup/data/ECOLI_Reference_Genome/ecoli.fa\", \"rU\")\n",
      "for record in Bio.SeqIO.parse(handle, \"fasta\"):\n",
      "    ref_seq = record.seq\n",
      "frag_sizes = [len(seq) for seq in Bio.Restriction.XhoI.catalyse(ref_seq)]"
     ],
     "language": "python",
     "metadata": {},
     "outputs": [],
     "prompt_number": 78
    },
    {
     "cell_type": "code",
     "collapsed": false,
     "input": [
      "def subseq(seq, limits):\n",
      "    x,y = limits\n",
      "    if x < y : return seq[x:y]\n",
      "    return seq[x:len(seq)] + seq[0:y]"
     ],
     "language": "python",
     "metadata": {},
     "outputs": [],
     "prompt_number": 79
    },
    {
     "cell_type": "code",
     "collapsed": false,
     "input": [
      "molecules = []\n",
      "for i in range(1400):\n",
      "    breaks = []\n",
      "    num_breaks = 40 #random.randint(20,50)\n",
      "    for j in range(num_breaks):\n",
      "        breaks.append(random.randint(0,len(ref_seq) - 1))\n",
      "    breaks.sort()        \n",
      "    pairs = [(x,y) for x,y in zip(breaks[:-1], breaks[1:])] + [(breaks[-1], breaks[0])]\n",
      "    molecules += [[subseq(ref_seq, pair), pair] for pair in pairs]"
     ],
     "language": "python",
     "metadata": {},
     "outputs": [],
     "prompt_number": 80
    },
    {
     "cell_type": "code",
     "collapsed": false,
     "input": [
      "def sim(mol):\n",
      "    \"Return a simulated set of fragment sizes in bp for a Bio.SeqIO seq\"\n",
      "    error_locations = []\n",
      "    sites = [biosite - 1 for biosite in Bio.Restriction.XhoI.search(mol)]\n",
      "    e_f_sites = list(sites);\n",
      "    \n",
      "    for i, site in enumerate(sites):\n",
      "        if (random.randint(1,5) == 5):\n",
      "            sites.pop(i)\n",
      "            error_locations.append(i+1)                    \n",
      "            \n",
      "    allsites = [0] + sites + [len(mol)]\n",
      "    e_f_allsites = [0] + e_f_sites + [len(mol)]\n",
      "    # TODO add random break sites\n",
      "    sizes = [y - x for x,y in zip(allsites[:-1], allsites[1:])]\n",
      "    e_f_sizes = [y - x for x,y in zip(e_f_allsites[:-1], e_f_allsites[1:])]\n",
      "    sizes = [size/1000.0 for size in sizes] # convert to kb\n",
      "    e_f_sizes = [size/1000.0 for size in e_f_sizes] # convert to kb\n",
      "    sigma = .58\n",
      "    sizes = [size + random.gauss(0, math.sqrt(size*sigma**2)) for size in sizes]\n",
      "    sizes = [size for size in sizes if size > .5]\n",
      "    e_f_sizes = [size for size in e_f_sizes if size > .5]\n",
      "    return [sizes] + [e_f_sizes] + [error_locations]"
     ],
     "language": "python",
     "metadata": {},
     "outputs": [],
     "prompt_number": 81
    },
    {
     "cell_type": "code",
     "collapsed": false,
     "input": [
      "print molecules[0][1]\n",
      "print molecules[1][1][0]\n",
      "print molecules[2][1]"
     ],
     "language": "python",
     "metadata": {},
     "outputs": [
      {
       "output_type": "stream",
       "stream": "stdout",
       "text": [
        "(145062, 176109)\n",
        "176109\n",
        "(234748, 350381)\n"
       ]
      }
     ],
     "prompt_number": 82
    },
    {
     "cell_type": "code",
     "collapsed": false,
     "input": [
      "m = open(\"sim_ecoli_XhoI2.valuev\",\"w\")\n",
      "mwe = open(\"sim_ecoli_XhoI2_without_errors.valuev\",\"w\") # Without inserting errors\n",
      "mo = open(\"sim_ecoli_XhoI2.origin\",\"w\")\n",
      "el = open(\"sim_ecoli_XhoI2.error_locations\",\"w\")"
     ],
     "language": "python",
     "metadata": {},
     "outputs": [],
     "prompt_number": 76
    },
    {
     "cell_type": "code",
     "collapsed": false,
     "input": [
      "start = 0\n",
      "end = 0\n",
      "length_of_original = []\n",
      "length_of_errored = []\n",
      "for i, mol in enumerate((molecule for molecule in molecules if len(molecule[0]) > 250000)):\n",
      "    simulated = sim(mol[0])    \n",
      "    lens = [str(round(frag,3)) for frag in simulated[0]]\n",
      "    if len(lens) < 10: continue\n",
      "    map_name = \"map_\" + str(i) + \"\\n\"\n",
      "    m.write(map_name)\n",
      "    #frag_seqs = Bio.Restriction.XhoI.catalyse(mol)\n",
      "    \n",
      "    m.write(\"\\tXhoI\\tXhoI\\t\" + \"\\t\".join(lens) + \"\\n\")\n",
      "    m.write(\"\\n\")\n",
      "    \n",
      "    lens_e_free = [str(round(frag,3)) for frag in simulated[1]]\n",
      "    mwe.write(map_name)\n",
      "    mwe.write(\"\\tXhoI\\tXhoI\\t\" + \"\\t\".join(lens_e_free) + \"\\n\")\n",
      "    mwe.write(\"\\n\")\n",
      "    \n",
      "    mo.write(\"origin[\" + map_name + \"] = \")\n",
      "    mo.write(repr(mol[1]))\n",
      "    mo.write(\"\\n\")\n",
      "    length_of_errored.append(len(lens))\n",
      "    length_of_original.append(len(lens_e_free))\n",
      "    #if i == 100: break\n",
      "    el.write(\" \".join([str(num) for num in simulated[2]]) + \"\\n\")    \n",
      "    if(start == 0 and end ==0):\n",
      "        start = mol[1][0]\n",
      "        end = mol[1][1]\n",
      "    elif(start <= mol[1][0] and mol[1][0] >= end):\n",
      "        print(i)\n",
      "    elif(start <= mol[1][1] and mol[1][0] >= end):\n",
      "        print(i)\n",
      "    \n",
      "m.close()\n",
      "mo.close()\n",
      "mwe.close()\n",
      "el.close()"
     ],
     "language": "python",
     "metadata": {},
     "outputs": [
      {
       "ename": "ValueError",
       "evalue": "I/O operation on closed file",
       "output_type": "pyerr",
       "traceback": [
        "\u001b[1;31m---------------------------------------------------------------------------\u001b[0m\n\u001b[1;31mValueError\u001b[0m                                Traceback (most recent call last)",
        "\u001b[1;32m<ipython-input-50-3f25b17cc54d>\u001b[0m in \u001b[0;36m<module>\u001b[1;34m()\u001b[0m\n\u001b[0;32m      8\u001b[0m     \u001b[1;32mif\u001b[0m \u001b[0mlen\u001b[0m\u001b[1;33m(\u001b[0m\u001b[0mlens\u001b[0m\u001b[1;33m)\u001b[0m \u001b[1;33m<\u001b[0m \u001b[1;36m10\u001b[0m\u001b[1;33m:\u001b[0m \u001b[1;32mcontinue\u001b[0m\u001b[1;33m\u001b[0m\u001b[0m\n\u001b[0;32m      9\u001b[0m     \u001b[0mmap_name\u001b[0m \u001b[1;33m=\u001b[0m \u001b[1;34m\"map_\"\u001b[0m \u001b[1;33m+\u001b[0m \u001b[0mstr\u001b[0m\u001b[1;33m(\u001b[0m\u001b[0mi\u001b[0m\u001b[1;33m)\u001b[0m \u001b[1;33m+\u001b[0m \u001b[1;34m\"\\n\"\u001b[0m\u001b[1;33m\u001b[0m\u001b[0m\n\u001b[1;32m---> 10\u001b[1;33m     \u001b[0mm\u001b[0m\u001b[1;33m.\u001b[0m\u001b[0mwrite\u001b[0m\u001b[1;33m(\u001b[0m\u001b[0mmap_name\u001b[0m\u001b[1;33m)\u001b[0m\u001b[1;33m\u001b[0m\u001b[0m\n\u001b[0m\u001b[0;32m     11\u001b[0m     \u001b[1;31m#frag_seqs = Bio.Restriction.XhoI.catalyse(mol)\u001b[0m\u001b[1;33m\u001b[0m\u001b[1;33m\u001b[0m\u001b[0m\n\u001b[0;32m     12\u001b[0m \u001b[1;33m\u001b[0m\u001b[0m\n",
        "\u001b[1;31mValueError\u001b[0m: I/O operation on closed file"
       ]
      }
     ],
     "prompt_number": 50
    },
    {
     "cell_type": "code",
     "collapsed": false,
     "input": [
      "def nextRange(cur_range, bin_size, s_varience):\n",
      "    if(cur_range < 2000):\n",
      "        return(cur_range+ bin_size)\n",
      "    else:\n",
      "        return(round(((cur_range/1000.0) + 4 * math.sqrt((cur_range/1000.0) * s_varience))*1000))\n",
      "\n",
      "quantizeList = []\n",
      "def quantizeNew(val, bin_size, s_varience):    \n",
      "    if(val == 0):\n",
      "        return(0)\n",
      "    \n",
      "    if(len(quantizeList) == 0):\n",
      "        quantizeList.append(0.0)\n",
      "        quantizeList.append(nextRange(0.0, bin_size, s_varience))\n",
      "        \n",
      "    for i in range(len(quantizeList)):\n",
      "        if(val < quantizeList[i]):\n",
      "            return(quantizeList[i-1])\n",
      "    while(1):\n",
      "        quantizeList.append(nextRange(quantizeList[len(quantizeList) - 1], bin_size, s_varience))\n",
      "        if(val < quantizeList[len(quantizeList) - 1]):\n",
      "            return(quantizeList[len(quantizeList) - 2])"
     ],
     "language": "python",
     "metadata": {},
     "outputs": [],
     "prompt_number": 45
    },
    {
     "cell_type": "code",
     "collapsed": false,
     "input": [
      "variance = 0.7\n",
      "counter_val = []\n",
      "for num in range(1, 100):\n",
      "    value = []\n",
      "    counter = 0\n",
      "    for x in range(0, 100):\n",
      "        value.append(num + random.gauss(0, math.sqrt(num*variance)))\n",
      "\n",
      "    counter = 0\n",
      "    for v in value:\n",
      "        if(quantizeNew((v*1000), 200, variance) == quantizeNew((num * 1000), 200, variance)):\n",
      "            counter += 1    \n",
      "    counter_val.append(counter)"
     ],
     "language": "python",
     "metadata": {},
     "outputs": [],
     "prompt_number": 46
    },
    {
     "cell_type": "code",
     "collapsed": false,
     "input": [
      "plt.hist(counter_val, bins= 30)\n",
      "plt.xlabel(\"Number of correct quantization\")\n",
      "plt.show()"
     ],
     "language": "python",
     "metadata": {},
     "outputs": [
      {
       "metadata": {},
       "output_type": "display_data",
       "png": "[encoded data removed]",
       "text": [
        "<matplotlib.figure.Figure at 0x7fd849859c10>"
       ]
      }
     ],
     "prompt_number": 47
    },
    {
     "cell_type": "code",
     "collapsed": false,
     "input": [],
     "language": "python",
     "metadata": {},
     "outputs": [],
     "prompt_number": 379
    },
    {
     "cell_type": "code",
     "collapsed": false,
     "input": [
      "avgCV = [(10,0.1),(20, 0.3),(30,0.4)]\n",
      "aa = 45\n",
      "bb = 0.5\n",
      "avgCV.append((aa,bb))"
     ],
     "language": "python",
     "metadata": {},
     "outputs": [],
     "prompt_number": 18
    },
    {
     "cell_type": "code",
     "collapsed": false,
     "input": [
      "avgCV = []\n",
      "varArray = []\n",
      "for variance in np.arange(0,1,0.001):\n",
      "    counter_val = []\n",
      "    for num in range(1, 100):\n",
      "        value = []\n",
      "        counter = 0\n",
      "        for x in range(0, 100):\n",
      "            value.append(num + random.gauss(0, math.sqrt(num*variance)))\n",
      "\n",
      "        counter = 0\n",
      "        for v in value:\n",
      "            if(quantizeNew((v*1000), 200, variance) == quantizeNew((num * 1000), 200, variance)):\n",
      "                counter += 1    \n",
      "        counter_val.append(counter)\n",
      "    avgCV.append(sum(counter_val)/len(counter_val))\n",
      "    varArray.append(variance)"
     ],
     "language": "python",
     "metadata": {},
     "outputs": [],
     "prompt_number": 48
    },
    {
     "cell_type": "code",
     "collapsed": false,
     "input": [
      "plt.plot(varArray, avgCV)\n",
      "plt.plot(varArray[50], avgCV[50], 'rD')\n",
      "plt.plot(varArray[100], avgCV[100], 'rD')\n",
      "plt.plot(varArray[200], avgCV[200], 'rD')\n",
      "plt.plot(varArray[250], avgCV[250], 'rD')\n",
      "plt.plot(varArray[300], avgCV[300], 'rD')\n",
      "plt.plot(varArray[333], avgCV[333], 'rD')\n",
      "plt.xlabel(\"Varience\")\n",
      "plt.ylabel(\"Correct quantization\")\n",
      "plt.show()"
     ],
     "language": "python",
     "metadata": {},
     "outputs": [
      {
       "metadata": {},
       "output_type": "display_data",
       "png": "[encoded data removed]",
       "text": [
        "<matplotlib.figure.Figure at 0x7fd8498fc810>"
       ]
      }
     ],
     "prompt_number": 49
    },
    {
     "cell_type": "code",
     "collapsed": false,
     "input": [],
     "language": "python",
     "metadata": {},
     "outputs": [
      {
       "metadata": {},
       "output_type": "pyout",
       "prompt_number": 7,
       "text": [
        "96"
       ]
      }
     ],
     "prompt_number": 7
    },
    {
     "cell_type": "code",
     "collapsed": false,
     "input": [
      "random.gauss(0, math.sqrt(20.0*0.05))"
     ],
     "language": "python",
     "metadata": {},
     "outputs": [
      {
       "metadata": {},
       "output_type": "pyout",
       "prompt_number": 17,
       "text": [
        "-1.7006102817766666"
       ]
      }
     ],
     "prompt_number": 17
    },
    {
     "cell_type": "code",
     "collapsed": false,
     "input": [
      "plt.hist(value, bins=20)"
     ],
     "language": "python",
     "metadata": {},
     "outputs": [
      {
       "metadata": {},
       "output_type": "pyout",
       "prompt_number": 283,
       "text": [
        "(array([  1.,   0.,   2.,   0.,   3.,   1.,   5.,   4.,   6.,  11.,   4.,\n",
        "         14.,  11.,  15.,   9.,   7.,   5.,   1.,   0.,   1.]),\n",
        " array([ 125.91155669,  127.88818454,  129.86481238,  131.84144023,\n",
        "         133.81806808,  135.79469593,  137.77132378,  139.74795162,\n",
        "         141.72457947,  143.70120732,  145.67783517,  147.65446301,\n",
        "         149.63109086,  151.60771871,  153.58434656,  155.56097441,\n",
        "         157.53760225,  159.5142301 ,  161.49085795,  163.4674858 ,\n",
        "         165.44411365]),\n",
        " <a list of 20 Patch objects>)"
       ]
      },
      {
       "metadata": {},
       "output_type": "display_data",
       "png": "[encoded data removed]",
       "text": [
        "<matplotlib.figure.Figure at 0x7f753063ae50>"
       ]
      }
     ],
     "prompt_number": 283
    },
    {
     "cell_type": "code",
     "collapsed": false,
     "input": [
      "molecules[0][1]"
     ],
     "language": "python",
     "metadata": {},
     "outputs": [
      {
       "metadata": {},
       "output_type": "pyout",
       "prompt_number": 119,
       "text": [
        "(26585, 139739)"
       ]
      }
     ],
     "prompt_number": 119
    },
    {
     "cell_type": "code",
     "collapsed": false,
     "input": [
      "lines = [line.rstrip('\\n') for line in open('sim_ecoli_XhoI2.valuev')]\n",
      "counter = 1\n",
      "lines_e = []\n",
      "for line in lines:\n",
      "    counter = counter + 1;\n",
      "    if(counter%3 == 0):\n",
      "        lines_e.append(line)"
     ],
     "language": "python",
     "metadata": {},
     "outputs": [],
     "prompt_number": 230
    },
    {
     "cell_type": "code",
     "collapsed": false,
     "input": [
      "lines = [line.rstrip('\\n') for line in open('sim_ecoli_XhoI2_without_errors.valuev')]\n",
      "counter = 1\n",
      "lines_w_e = []\n",
      "for line in lines:\n",
      "    counter = counter + 1;\n",
      "    if(counter%3 == 0):\n",
      "        lines_w_e.append(line)"
     ],
     "language": "python",
     "metadata": {},
     "outputs": [],
     "prompt_number": 231
    },
    {
     "cell_type": "code",
     "collapsed": false,
     "input": [
      "file_o = open(\"deletion\",\"w\")\n",
      "for no, line in enumerate(lines_e):    \n",
      "    file_o.write(str(no) + \" \" + str(len(lines_w_e[no].split(\"\\t\")) - len(lines_e[no].split(\"\\t\"))) + \"\\n\")\n",
      "file_o.close()"
     ],
     "language": "python",
     "metadata": {},
     "outputs": [],
     "prompt_number": 267
    },
    {
     "cell_type": "code",
     "collapsed": false,
     "input": [
      "strrr = []\n",
      "stll = \"\\takb\\taasd\"\n",
      "strrr.append(stll)\n",
      "len(strrr[0].split(\"\\t\"))"
     ],
     "language": "python",
     "metadata": {},
     "outputs": [
      {
       "metadata": {},
       "output_type": "pyout",
       "prompt_number": 255,
       "text": [
        "3"
       ]
      }
     ],
     "prompt_number": 255
    },
    {
     "cell_type": "code",
     "collapsed": false,
     "input": [
      "xs = []\n",
      "for x in range(500, 10000):\n",
      "    x = x /1000.0\n",
      "    xs.append(x + random.gauss(0, math.sqrt(x*0.03)))"
     ],
     "language": "python",
     "metadata": {},
     "outputs": [],
     "prompt_number": 76
    },
    {
     "cell_type": "code",
     "collapsed": false,
     "input": [
      "plt.plot(xs)"
     ],
     "language": "python",
     "metadata": {},
     "outputs": [
      {
       "metadata": {},
       "output_type": "pyout",
       "prompt_number": 77,
       "text": [
        "[<matplotlib.lines.Line2D at 0x7f095656fb90>]"
       ]
      },
      {
       "metadata": {},
       "output_type": "display_data",
       "png": "[encoded data removed]",
       "text": [
        "<matplotlib.figure.Figure at 0x7f09567ffbd0>"
       ]
      }
     ],
     "prompt_number": 77
    },
    {
     "cell_type": "code",
     "collapsed": false,
     "input": [
      "quantizeNew((90000), 600, 0.33)"
     ],
     "language": "python",
     "metadata": {},
     "outputs": [
      {
       "metadata": {},
       "output_type": "pyout",
       "prompt_number": 132,
       "text": [
        "85143.0"
       ]
      }
     ],
     "prompt_number": 132
    },
    {
     "cell_type": "code",
     "collapsed": false,
     "input": [
      "def drawLine(fses):\n",
      "    print(fses)\n",
      "    plt.clf()\n",
      "    cur_len = 0\n",
      "    pre_len = 0\n",
      "    plt.figure(figsize=(30,1))\n",
      "    for fs in fses:\n",
      "        pre_len = cur_len\n",
      "        cur_len += f\n",
      "        plt.plot((pre_len,cur_len),(1,1),'-|')    \n",
      "    plt.xlim(0,cur_len)\n",
      "    plt.ylim(0,3)\n",
      "    plt.savefig(\"sample.jpg\", dpi = 700)\n",
      "    plt.show()\n",
      "    plt.clf()\n",
      "    plt.cla()\n",
      "    plt.close()"
     ],
     "language": "python",
     "metadata": {},
     "outputs": [],
     "prompt_number": 95
    },
    {
     "cell_type": "code",
     "collapsed": false,
     "input": [
      "drawLine(frag_sizes)"
     ],
     "language": "python",
     "metadata": {},
     "outputs": [
      {
       "output_type": "stream",
       "stream": "stdout",
       "text": [
        "[47077, 55381, 40525, 2335, 27290, 18043, 7616, 1806, 5554, 23391, 12, 23605, 28270, 24142, 27238, 8511, 6776, 24921, 1462, 5108, 24335, 11058, 27070, 43326, 49950, 51518, 16481, 37904, 4946, 35071, 17610, 58586, 28871, 14231, 71874, 55145, 2763, 37516, 2107, 3698, 2894, 16741, 60041, 36938, 19058, 4897, 32535, 3642, 4556, 17626, 3007, 12754, 28213, 730, 26300, 33522, 9614, 178, 27279, 28887, 13417, 2786, 21812, 24018, 7009, 14835, 72120, 9739, 10360, 64508, 11884, 18627, 28582, 1557, 2506, 1913, 11641, 15440, 8697, 6170, 45312, 4218, 15062, 20234, 12854, 12396, 48964, 34111, 55638, 56159, 48165, 101, 2099, 13095, 111629, 66318, 116010, 32342, 14882, 79243, 504, 4995, 10312, 37236, 32650, 3417, 12928, 87122, 14466, 15855, 110769, 28703, 4878, 24503, 84549, 3166, 25931, 24461, 68447, 70083, 30152, 24183, 11068, 3284, 6952, 28481, 19404, 44525, 38583, 36019, 76733, 3374, 13436, 27244, 13969, 7883, 1620, 58762, 3167, 44549, 24700, 44498, 39605, 8075, 4687, 32319, 18488, 17260, 10482, 42730, 37485, 6481, 29060, 4547, 14475, 60323, 13128, 498, 12437, 19199, 8085, 17715, 91796, 162, 24820, 64611, 42963, 249, 28217, 20233, 14977, 21401, 40922, 25728, 15415, 20810, 45383, 35631, 42729]\n"
       ]
      },
      {
       "metadata": {},
       "output_type": "display_data",
       "text": [
        "<matplotlib.figure.Figure at 0x7f752fe1b450>"
       ]
      },
      {
       "metadata": {},
       "output_type": "display_data",
       "png": "[encoded data removed]",
       "text": [
        "<matplotlib.figure.Figure at 0x7f752ff5e710>"
       ]
      }
     ],
     "prompt_number": 96
    },
    {
     "cell_type": "code",
     "collapsed": false,
     "input": [
      "unsigned int nextRange(unsigned int cur_range, unsigned int bin_size,double s_varience){\n",
      "    if(cur_range < 2000)\n",
      "        return(cur_range + bin_size);\n",
      "    else\n",
      "        return(round(((double)(cur_range/1000.0) + 3 * sqrt(((double)cur_range/1000.0) * s_varience))*1000));\n",
      "}\n",
      "\n",
      "\n",
      "unsigned int quantizeNew(unsigned int val, unsigned int bin_size, double s_varience){\n",
      "\n",
      "    static vector<double> quantizeList;\n",
      "    \n",
      "    if(val == 0){\n",
      "        return(0);\n",
      "    }\n",
      "    if(quantizeList.size() == 0){\n",
      "        quantizeList.push_back(0.0);\n",
      "        quantizeList.push_back(nextRange(0.0, bin_size, s_varience));\n",
      "    }\n",
      "    for(int i = 0; i < quantizeList.size(); i++){ \n",
      "        if(val < quantizeList[i])\n",
      "            return(quantizeList[i-1]);\n",
      "    }\n",
      "    while(1){\n",
      "        quantizeList.push_back(nextRange(quantizeList[quantizeList.size() - 1], bin_size, s_varience));\n",
      "        if(val < quantizeList[quantizeList.size() - 1]){\n",
      "            return(quantizeList[quantizeList.size() - 2]);\n",
      "        }\n",
      "    }\n",
      "}"
     ],
     "language": "python",
     "metadata": {},
     "outputs": [
      {
       "ename": "SyntaxError",
       "evalue": "invalid syntax (<ipython-input-139-cd7250970183>, line 1)",
       "output_type": "pyerr",
       "traceback": [
        "\u001b[1;36m  File \u001b[1;32m\"<ipython-input-139-cd7250970183>\"\u001b[1;36m, line \u001b[1;32m1\u001b[0m\n\u001b[1;33m    unsigned int nextRange(unsigned int cur_range, unsigned int bin_size,double s_varience){\u001b[0m\n\u001b[1;37m               ^\u001b[0m\n\u001b[1;31mSyntaxError\u001b[0m\u001b[1;31m:\u001b[0m invalid syntax\n"
       ]
      }
     ],
     "prompt_number": 139
    },
    {
     "cell_type": "code",
     "collapsed": false,
     "input": [
      "print (readline)\n",
      "print(\"4334(7)4267(9)4152(9)4055(9)4010(9)4004(7)3918(9)3905(7)3890(7)3834(7)3830(9)3797(9)3776(7)3744(9)3726(7)3641(9)3604(7)3508(9)3375(7)3346(7)3325(9)3316(7)3275(9)3270(9)3118(7)3091(9)3021(9)3010(9)2977(9)2941(9)2913(7)2890(9)2887(7)3690(9)2867(9)2796(9)2488(11)1261(11)3306(10)768(11)2399(7)4035(11)4042(9)2328(7)1919(7)3883(9)2379(11)4225(11)2990(7)521(9)2135(10)2472(11)427(7)836(10)1654(7)2074(8)2035(11)1392(10)983(8)1574(7)1974(11)1959(11)1933(9)1924(8)2117(11)691(9)2261(11)3079(10)1863(7)3090(8)1439(10)3476(11)1431(7)1817(10)1814(10)1819(11)996(11)2405(10)769(10)1189(11)1808(8)3443(7)1984(10)2603(8)1730(7)912(11)3765(11)1666(10)1631(11)1623(11)1589(11)3225(10)3614(11)1552(7)2779(11)1530(10)1517(11)2318(7)2473(10)1478(7)1473(11)3927(9)1452(10)411(12)2618(9)3240(11)3649(11)1542(11)1569(7)746(7)1037(10)3491(8)741(10)2786(7)798(11)1873(9)878(8)1761(10)1853(11)659(8)619(8)2186(9)1363(11)540(8)2590(11)633(8)2279(9)1094(7)3982(9)701(10)502(9)3842(7)1378(11)1599(11)2008(7)206(11)2660(11)803(11)1960(11)314(11)2391(10)3246(9)4069(11)2024(11)378(7)487(8)374(7)875(11)676(8)267(7)1152(8)727(10)921(11)2310(8)519(10)3791(8)2276(11)684(8)249(11)2718(8)2426(7)790(9)823(11)2050(10)2055(11)1232(10)1114(11)3981(9)1686(8)2138(9)492(8)901(11)2537(7)1632(10)3467(11)1638(11)2461(11)869(11)966(11)4238(11)285(10)1103(11)2712(7)1498(9)922(10)2548(9)4194(10)1611(11)2838(10)1213(10)339(10)1157(7)2163(9)973(11)3018(10)1866(11)1893(8)3539(10)1070(11)2706(11)1749(10)2976(11)1111(8)932(8)1131(11)315(7)1138(10)3603(11)4255(9)2609(10)1786(10)1286(10)2204(10)1209(8)2028(11)2846(11)3255(10)3664(10)1046(11)2180(11)913(10)1754(9)2577(10)2607(8)2627(8)1005(11)2677(8)678(7)2731(11)2752(10)1944(11)298(9)2755(10)1118(11)2764(8)2837(8)2866(7)405(8)2874(10)2886(8)3725(7)448(7)2905(7)2929(11)2937(8)2948(11)3766(10)3783(7)2960(11)2142(7)2987(10)3039(8)3049(11)3458(11)3066(8)1849(9)3162(7)3168(11)2350(7)3995(8)3172(12)3190(7)3193(11)3207(7)3216(11)3231(7)2492(11)4133(10)2088(8)3359(8)3374(8)3414(11)3823(11)3419(11)4296(9)3059(8)3882(8)3551(11)3960(11)3617(11)3635(11)2011(11)3657(10)1612(7)3673(7)3680(11)3685(10)2925(11)3748(11)3780(8)3802(11)3820(10)2593(9)546(7)3838(11)576(7)1394(9)563(8)1386(9)3855(11)2210(8)3856(7)4083(8)3265(9)4088(10)4099(7)4110(11)1648(11)4117(11)4191(10)4206(11)3393(9)4216(11)4219(10)936(10)2582(11)4233(11)1779(9)4246(7)4292(10)4301(8)3485(10)2670(8)3521(8)4344(10)234(11)1918(11)272(9)3698(7)406(9)415(9)422(7)1249(7)888(7)940(7)1056(9)2157(11)1334(9)1743(9)3848(8)1379(9)3180(8)1930(9)2949(11)2126(9)3115(9)2292(9)2380(9)2418(7)4260(10)2645(7)2652(7)2724(9)\")\n"
     ],
     "language": "python",
     "metadata": {},
     "outputs": [
      {
       "output_type": "stream",
       "stream": "stdout",
       "text": [
        "[199, 315, 3172, 3207, 3216, 3458]\n",
        "4334(7)4267(9)4152(9)4055(9)4010(9)4004(7)3918(9)3905(7)3890(7)3834(7)3830(9)3797(9)3776(7)3744(9)3726(7)3641(9)3604(7)3508(9)3375(7)3346(7)3325(9)3316(7)3275(9)3270(9)3118(7)3091(9)3021(9)3010(9)2977(9)2941(9)2913(7)2890(9)2887(7)3690(9)2867(9)2796(9)2488(11)1261(11)3306(10)768(11)2399(7)4035(11)4042(9)2328(7)1919(7)3883(9)2379(11)4225(11)2990(7)521(9)2135(10)2472(11)427(7)836(10)1654(7)2074(8)2035(11)1392(10)983(8)1574(7)1974(11)1959(11)1933(9)1924(8)2117(11)691(9)2261(11)3079(10)1863(7)3090(8)1439(10)3476(11)1431(7)1817(10)1814(10)1819(11)996(11)2405(10)769(10)1189(11)1808(8)3443(7)1984(10)2603(8)1730(7)912(11)3765(11)1666(10)1631(11)1623(11)1589(11)3225(10)3614(11)1552(7)2779(11)1530(10)1517(11)2318(7)2473(10)1478(7)1473(11)3927(9)1452(10)411(12)2618(9)3240(11)3649(11)1542(11)1569(7)746(7)1037(10)3491(8)741(10)2786(7)798(11)1873(9)878(8)1761(10)1853(11)659(8)619(8)2186(9)1363(11)540(8)2590(11)633(8)2279(9)1094(7)3982(9)701(10)502(9)3842(7)1378(11)1599(11)2008(7)206(11)2660(11)803(11)1960(11)314(11)2391(10)3246(9)4069(11)2024(11)378(7)487(8)374(7)875(11)676(8)267(7)1152(8)727(10)921(11)2310(8)519(10)3791(8)2276(11)684(8)249(11)2718(8)2426(7)790(9)823(11)2050(10)2055(11)1232(10)1114(11)3981(9)1686(8)2138(9)492(8)901(11)2537(7)1632(10)3467(11)1638(11)2461(11)869(11)966(11)4238(11)285(10)1103(11)2712(7)1498(9)922(10)2548(9)4194(10)1611(11)2838(10)1213(10)339(10)1157(7)2163(9)973(11)3018(10)1866(11)1893(8)3539(10)1070(11)2706(11)1749(10)2976(11)1111(8)932(8)1131(11)315(7)1138(10)3603(11)4255(9)2609(10)1786(10)1286(10)2204(10)1209(8)2028(11)2846(11)3255(10)3664(10)1046(11)2180(11)913(10)1754(9)2577(10)2607(8)2627(8)1005(11)2677(8)678(7)2731(11)2752(10)1944(11)298(9)2755(10)1118(11)2764(8)2837(8)2866(7)405(8)2874(10)2886(8)3725(7)448(7)2905(7)2929(11)2937(8)2948(11)3766(10)3783(7)2960(11)2142(7)2987(10)3039(8)3049(11)3458(11)3066(8)1849(9)3162(7)3168(11)2350(7)3995(8)3172(12)3190(7)3193(11)3207(7)3216(11)3231(7)2492(11)4133(10)2088(8)3359(8)3374(8)3414(11)3823(11)3419(11)4296(9)3059(8)3882(8)3551(11)3960(11)3617(11)3635(11)2011(11)3657(10)1612(7)3673(7)3680(11)3685(10)2925(11)3748(11)3780(8)3802(11)3820(10)2593(9)546(7)3838(11)576(7)1394(9)563(8)1386(9)3855(11)2210(8)3856(7)4083(8)3265(9)4088(10)4099(7)4110(11)1648(11)4117(11)4191(10)4206(11)3393(9)4216(11)4219(10)936(10)2582(11)4233(11)1779(9)4246(7)4292(10)4301(8)3485(10)2670(8)3521(8)4344(10)234(11)1918(11)272(9)3698(7)406(9)415(9)422(7)1249(7)888(7)940(7)1056(9)2157(11)1334(9)1743(9)3848(8)1379(9)3180(8)1930(9)2949(11)2126(9)3115(9)2292(9)2380(9)2418(7)4260(10)2645(7)2652(7)2724(9)\n"
       ]
      }
     ],
     "prompt_number": 38
    },
    {
     "cell_type": "code",
     "collapsed": false,
     "input": [
      "readns = [307, 479, 4753, 4799, 4812, 5180]\n",
      "readline = [598, 946, 9517, 9622, 9649, 10375]\n",
      "readline = [ read/3 for read in readline]\n",
      "for readn in readline:\n",
      "    no = readn + 1\n",
      "    no = no * 3    \n",
      "    !head -$no sim_ecoli_XhoI2.valuev > temp\n",
      "    !tail -3 temp"
     ],
     "language": "python",
     "metadata": {},
     "outputs": [
      {
       "output_type": "stream",
       "stream": "stdout",
       "text": [
        "map_307\r\n",
        "\tXhoI\tXhoI\t45.579\t93.382\t1.891\t27.653\t16.251\t11.21\t2.008\t5.573\t26.32\t23.138\t36.234\t26.267\t28.865\t8.898\t3.456\r\n",
        "\r\n"
       ]
      },
      {
       "output_type": "stream",
       "stream": "stdout",
       "text": [
        "map_479\r\n",
        "\tXhoI\tXhoI\t52.704\t53.378\t45.054\t2.542\t30.09\t19.051\t8.51\t2.108\t3.78\t19.176\t26.342\t0.682\r\n",
        "\r\n"
       ]
      },
      {
       "output_type": "stream",
       "stream": "stdout",
       "text": [
        "map_4753\r\n",
        "\tXhoI\tXhoI\t42.641\t56.11\t40.657\t2.761\t46.156\t7.729\t1.856\t4.269\t19.067\t22.73\t30.497\t17.071\t30.005\t14.504\t31.304\t3.538\r\n",
        "\r\n"
       ]
      },
      {
       "output_type": "stream",
       "stream": "stdout",
       "text": [
        "map_4799\r\n",
        "\tXhoI\tXhoI\t49.011\t57.653\t39.819\t0.869\t31.915\t16.197\t5.933\t2.397\t5.612\t22.168\t25.323\t27.132\t13.226\r\n",
        "\r\n"
       ]
      },
      {
       "output_type": "stream",
       "stream": "stdout",
       "text": [
        "map_4812\r\n",
        "\tXhoI\tXhoI\t45.098\t60.278\t48.14\t2.651\t41.243\t7.602\t2.258\t5.23\t22.363\t24.571\t32.816\t23.511\t26.842\t9.581\r\n",
        "\r\n"
       ]
      },
      {
       "output_type": "stream",
       "stream": "stdout",
       "text": [
        "map_5180\r\n",
        "\tXhoI\tXhoI\t99.715\t45.867\t2.478\t27.005\t21.551\t10.488\t22.071\t29.744\t30.188\t23.903\t34.781\t8.544\t31.389\t1.072\t32.93\t1.154\r\n",
        "\r\n"
       ]
      }
     ],
     "prompt_number": 29
    },
    {
     "cell_type": "code",
     "collapsed": false,
     "input": [
      "#!/usr/bin/python                                                                                                                                                                                                                                                              \n",
      "\n",
      "import sys\n",
      "from math import ceil,log,sqrt\n",
      "\n",
      "if len(sys.argv) < 4:\n",
      "    print(\"Usage: \", sys.argv[0], \"<input.valuev> <STDDEVs per bin> <STDDEV per kb> <output.valuev>\")\n",
      "    sys.exit(1)\n",
      "\n",
      "#sigma = float(sys.argv[3])\n",
      "sigma = 0.58\n",
      "#m = float(sys.argv[2]) / 2  # divide by two just because I solved the algebra in terms of a delta defined as the bin boundary to the center                                                                                                                                    \n",
      "m = 2.0\n",
      "# U(n) = 1/4 m^2 sigma^2 (4 (c_1+n)^2-1)  (c_1 is an arbitrary parameter)                                                                                                                                                                                                      \n",
      "# let c_1 = 0                                                                                                                                                                                                                                                                  \n",
      "# position = 1/4 * m**2 * sigma**2 * (4 * n**2 - 1)                                                                                                                                                                                                                            \n",
      "# formulate a function that gives a real number for bin from a position, inverse of U(n)                                                                                                                                                                                       \n",
      "# log( (4* position / m**2 / sigma**2 + 1 ) / 4 ),2 =   n                                                                                                                                                                                                                      \n",
      "\n",
      "# p = 1/4 * m**2 * sigma**2 * (4 * n**2 - 1)                                                                                                                                                                                                                                   \n",
      "# p * 4 = m**2 * sigma**2 * (4 * n**2 - 1)                                                                                                                                                                                                                                     \n",
      "# p * 4 / m**2 = sigma**2 * (4 * n**2 - 1)                                                                                                                                                                                                                                     \n",
      "# p * 4 / m**2 / sigma**2 = 4 * n**2 - 1                                                                                                                                                                                                                                       \n",
      "# (p * 4 / m**2 / sigma**2) + 1 = 4 * n**2                                                                                                                                                                                                                                     \n",
      "# ((p * 4 / m**2 / sigma**2) + 1) / 4 =  n**2                                                                                                                                                                                                                                  \n",
      "# log(((p * 4 / m**2 / sigma**2) + 1) / 4), 2) = n                                                                                                                                                                                                                             \n",
      "\n",
      "c_1 = 0\n",
      "\n",
      "def bin_pos(n):\n",
      "    \"Return the bin position\"\n",
      "    return     1/4 * m**2 * sigma**2 * (4 * (c_1 + n)**2 - 1)\n",
      "\n",
      "def inv_bin_pos(p):\n",
      "    \"Return the inverse bin position\"\n",
      "    return sqrt(((p * 4.0 / m**2 / sigma**2) + 1) / 4) - c_1\n",
      "\n",
      "#    return log((((p * 4 / m**2 / sigma**2) + 1) / 4), 2)                                                                                                                                                                                                                      \n",
      "#    return log( ((4* p / m**2 / sigma**2) + 1 ) / 4 ,2)                                                                                                                                                                                                                       \n",
      "\n",
      "def quantize(n):\n",
      "    estimated = inv_bin_pos(n)\n",
      "    bin = ceil(estimated)\n",
      "    upper = bin_pos(bin)\n",
      "    lower = bin_pos(bin-1)\n",
      "    # return the mid point                                                                                                                                                                                                                                                     \n",
      "    mid_point = lower + (upper-lower)/2\n",
      "    if lower > n or upper < n:\n",
      "        print(n,estimated, bin,lower,mid_point,upper)\n",
      "    return mid_point\n",
      "\n",
      "# for i in range(1,100):                                                                                                                                                                                                                                                       \n",
      "#     print(quantize(i))                                                                                                                                                                                                                                                       \n",
      "\n",
      "# print(\"xxxxxxxxxxxxxxxxxxxxxxxxxxx\")                                                                                                                                                                                                                                         \n",
      "# for i in range(1,100):                                                                                                                                                                                                                                                       \n",
      "#     print(i, inv_bin_pos(i), bin_pos(inv_bin_pos(i)))     "
     ],
     "language": "python",
     "metadata": {},
     "outputs": [],
     "prompt_number": 338
    },
    {
     "cell_type": "code",
     "collapsed": false,
     "input": [
      "output = open(sys.argv[4], \"w\")\n",
      "for lno,line in enumerate(open(sys.argv[1])):\n",
      "\n",
      "    if lno % 3 == 0 or lno % 3 == 2:\n",
      "        output.write(line)\n",
      "        continue\n",
      "    # otherwise, is a second line of three line sets                                                                                                                                                                                                                           \n",
      "    fields = line.strip().split(\"\\t\")\n",
      "    newfields = fields[:2] + [str(quantize(float(field))) for field in fields[2:]]\n",
      "    output.write(\"\\t\" + \"\\t\".join(newfields) + \"\\n\")\n",
      "\n",
      "\n",
      "output.close()"
     ],
     "language": "python",
     "metadata": {},
     "outputs": [],
     "prompt_number": 327
    },
    {
     "cell_type": "code",
     "collapsed": false,
     "input": [
      "quantize(11.521)"
     ],
     "language": "python",
     "metadata": {},
     "outputs": [
      {
       "output_type": "stream",
       "stream": "stdout",
       "text": [
        "(11.521, 2.968497900617261, 3.0, 0.0, 0.0, 0.0)\n"
       ]
      },
      {
       "metadata": {},
       "output_type": "pyout",
       "prompt_number": 339,
       "text": [
        "0.0"
       ]
      }
     ],
     "prompt_number": 339
    },
    {
     "cell_type": "code",
     "collapsed": false,
     "input": [
      "quantize(12.521)"
     ],
     "language": "python",
     "metadata": {},
     "outputs": [
      {
       "output_type": "stream",
       "stream": "stdout",
       "text": [
        "(12.521, 3.091139383346706, 4.0, 0.0, 0.0, 0.0)\n"
       ]
      },
      {
       "metadata": {},
       "output_type": "pyout",
       "prompt_number": 340,
       "text": [
        "0.0"
       ]
      }
     ],
     "prompt_number": 340
    },
    {
     "cell_type": "code",
     "collapsed": false,
     "input": [
      "inv_bin_pos(11.521)"
     ],
     "language": "python",
     "metadata": {},
     "outputs": [
      {
       "metadata": {},
       "output_type": "pyout",
       "prompt_number": 341,
       "text": [
        "2.968497900617261"
       ]
      }
     ],
     "prompt_number": 341
    },
    {
     "cell_type": "code",
     "collapsed": false,
     "input": [
      "np.arange(0,1,0.01)"
     ],
     "language": "python",
     "metadata": {},
     "outputs": [
      {
       "metadata": {},
       "output_type": "pyout",
       "prompt_number": 52,
       "text": [
        "array([ 0.  ,  0.01,  0.02,  0.03,  0.04,  0.05,  0.06,  0.07,  0.08,\n",
        "        0.09,  0.1 ,  0.11,  0.12,  0.13,  0.14,  0.15,  0.16,  0.17,\n",
        "        0.18,  0.19,  0.2 ,  0.21,  0.22,  0.23,  0.24,  0.25,  0.26,\n",
        "        0.27,  0.28,  0.29,  0.3 ,  0.31,  0.32,  0.33,  0.34,  0.35,\n",
        "        0.36,  0.37,  0.38,  0.39,  0.4 ,  0.41,  0.42,  0.43,  0.44,\n",
        "        0.45,  0.46,  0.47,  0.48,  0.49,  0.5 ,  0.51,  0.52,  0.53,\n",
        "        0.54,  0.55,  0.56,  0.57,  0.58,  0.59,  0.6 ,  0.61,  0.62,\n",
        "        0.63,  0.64,  0.65,  0.66,  0.67,  0.68,  0.69,  0.7 ,  0.71,\n",
        "        0.72,  0.73,  0.74,  0.75,  0.76,  0.77,  0.78,  0.79,  0.8 ,\n",
        "        0.81,  0.82,  0.83,  0.84,  0.85,  0.86,  0.87,  0.88,  0.89,\n",
        "        0.9 ,  0.91,  0.92,  0.93,  0.94,  0.95,  0.96,  0.97,  0.98,  0.99])"
       ]
      }
     ],
     "prompt_number": 52
    },
    {
     "cell_type": "code",
     "collapsed": false,
     "input": [
      "print(\"example\")"
     ],
     "language": "python",
     "metadata": {},
     "outputs": [
      {
       "output_type": "stream",
       "stream": "stdout",
       "text": [
        "example\n"
       ]
      }
     ],
     "prompt_number": 4
    },
    {
     "cell_type": "code",
     "collapsed": false,
     "input": [
      "!ls"
     ],
     "language": "python",
     "metadata": {},
     "outputs": [
      {
       "output_type": "stream",
       "stream": "stdout",
       "text": [
        "align_analysis-master.zip  --profile-dir\t\t    sim_ecoli_XhoI2.origin\t\t   sim_single_molecule_without_error  Untitled0.ipynb\r\n",
        "deletion\t\t   sample.jpg\t\t\t    sim_ecoli_XhoI2.valuev\t\t   simulate-ecoli-read.ipynb\t      With Bionano info.ipynb\r\n",
        "Oldfunctions.ipynb\t   sample.png\t\t\t    sim_ecoli_XhoI2_without_errors.valuev  temp\r\n",
        "Other calculations.ipynb   sim_ecoli_XhoI2.error_locations  sim_single_molecule\t\t\t   test_notebook.ipynb\r\n"
       ]
      }
     ],
     "prompt_number": 5
    },
    {
     "cell_type": "code",
     "collapsed": false,
     "input": [
      "lines1 = [line for line in open('sim_single_molecule')]\n",
      "lines2 = [line for line in open('sim_single_molecule_without_error')]"
     ],
     "language": "python",
     "metadata": {},
     "outputs": [],
     "prompt_number": 11
    },
    {
     "cell_type": "code",
     "collapsed": false,
     "input": [
      "NewLines1 = []\n",
      "NewLines2 = []\n",
      "for i, line in enumerate(lines1):\n",
      "    if(i%3 == 1):\n",
      "        NewLines1.append(line)\n",
      "        \n",
      "for i, line in enumerate(lines2):\n",
      "    if(i%3 == 1):\n",
      "        NewLines2.append(line)\n",
      "allerrors = 0 \n",
      "for i in range(0, len(NewLines1)):\n",
      "    allerrors = allerrors +  ( len(NewLines2[i].rstrip('\\n').split(\"\\t\")) - len(NewLines1[i].rstrip('\\n').split(\"\\t\")))"
     ],
     "language": "python",
     "metadata": {},
     "outputs": [],
     "prompt_number": 57
    },
    {
     "cell_type": "code",
     "collapsed": false,
     "input": [
      "lines = [line for line in open('corrected')]"
     ],
     "language": "python",
     "metadata": {},
     "outputs": [],
     "prompt_number": 54
    },
    {
     "cell_type": "code",
     "collapsed": false,
     "input": [
      "lines = [int(line.rstrip('\\n').split(\" \")[1]) for line in lines]"
     ],
     "language": "python",
     "metadata": {},
     "outputs": [],
     "prompt_number": 55
    },
    {
     "cell_type": "code",
     "collapsed": false,
     "input": [
      "print allerrors\n",
      "print (sum(lines))\n",
      "values = []\n",
      "values.append(allerrors)\n",
      "values.append(sum(lines))"
     ],
     "language": "python",
     "metadata": {},
     "outputs": [
      {
       "output_type": "stream",
       "stream": "stdout",
       "text": [
        "5019\n",
        "144\n"
       ]
      }
     ],
     "prompt_number": 64
    },
    {
     "cell_type": "code",
     "collapsed": false,
     "input": [
      "plt.bar(values, menMeans, width, color='r', yerr=menStd)"
     ],
     "language": "python",
     "metadata": {},
     "outputs": [
      {
       "ename": "TypeError",
       "evalue": "'int' object has no attribute '__getitem__'",
       "output_type": "pyerr",
       "traceback": [
        "\u001b[1;31m---------------------------------------------------------------------------\u001b[0m\n\u001b[1;31mTypeError\u001b[0m                                 Traceback (most recent call last)",
        "\u001b[1;32m<ipython-input-63-5d8a98b364f0>\u001b[0m in \u001b[0;36m<module>\u001b[1;34m()\u001b[0m\n\u001b[1;32m----> 1\u001b[1;33m \u001b[0mplt\u001b[0m\u001b[1;33m.\u001b[0m\u001b[0mhist\u001b[0m\u001b[1;33m(\u001b[0m\u001b[0mallerrors\u001b[0m\u001b[1;33m)\u001b[0m\u001b[1;33m\u001b[0m\u001b[0m\n\u001b[0m",
        "\u001b[1;32m/usr/lib64/python2.7/site-packages/matplotlib/pyplot.pyc\u001b[0m in \u001b[0;36mhist\u001b[1;34m(x, bins, range, normed, weights, cumulative, bottom, histtype, align, orientation, rwidth, log, color, label, stacked, hold, **kwargs)\u001b[0m\n\u001b[0;32m   2825\u001b[0m                       \u001b[0mhisttype\u001b[0m\u001b[1;33m=\u001b[0m\u001b[0mhisttype\u001b[0m\u001b[1;33m,\u001b[0m \u001b[0malign\u001b[0m\u001b[1;33m=\u001b[0m\u001b[0malign\u001b[0m\u001b[1;33m,\u001b[0m \u001b[0morientation\u001b[0m\u001b[1;33m=\u001b[0m\u001b[0morientation\u001b[0m\u001b[1;33m,\u001b[0m\u001b[1;33m\u001b[0m\u001b[0m\n\u001b[0;32m   2826\u001b[0m                       \u001b[0mrwidth\u001b[0m\u001b[1;33m=\u001b[0m\u001b[0mrwidth\u001b[0m\u001b[1;33m,\u001b[0m \u001b[0mlog\u001b[0m\u001b[1;33m=\u001b[0m\u001b[0mlog\u001b[0m\u001b[1;33m,\u001b[0m \u001b[0mcolor\u001b[0m\u001b[1;33m=\u001b[0m\u001b[0mcolor\u001b[0m\u001b[1;33m,\u001b[0m \u001b[0mlabel\u001b[0m\u001b[1;33m=\u001b[0m\u001b[0mlabel\u001b[0m\u001b[1;33m,\u001b[0m\u001b[1;33m\u001b[0m\u001b[0m\n\u001b[1;32m-> 2827\u001b[1;33m                       stacked=stacked, **kwargs)\n\u001b[0m\u001b[0;32m   2828\u001b[0m         \u001b[0mdraw_if_interactive\u001b[0m\u001b[1;33m(\u001b[0m\u001b[1;33m)\u001b[0m\u001b[1;33m\u001b[0m\u001b[0m\n\u001b[0;32m   2829\u001b[0m     \u001b[1;32mfinally\u001b[0m\u001b[1;33m:\u001b[0m\u001b[1;33m\u001b[0m\u001b[0m\n",
        "\u001b[1;32m/usr/lib64/python2.7/site-packages/matplotlib/axes.pyc\u001b[0m in \u001b[0;36mhist\u001b[1;34m(self, x, bins, range, normed, weights, cumulative, bottom, histtype, align, orientation, rwidth, log, color, label, stacked, **kwargs)\u001b[0m\n\u001b[0;32m   8247\u001b[0m         \u001b[1;31m# Massage 'x' for processing.\u001b[0m\u001b[1;33m\u001b[0m\u001b[1;33m\u001b[0m\u001b[0m\n\u001b[0;32m   8248\u001b[0m         \u001b[1;31m# NOTE: Be sure any changes here is also done below to 'weights'\u001b[0m\u001b[1;33m\u001b[0m\u001b[1;33m\u001b[0m\u001b[0m\n\u001b[1;32m-> 8249\u001b[1;33m         \u001b[1;32mif\u001b[0m \u001b[0misinstance\u001b[0m\u001b[1;33m(\u001b[0m\u001b[0mx\u001b[0m\u001b[1;33m,\u001b[0m \u001b[0mnp\u001b[0m\u001b[1;33m.\u001b[0m\u001b[0mndarray\u001b[0m\u001b[1;33m)\u001b[0m \u001b[1;32mor\u001b[0m \u001b[1;32mnot\u001b[0m \u001b[0miterable\u001b[0m\u001b[1;33m(\u001b[0m\u001b[0mx\u001b[0m\u001b[1;33m[\u001b[0m\u001b[1;36m0\u001b[0m\u001b[1;33m]\u001b[0m\u001b[1;33m)\u001b[0m\u001b[1;33m:\u001b[0m\u001b[1;33m\u001b[0m\u001b[0m\n\u001b[0m\u001b[0;32m   8250\u001b[0m             \u001b[1;31m# TODO: support masked arrays;\u001b[0m\u001b[1;33m\u001b[0m\u001b[1;33m\u001b[0m\u001b[0m\n\u001b[0;32m   8251\u001b[0m             \u001b[0mx\u001b[0m \u001b[1;33m=\u001b[0m \u001b[0mnp\u001b[0m\u001b[1;33m.\u001b[0m\u001b[0masarray\u001b[0m\u001b[1;33m(\u001b[0m\u001b[0mx\u001b[0m\u001b[1;33m)\u001b[0m\u001b[1;33m\u001b[0m\u001b[0m\n",
        "\u001b[1;31mTypeError\u001b[0m: 'int' object has no attribute '__getitem__'"
       ]
      },
      {
       "metadata": {},
       "output_type": "display_data",
       "png": "[encoded data removed]",
       "text": [
        "<matplotlib.figure.Figure at 0x7f69951106d0>"
       ]
      }
     ],
     "prompt_number": 63
    },
    {
     "cell_type": "code",
     "collapsed": false,
     "input": [],
     "language": "python",
     "metadata": {},
     "outputs": []
    }
   ],
   "metadata": {}
  }
 ]
}