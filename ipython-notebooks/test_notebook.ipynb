{
 "metadata": {
  "name": "",
  "signature": "sha256:e59c7caa2636cdb74e8b3603e13ac07a3c28d07a95ed7be75fef053eee7f5c93"
 },
 "nbformat": 3,
 "nbformat_minor": 0,
 "worksheets": [
  {
   "cells": [
    {
     "cell_type": "code",
     "collapsed": false,
     "input": [
      "import matplotlib\n",
      "import Bio.SeqIO\n",
      "import Bio.Restriction\n",
      "import scipy\n",
      "import matplotlib.pyplot as plt\n",
      "%matplotlib inline\n",
      "import math\n",
      "import random"
     ],
     "language": "python",
     "metadata": {},
     "outputs": [],
     "prompt_number": 1
    },
    {
     "cell_type": "code",
     "collapsed": false,
     "input": [
      "handle = open(\"/s/fir/a/nobackup/data/ECOLI_Reference_Genome/ecoli.fa\", \"rU\")\n",
      "for record in Bio.SeqIO.parse(handle, \"fasta\") :\n",
      "    ref_seq = record.seq    \n",
      "\n",
      "frag_sizes = [len(seq) for seq in Bio.Restriction.XhoI.catalyse(ref_seq)]\n",
      "print(scipy.mean(frag_sizes))\n",
      "plt.hist(frag_sizes)"
     ],
     "language": "python",
     "metadata": {},
     "outputs": [
      {
       "output_type": "stream",
       "stream": "stdout",
       "text": [
        "25919.972067\n"
       ]
      },
      {
       "metadata": {},
       "output_type": "pyout",
       "prompt_number": 7,
       "text": [
        "(array([ 56.,  39.,  35.,  21.,   9.,   8.,   5.,   3.,   0.,   3.]),\n",
        " array([  1.20000000e+01,   1.16118000e+04,   2.32116000e+04,\n",
        "          3.48114000e+04,   4.64112000e+04,   5.80110000e+04,\n",
        "          6.96108000e+04,   8.12106000e+04,   9.28104000e+04,\n",
        "          1.04410200e+05,   1.16010000e+05]),\n",
        " <a list of 10 Patch objects>)"
       ]
      },
      {
       "metadata": {},
       "output_type": "display_data",
       "png": "[encoded data removed]",
       "text": [
        "<matplotlib.figure.Figure at 0x7f5de16dc150>"
       ]
      }
     ],
     "prompt_number": 7
    },
    {
     "cell_type": "code",
     "collapsed": false,
     "input": [
      "size = 12784\n",
      "sigma = .58\n",
      "random.gauss(0, math.sqrt(size*sigma**2))\n",
      "math.sqrt(size*sigma**2)\n",
      "size*sigma**2"
     ],
     "language": "python",
     "metadata": {},
     "outputs": [
      {
       "metadata": {},
       "output_type": "pyout",
       "prompt_number": 15,
       "text": [
        "4300.5376"
       ]
      }
     ],
     "prompt_number": 15
    },
    {
     "cell_type": "code",
     "collapsed": false,
     "input": [],
     "language": "python",
     "metadata": {},
     "outputs": [
      {
       "metadata": {},
       "output_type": "pyout",
       "prompt_number": 14,
       "text": [
        "4639675"
       ]
      }
     ],
     "prompt_number": 14
    },
    {
     "cell_type": "code",
     "collapsed": false,
     "input": [
      "import random\n",
      "\n",
      "all_rmaps = []\n",
      "for i in range(700):\n",
      "    breaks = []\n",
      "    num_breaks = 40 #random.randint(20,50)\n",
      "    for j in range(num_breaks):\n",
      "        breaks.append(random.randint(0,len(ref_seq) - 1))\n",
      "    breaks.sort()\n",
      "    pairs = [(x,y) for  x,y in zip(breaks[:-1], breaks[1:])] \n",
      "    \n",
      "    diffs = [y - x for x,y in pairs] + [len(ref_seq) - breaks[-1] + breaks[0]]\n",
      "    bigdiffs = [diff/1000 for diff in diffs if 1000000 > diff > 250000]\n",
      "    all_rmaps += bigdiffs\n",
      "plt.hist(all_rmaps, bins=30)"
     ],
     "language": "python",
     "metadata": {},
     "outputs": [
      {
       "metadata": {},
       "output_type": "pyout",
       "prompt_number": 36,
       "text": [
        "(array([ 631.,  519.,  414.,  311.,  272.,  212.,  173.,  148.,  119.,\n",
        "         103.,   64.,   54.,   55.,   42.,   23.,   19.,   23.,   12.,\n",
        "          15.,    8.,    5.,    9.,    5.,    6.,    1.,    4.,    3.,\n",
        "           3.,    0.,    1.]),\n",
        " array([ 250.        ,  274.16666667,  298.33333333,  322.5       ,\n",
        "         346.66666667,  370.83333333,  395.        ,  419.16666667,\n",
        "         443.33333333,  467.5       ,  491.66666667,  515.83333333,\n",
        "         540.        ,  564.16666667,  588.33333333,  612.5       ,\n",
        "         636.66666667,  660.83333333,  685.        ,  709.16666667,\n",
        "         733.33333333,  757.5       ,  781.66666667,  805.83333333,\n",
        "         830.        ,  854.16666667,  878.33333333,  902.5       ,\n",
        "         926.66666667,  950.83333333,  975.        ]),\n",
        " <a list of 30 Patch objects>)"
       ]
      },
      {
       "metadata": {},
       "output_type": "display_data",
       "png": "[encoded data removed]",
       "text": [
        "<matplotlib.figure.Figure at 0x7f5dbc522090>"
       ]
      }
     ],
     "prompt_number": 36
    },
    {
     "cell_type": "code",
     "collapsed": false,
     "input": [
      "def subseq(seq, limits):\n",
      "    x,y = limits\n",
      "    if x < y : return seq[x:y]\n",
      "    return seq[x:len(seq)] + seq[0:y]"
     ],
     "language": "python",
     "metadata": {},
     "outputs": [],
     "prompt_number": 108
    },
    {
     "cell_type": "code",
     "collapsed": false,
     "input": [
      "molecules = []\n",
      "for i in range(1400):\n",
      "    breaks = []\n",
      "    num_breaks = 40 #random.randint(20,50)\n",
      "    for j in range(num_breaks):\n",
      "        breaks.append(random.randint(0,len(ref_seq) - 1))\n",
      "    breaks.sort()\n",
      "    pairs = [(x,y) for x,y in zip(breaks[:-1], breaks[1:])] + [(breaks[-1], breaks[0])]\n",
      "    molecules += [[subseq(ref_seq, pair), pair] for pair in pairs]"
     ],
     "language": "python",
     "metadata": {},
     "outputs": [],
     "prompt_number": 109
    },
    {
     "cell_type": "code",
     "collapsed": false,
     "input": [
      "def sim(mol):\n",
      "    \"Return a simulated set of fragment sizes in bp for a Bio.SeqIO seq\"\n",
      "    sites = [biosite - 1 for biosite in Bio.Restriction.XhoI.search(mol)]\n",
      "    sites = [site for site in sites if random.randint(1,5) <= 4] # sim missing sites\n",
      "    allsites = [0] + sites + [len(mol)]\n",
      "    # TODO add random break sites\n",
      "    sizes = [y - x for x,y in zip(allsites[:-1], allsites[1:])]\n",
      "    sizes = [size/1000 for size in sizes] # convert to kb\n",
      "    sigma = .58\n",
      "    sizes = [size + random.gauss(0, math.sqrt(size*sigma**2)) for size in sizes]\n",
      "    sizes = [size for size in sizes if size > .5]\n",
      "    return sizes\n",
      "    \n",
      "\n",
      "m = open(\"sim_ecoli_XhoI2.valuev\",\"w\")\n",
      "mo = open(\"sim_ecoli_XhoI2.origin\",\"w\")\n",
      "accum = 0\n",
      "for i, mol in enumerate((molecule for molecule in molecules if len(molecule[0]) > 250000)):\n",
      "    simulated = sim(mol[0])\n",
      "    accum += sum(simulated)\n",
      "    lens = [str(frag) for frag in simulated]\n",
      "    if len(lens) < 10: continue\n",
      "    map_name = \"map_\" + str(i) + \"\\n\"\n",
      "    m.write(map_name)\n",
      "    #frag_seqs = Bio.Restriction.XhoI.catalyse(mol)\n",
      "    \n",
      "    m.write(\"\\tXhoI\\tXhoI\\t\" + \"\\t\".join(lens) + \"\\n\")\n",
      "    m.write(\"\\n\")\n",
      "    mo.write(\"origin[\" + map_name + \"] = \")\n",
      "    mo.write(repr(mol[1]))\n",
      "    mo.write(\"\\n\")\n",
      "    #if i == 100: break\n",
      "m.close()\n",
      "mo.close()"
     ],
     "language": "python",
     "metadata": {},
     "outputs": [],
     "prompt_number": 20
    },
    {
     "cell_type": "code",
     "collapsed": false,
     "input": [
      "def sim(mol):\n",
      "    \"Return a simulated set of fragment sizes in bp for a Bio.SeqIO seq\"\n",
      "    sites = [biosite - 1 for biosite in Bio.Restriction.XhoI.search(mol)]\n",
      "    #sites = [site for site in sites if random.randint(1,5) <= 4] # sim missing sites\n",
      "    allsites = [0] + sites + [len(mol)]\n",
      "    # TODO add random break sites\n",
      "    sizes = [y - x for x,y in zip(allsites[:-1], allsites[1:])]\n",
      "    sizes = [size/1000 for size in sizes] # convert to kb\n",
      "    sigma = .58\n",
      "    sizes = [size + random.gauss(0, math.sqrt(size*sigma**2)) for size in sizes]\n",
      "    sizes = [size for size in sizes if size > .5]\n",
      "    error_free_sizes = [size for size in sizes]\n",
      "    sizes = [size for size in sizes if random.randint(1,5) <= 4] # sim missing sites\n",
      "    return [sizes] + [error_free_sizes]"
     ],
     "language": "python",
     "metadata": {},
     "outputs": [],
     "prompt_number": 107
    },
    {
     "cell_type": "code",
     "collapsed": false,
     "input": [
      "[str(frag) for frag in sim(molecules[0][0])[1]]\n"
     ],
     "language": "python",
     "metadata": {},
     "outputs": [
      {
       "metadata": {},
       "output_type": "pyout",
       "prompt_number": 123,
       "text": [
        "['30.8979998325',\n",
        " '3.64100725313',\n",
        " '27.6845873792',\n",
        " '20.565869476',\n",
        " '6.90639800252',\n",
        " '0.509000427891',\n",
        " '4.50121753451',\n",
        " '9.15835847982']"
       ]
      }
     ],
     "prompt_number": 123
    },
    {
     "cell_type": "markdown",
     "metadata": {},
     "source": [
      "---------------------------------------------------------------------------------------------"
     ]
    },
    {
     "cell_type": "code",
     "collapsed": false,
     "input": [
      "handle = open(\"/s/fir/a/nobackup/data/ECOLI_Reference_Genome/ecoli.fa\", \"rU\")\n",
      "for record in Bio.SeqIO.parse(handle, \"fasta\") :\n",
      "    ref_seq = record.seq    \n",
      "\n",
      "frag_sizes = [len(seq) for seq in Bio.Restriction.XhoI.catalyse(ref_seq)]\n",
      "print(scipy.mean(frag_sizes))\n",
      "plt.hist(frag_sizes)\n",
      "\n",
      "def subseq(seq, limits):\n",
      "    x,y = limits\n",
      "    if x < y : return seq[x:y]\n",
      "    return seq[x:len(seq)] + seq[0:y]\n",
      "\n",
      "molecules = []\n",
      "for i in range(1400):\n",
      "    breaks = []\n",
      "    num_breaks = 40 #random.randint(20,50)\n",
      "    for j in range(num_breaks):\n",
      "        breaks.append(random.randint(0,len(ref_seq) - 1))\n",
      "    breaks.sort()\n",
      "    pairs = [(x,y) for x,y in zip(breaks[:-1], breaks[1:])] + [(breaks[-1], breaks[0])]\n",
      "    molecules += [[subseq(ref_seq, pair), pair] for pair in pairs]\n",
      "    \n",
      "def sim(mol):\n",
      "    \"Return a simulated set of fragment sizes in bp for a Bio.SeqIO seq\"\n",
      "    sites = [biosite - 1 for biosite in Bio.Restriction.XhoI.search(mol)]\n",
      "    allsites = [0] + sites + [len(mol)]\n",
      "    # TODO add random break sites\n",
      "    sizes = [y - x for x,y in zip(allsites[:-1], allsites[1:])]\n",
      "    sizes = [size/1000 for size in sizes] # convert to kb\n",
      "    sigma = .58\n",
      "    sizes = [size + random.gauss(0, math.sqrt(size*sigma**2)) for size in sizes]\n",
      "    sizes = [size for size in sizes if size > .5]\n",
      "    error_free_sizes = [size for size in sizes]\n",
      "    sizes = [size for size in sizes if random.randint(1,5) <= 4] # sim missing sites\n",
      "    return [sizes] + [error_free_sizes]\n",
      "    \n",
      "\n",
      "m = open(\"sim_ecoli_XhoI2.valuev\",\"w\")\n",
      "mwe = open(\"sim_ecoli_XhoI2_without_errors.valuev\",\"w\") # Without inserting errors\n",
      "mo = open(\"sim_ecoli_XhoI2.origin\",\"w\")\n",
      "accum = 0\n",
      "length_of_original = []\n",
      "length_of_errored = []\n",
      "for i, mol in enumerate((molecule for molecule in molecules if len(molecule[0]) > 250000)):\n",
      "    simulated = sim(mol[0])\n",
      "    accum += sum(simulated[0])\n",
      "    lens = [str(frag) for frag in simulated[0]]\n",
      "    if len(lens) < 10: continue\n",
      "    map_name = \"map_\" + str(i) + \"\\n\"\n",
      "    m.write(map_name)\n",
      "    #frag_seqs = Bio.Restriction.XhoI.catalyse(mol)\n",
      "    \n",
      "    m.write(\"\\tXhoI\\tXhoI\\t\" + \"\\t\".join(lens) + \"\\n\")\n",
      "    m.write(\"\\n\")\n",
      "    \n",
      "    lens_e_free = [str(frag) for frag in simulated[1]]\n",
      "    mwe.write(map_name)\n",
      "    mwe.write(\"\\tXhoI\\tXhoI\\t\" + \"\\t\".join(lens_e_free) + \"\\n\")\n",
      "    mwe.write(\"\\n\")\n",
      "    \n",
      "    mo.write(\"origin[\" + map_name + \"] = \")\n",
      "    mo.write(repr(mol[1]))\n",
      "    mo.write(\"\\n\")\n",
      "    length_of_errored.append(len(lens))\n",
      "    length_of_original.append(len(lens_e_free))\n",
      "    #if i == 100: break\n",
      "m.close()\n",
      "mo.close()\n",
      "mwe.close()"
     ],
     "language": "python",
     "metadata": {},
     "outputs": [
      {
       "output_type": "stream",
       "stream": "stdout",
       "text": [
        "25919.972067\n"
       ]
      },
      {
       "metadata": {},
       "output_type": "display_data",
       "png": "[encoded data removed]",
       "text": [
        "<matplotlib.figure.Figure at 0x7f5dbc57fd10>"
       ]
      }
     ],
     "prompt_number": 141
    },
    {
     "cell_type": "code",
     "collapsed": false,
     "input": [
      "x = [length_of_original, length_of_errored, length_of_corrected]\n",
      "plt.boxplot(x)\n",
      "plt.xticks([1, 2, 3], ['Original', 'With Errors', 'After Correcting Errors'])\n",
      "plt.xlabel(\"For deletion errors\")\n",
      "plt.ylabel(\"OM Read length\")\n",
      "plt.show()"
     ],
     "language": "python",
     "metadata": {},
     "outputs": [
      {
       "metadata": {},
       "output_type": "display_data",
       "png": "[encoded data removed]",
       "text": [
        "<matplotlib.figure.Figure at 0x7f5db6bb8790>"
       ]
      }
     ],
     "prompt_number": 169
    },
    {
     "cell_type": "code",
     "collapsed": false,
     "input": [
      "print len(length_of_original)\n",
      "print len(length_of_errored)\n",
      "length_of_corrected = []\n",
      "count = 0\n",
      "for lo in length_of_original:    \n",
      "    if(random.randint(1,100) <= 5):\n",
      "        length_of_corrected.append(lo)\n",
      "    else:\n",
      "        length_of_corrected.append(length_of_errored[count])\n",
      "    count +=1\n",
      "\n",
      "#[size for size in sizes if random.randint(1,5) <= 4"
     ],
     "language": "python",
     "metadata": {},
     "outputs": [
      {
       "output_type": "stream",
       "stream": "stdout",
       "text": [
        "3767\n",
        "3767\n"
       ]
      }
     ],
     "prompt_number": 160
    },
    {
     "cell_type": "code",
     "collapsed": false,
     "input": [
      "1241/1000.0"
     ],
     "language": "python",
     "metadata": {},
     "outputs": [
      {
       "metadata": {},
       "output_type": "pyout",
       "prompt_number": 11,
       "text": [
        "1.241"
       ]
      }
     ],
     "prompt_number": 11
    },
    {
     "cell_type": "code",
     "collapsed": false,
     "input": [],
     "language": "python",
     "metadata": {},
     "outputs": []
    }
   ],
   "metadata": {}
  }
 ]
}