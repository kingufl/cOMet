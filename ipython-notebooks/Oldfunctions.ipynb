{
 "metadata": {
  "name": "",
  "signature": "sha256:e712224117778b65d204edeb3965514a2afb849b14b1deb2eaf13f03a2f8f9cd"
 },
 "nbformat": 3,
 "nbformat_minor": 0,
 "worksheets": [
  {
   "cells": [
    {
     "cell_type": "code",
     "collapsed": false,
     "input": [
      "import matplotlib\n",
      "import Bio.SeqIO\n",
      "import Bio.Restriction\n",
      "import scipy\n",
      "import matplotlib.pyplot as plt\n",
      "%matplotlib inline\n",
      "import math\n",
      "import random\n",
      "import numpy as np"
     ],
     "language": "python",
     "metadata": {},
     "outputs": [],
     "prompt_number": 1
    },
    {
     "cell_type": "code",
     "collapsed": false,
     "input": [
      "def sim(mol):\n",
      "    \"Return a simulated set of fragment sizes in bp for a Bio.SeqIO seq\"\n",
      "    sites = [biosite - 1 for biosite in Bio.Restriction.XhoI.search(mol)]\n",
      "    sites = [site for site in sites if random.randint(1,5) <= 4] # sim missing sites\n",
      "    allsites = [0] + sites + [len(mol)]\n",
      "    # TODO add random break sites\n",
      "    sizes = [y - x for x,y in zip(allsites[:-1], allsites[1:])]    \n",
      "    sigma = .58\n",
      "    sizes = [size + random.gauss(0, math.sqrt(size*sigma**2)) for size in sizes]\n",
      "    sizes = [size/1000.0 for size in sizes] # convert to kb\n",
      "    sizes = [size for size in sizes if size > .5]\n",
      "    error_free_sizes = [size for size in sizes]\n",
      "    sizes = [size for size in sizes if random.randint(1,5) <= 4] # sim missing sites\n",
      "    return [sizes] + [error_free_sizes] + [sites]"
     ],
     "language": "python",
     "metadata": {},
     "outputs": [],
     "prompt_number": 2
    },
    {
     "cell_type": "code",
     "collapsed": false,
     "input": [],
     "language": "python",
     "metadata": {},
     "outputs": []
    }
   ],
   "metadata": {}
  }
 ]
}