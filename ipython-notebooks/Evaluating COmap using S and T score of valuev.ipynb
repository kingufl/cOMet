{
 "cells": [
  {
   "cell_type": "markdown",
   "metadata": {},
   "source": [
    "# Evaluating COmap using S and T score of valuev"
   ]
  },
  {
   "cell_type": "code",
   "execution_count": 293,
   "metadata": {
    "collapsed": false
   },
   "outputs": [],
   "source": [
    "import subprocess as sp\n",
    "import matplotlib\n",
    "import Bio.SeqIO\n",
    "import Bio.Restriction\n",
    "import scipy\n",
    "import matplotlib.pyplot as plt\n",
    "%matplotlib inline\n",
    "import math\n",
    "import random\n",
    "import numpy as np"
   ]
  },
  {
   "cell_type": "code",
   "execution_count": 237,
   "metadata": {
    "collapsed": false
   },
   "outputs": [],
   "source": [
    "def FindSandTScores(infile_e, infile_w_e, loc = \"/s/oak/b/nobackup/darshanw/valuev_optmap_alignment-master/ovlp/\"):     \n",
    "    prg = loc + \"ovlp\"\n",
    "    output = loc+ \"TempOutput\"\n",
    "    lines_e = [line for line in open(infile_e)]\n",
    "    lines_w_e = [line for line in open(infile_w_e)]\n",
    "    temp_file = loc + \"temp\"\n",
    "\n",
    "    Naligned = 0\n",
    "    Sscores = []\n",
    "    Tscores = []\n",
    "    #for i in range(0, 2):\n",
    "    for i in range(0, len(lines_e)/3):\n",
    "        t = open(temp_file, 'w')\n",
    "        for j in range(0,3):\n",
    "            t.write(lines_e[i*3+j])\n",
    "        for j in range(0,3):\n",
    "            t.write(lines_w_e[i*3+j])\n",
    "        t.close()\n",
    "        rvalue = subprocess.check_output([prg, temp_file, output, \"0\", \"1\"], stderr=subprocess.STDOUT)\n",
    "        rvalue = rvalue.strip().split(\"\\n\")\n",
    "        scores = rvalue[-1].strip().split(\":\")\n",
    "        if(len(scores) > 2):\n",
    "            Naligned += 1\n",
    "            continue\n",
    "        else:\n",
    "            Tscores.append([float(scores[1]), i])\n",
    "            scores = rvalue[-2].strip().split(\":\")            \n",
    "            Sscores.append([float(scores[1]), i])\n",
    "    \n",
    "    return([Sscores, Tscores, Naligned])"
   ]
  },
  {
   "cell_type": "code",
   "execution_count": 284,
   "metadata": {
    "collapsed": false
   },
   "outputs": [],
   "source": [
    "S1, T1, Na1 = FindSandTScores(\"/s/oak/b/nobackup/darshanw/COmap/test/sim_single_molecule_100_newDel\", \"/s/oak/b/nobackup/darshanw/COmap/test/sim_single_molecule_100_efree\")"
   ]
  },
  {
   "cell_type": "code",
   "execution_count": 285,
   "metadata": {
    "collapsed": false
   },
   "outputs": [
    {
     "data": {
      "text/plain": [
       "(395, 395, 174)"
      ]
     },
     "execution_count": 285,
     "metadata": {},
     "output_type": "execute_result"
    }
   ],
   "source": [
    "len(S1), len(T1), Na1"
   ]
  },
  {
   "cell_type": "code",
   "execution_count": 286,
   "metadata": {
    "collapsed": false
   },
   "outputs": [
    {
     "data": {
      "text/plain": [
       "([165.941, 3], [36.6, 3])"
      ]
     },
     "execution_count": 286,
     "metadata": {},
     "output_type": "execute_result"
    }
   ],
   "source": [
    "S1[2], T1[2]"
   ]
  },
  {
   "cell_type": "code",
   "execution_count": 289,
   "metadata": {
    "collapsed": false
   },
   "outputs": [],
   "source": [
    "S2, T2, Na2 = FindSandTScores(\"/s/oak/b/nobackup/darshanw/COmap/test/sim_single_molecule_100_corrected\", \"/s/oak/b/nobackup/darshanw/COmap/test/sim_single_molecule_100_efree\")"
   ]
  },
  {
   "cell_type": "code",
   "execution_count": 290,
   "metadata": {
    "collapsed": false
   },
   "outputs": [
    {
     "data": {
      "text/plain": [
       "(343, 343, 226)"
      ]
     },
     "execution_count": 290,
     "metadata": {},
     "output_type": "execute_result"
    }
   ],
   "source": [
    "len(S2), len(T2), Na2"
   ]
  },
  {
   "cell_type": "code",
   "execution_count": 291,
   "metadata": {
    "collapsed": false
   },
   "outputs": [
    {
     "data": {
      "text/plain": [
       "([53.2119, 0],)"
      ]
     },
     "execution_count": 291,
     "metadata": {},
     "output_type": "execute_result"
    }
   ],
   "source": [
    "S2[0],"
   ]
  },
  {
   "cell_type": "code",
   "execution_count": 183,
   "metadata": {
    "collapsed": false
   },
   "outputs": [
    {
     "data": {
      "text/plain": [
       "82.76168539192409"
      ]
     },
     "execution_count": 183,
     "metadata": {},
     "output_type": "execute_result"
    }
   ],
   "source": [
    "add = 0.0\n",
    "for x in S1:\n",
    "    add=add+x[0]\n",
    "avg = add/len(S1)\n",
    "avg"
   ]
  },
  {
   "cell_type": "code",
   "execution_count": 184,
   "metadata": {
    "collapsed": false
   },
   "outputs": [
    {
     "data": {
      "text/plain": [
       "75.77041186186187"
      ]
     },
     "execution_count": 184,
     "metadata": {},
     "output_type": "execute_result"
    }
   ],
   "source": [
    "add = 0.0\n",
    "for x in S2:\n",
    "    add=add+x[0]\n",
    "avg = add/len(S2)\n",
    "avg"
   ]
  },
  {
   "cell_type": "code",
   "execution_count": 192,
   "metadata": {
    "collapsed": false
   },
   "outputs": [],
   "source": [
    "S1y =  [y[1] for y in S1]\n",
    "S1y"
   ]
  },
  {
   "cell_type": "code",
   "execution_count": 221,
   "metadata": {
    "collapsed": false
   },
   "outputs": [],
   "source": [
    "def getAvg(S):\n",
    "    add = 0.0\n",
    "    for x in S:\n",
    "        add=add+x[0]\n",
    "    avg = add/len(S)\n",
    "    return(avg)"
   ]
  },
  {
   "cell_type": "code",
   "execution_count": 222,
   "metadata": {
    "collapsed": false
   },
   "outputs": [
    {
     "data": {
      "text/plain": [
       "84.15731142333522"
      ]
     },
     "execution_count": 222,
     "metadata": {},
     "output_type": "execute_result"
    }
   ],
   "source": [
    "getAvg(S1)"
   ]
  },
  {
   "cell_type": "code",
   "execution_count": 351,
   "metadata": {
    "collapsed": false
   },
   "outputs": [],
   "source": [
    "A = [[30.1, 1], [49.23, 2], [80.53, 3],[20.32, 5]]\n",
    "B = [[30.1, 1], [49.23, 2], [80.53, 3],[20.32, 5]]\n",
    "def getCorrespondingValAndPlot(A, B):\n",
    "    out = []\n",
    "    if(len(A) == 0 or len(B) == 0):\n",
    "        return(out);\n",
    "    Avalues = list(zip(*A)[0])\n",
    "    Aindex = list(zip(*A)[1])\n",
    "    Bvalues = list(zip(*B)[0])\n",
    "    Bindex = list(zip(*B)[1])\n",
    "    \n",
    "    for i in range(0, len(Bindex)):\n",
    "        try:\n",
    "            indx = Aindex.index(Bindex[i])\n",
    "        except:\n",
    "            continue\n",
    "        out.append([Avalues[indx], Bvalues[i], Bindex[i]])\n",
    "\n",
    "    plt.plot(zip(*out)[0],zip(*out)[1], \"*\")\n",
    "    plt.plot([0, 400], [0, 400], 'r-')\n",
    "    plt.xlabel(\"S-score before correction\")\n",
    "    plt.ylabel(\"S-score after correction\")\n",
    "    plt.show()\n",
    "\n",
    "    improv = []\n",
    "    for v in out:\n",
    "        improv.append(v[1]/v[0])\n",
    "    plt.hist(improv, 10)\n",
    "    plt.xlabel(\"Ratio of S-score after and before correction\")\n",
    "    plt.ylabel(\"Frequency\")\n",
    "    plt.tight_layout()    \n",
    "    plt.show()    "
   ]
  },
  {
   "cell_type": "code",
   "execution_count": 352,
   "metadata": {
    "collapsed": false
   },
   "outputs": [
    {
     "data": {
      "image/png": "[encoded data removed]",
      "text/plain": [
       "<matplotlib.figure.Figure at 0x7f94b7947c50>"
      ]
     },
     "metadata": {},
     "output_type": "display_data"
    },
    {
     "data": {
      "image/png": "[encoded data removed]",
      "text/plain": [
       "<matplotlib.figure.Figure at 0x7f94b7339d10>"
      ]
     },
     "metadata": {},
     "output_type": "display_data"
    }
   ],
   "source": [
    "getCorrespondingValAndPlot(S1,S2)"
   ]
  },
  {
   "cell_type": "code",
   "execution_count": null,
   "metadata": {
    "collapsed": true
   },
   "outputs": [],
   "source": []
  }
 ],
 "metadata": {
  "kernelspec": {
   "display_name": "Python 2",
   "language": "python",
   "name": "python2"
  },
  "language_info": {
   "codemirror_mode": {
    "name": "ipython",
    "version": 2
   },
   "file_extension": ".py",
   "mimetype": "text/x-python",
   "name": "python",
   "nbconvert_exporter": "python",
   "pygments_lexer": "ipython2",
   "version": "2.7.10"
  }
 },
 "nbformat": 4,
 "nbformat_minor": 0
}
