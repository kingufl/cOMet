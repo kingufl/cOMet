{
 "cells": [
  {
   "cell_type": "code",
   "execution_count": 1,
   "metadata": {
    "collapsed": false
   },
   "outputs": [],
   "source": [
    "import matplotlib\n",
    "import Bio.SeqIO\n",
    "import Bio.Restriction\n",
    "import scipy\n",
    "import matplotlib.pyplot as plt\n",
    "%matplotlib inline\n",
    "import math\n",
    "import random\n",
    "import numpy as np"
   ]
  },
  {
   "cell_type": "code",
   "execution_count": 9,
   "metadata": {
    "collapsed": false
   },
   "outputs": [],
   "source": [
    "def signmaS(length):\n",
    "    singma = (0.2*0.2) + length * 0.1 * (-0.1) + length*length*0.04*0.04\n",
    "    return(singma)    \n",
    "\n",
    "values = []\n",
    "lengths = []\n",
    "for length in np.arange(0,50, 0.5):\n",
    "    values.append(signmaS(length))\n",
    "    lengths.append(length)"
   ]
  },
  {
   "cell_type": "code",
   "execution_count": 12,
   "metadata": {
    "collapsed": false
   },
   "outputs": [
    {
     "data": {
      "text/plain": [
       "0.31622776601683794"
      ]
     },
     "execution_count": 12,
     "metadata": {},
     "output_type": "execute_result"
    }
   ],
   "source": [
    "math.sqrt(signmaS(10))"
   ]
  },
  {
   "cell_type": "code",
   "execution_count": 11,
   "metadata": {
    "collapsed": false
   },
   "outputs": [
    {
     "data": {
      "text/plain": [
       "<matplotlib.text.Text at 0x7fbb5647f950>"
      ]
     },
     "execution_count": 11,
     "metadata": {},
     "output_type": "execute_result"
    },
    {
     "data": {
      "image/png": "[encoded data removed]",
      "text/plain": [
       "<matplotlib.figure.Figure at 0x7fbb5655d090>"
      ]
     },
     "metadata": {},
     "output_type": "display_data"
    }
   ],
   "source": [
    "plt.plot(lengths,values)\n",
    "plt.xlabel(\"Fragment length in Kbp\")\n",
    "plt.ylabel(\"Varience $\\sigma^2$\")"
   ]
  },
  {
   "cell_type": "code",
   "execution_count": 46,
   "metadata": {
    "collapsed": false
   },
   "outputs": [
    {
     "data": {
      "text/plain": [
       "<matplotlib.text.Text at 0x7f7b7bfaa250>"
      ]
     },
     "execution_count": 46,
     "metadata": {},
     "output_type": "execute_result"
    },
    {
     "data": {
      "image/png": "[encoded data removed]",
      "text/plain": [
       "<matplotlib.figure.Figure at 0x7f7b7be19e90>"
      ]
     },
     "metadata": {},
     "output_type": "display_data"
    }
   ],
   "source": [
    "plt.plot(lengths,values)\n",
    "plt.xlabel(\"Fragment lengths in Kb\")\n",
    "plt.ylabel(\"Varience $\\sigma^2$\")"
   ]
  },
  {
   "cell_type": "code",
   "execution_count": 24,
   "metadata": {
    "collapsed": false
   },
   "outputs": [
    {
     "name": "stdout",
     "output_type": "stream",
     "text": [
      "0.5   : 0\n",
      "2.00519101778   : 1\n",
      "3.30457808438   : 2\n",
      "4.55489893309   : 3\n",
      "5.88507492227   : 4\n",
      "7.41480842528   : 5\n",
      "9.27072101152   : 6\n",
      "11.6004498377   : 7\n",
      "14.5863709342   : 8\n",
      "18.460848141   : 9\n",
      "23.5247671364   : 10\n",
      "30.1711053102   : 11\n",
      "38.9155184749   : 12\n",
      "50.4363877208   : 13\n",
      "65.6274647921   : 14\n",
      "85.6672140411   : 15\n",
      "112.11023639   : 16\n",
      "147.007870282   : 17\n",
      "193.06732652   : 18\n",
      "253.861702494   : 19\n"
     ]
    }
   ],
   "source": [
    "def bucketupper(lower, w):\n",
    "    return(lower + 2 * w * math.sqrt(signmaS(lower)))\n",
    "l = 0.5\n",
    "for i in range(0, 20):\n",
    "    print(str(l) + \"   : \"+str(i))\n",
    "    l = bucketupper(l, 4)"
   ]
  },
  {
   "cell_type": "code",
   "execution_count": null,
   "metadata": {
    "collapsed": true
   },
   "outputs": [],
   "source": [
    "for length in np.arange(0,50, 0.5):\n",
    "    for i in range(0, 100):\n",
    "        "
   ]
  },
  {
   "cell_type": "code",
   "execution_count": 28,
   "metadata": {
    "collapsed": false
   },
   "outputs": [],
   "source": [
    "d = 0\n",
    "i = 0\n",
    "for line in open(\"sim_single_molecule_longer_k_3_r_r\"):\n",
    "    d+= int(line.strip().split(\" \")[2])     \n",
    "    i += int(line.strip().split(\" \")[6])"
   ]
  },
  {
   "cell_type": "code",
   "execution_count": 29,
   "metadata": {
    "collapsed": false
   },
   "outputs": [
    {
     "name": "stdout",
     "output_type": "stream",
     "text": [
      "982\n",
      "425\n"
     ]
    }
   ],
   "source": [
    "print d\n",
    "print i"
   ]
  },
  {
   "cell_type": "code",
   "execution_count": 7,
   "metadata": {
    "collapsed": false
   },
   "outputs": [],
   "source": [
    "def findInsertionDeletion(fname):\n",
    "    deletions = 0\n",
    "    insertions = 0\n",
    "    for line in open(fname):\n",
    "        deletions += int(line.strip().split(\" \")[2])\n",
    "        insertions += int(line.strip().split(\" \")[6])\n",
    "    print(\"Deletions: \"+ str(deletions))\n",
    "    print(\"Insertions: \"+ str(insertions))"
   ]
  },
  {
   "cell_type": "code",
   "execution_count": 8,
   "metadata": {
    "collapsed": false
   },
   "outputs": [
    {
     "name": "stdout",
     "output_type": "stream",
     "text": [
      "Deletions: 982\n",
      "Insertions: 425\n"
     ]
    }
   ],
   "source": [
    "findInsertionDeletion(\"sim_single_molecule_longer_k_3_r_r\")"
   ]
  },
  {
   "cell_type": "code",
   "execution_count": 54,
   "metadata": {
    "collapsed": false
   },
   "outputs": [],
   "source": [
    "def noOfFragments(line):\n",
    "    return((len(line.strip().split(\"\\t\"))) - 2)\n",
    "\n",
    "def findTotalErrors(file1, file1_w_e):\n",
    "    errors = []\n",
    "    e_count = 0\n",
    "    lines = [line.strip() for i,line in enumerate(open(file1)) if (i%3==1)]\n",
    "    lines_w_e = [line.strip() for i,line in enumerate(open(file1_w_e)) if (i%3==1)]\n",
    "    for i in range(len(lines)):\n",
    "        errors.append(noOfFragments(lines_w_e[i]) - noOfFragments(lines[i]))\n",
    "    for e in errors:\n",
    "        e_count += int(e)\n",
    "    return(e_count)"
   ]
  },
  {
   "cell_type": "code",
   "execution_count": 35,
   "metadata": {
    "collapsed": false
   },
   "outputs": [],
   "source": [
    "def findNoOfFragments(fname):\n",
    "    lengths = []\n",
    "    lines = [line.strip() for i,line in enumerate(open(fname)) if (i%3==1)]       \n",
    "    for line in lines:\n",
    "         lengths.append((len(line.split(\"\\t\"))) - 2)\n",
    "    count = 0.0\n",
    "    for length in lengths:\n",
    "        count += length\n",
    "    print(count/len(lines))\n",
    "    plt.hist(lengths, bins = 50)"
   ]
  },
  {
   "cell_type": "code",
   "execution_count": 57,
   "metadata": {
    "collapsed": false
   },
   "outputs": [
    {
     "data": {
      "text/plain": [
       "1816"
      ]
     },
     "execution_count": 57,
     "metadata": {},
     "output_type": "execute_result"
    }
   ],
   "source": [
    "findTotalErrors(\"sim_single_molecule_longer\",\"sim_single_molecule_without_error_longer\")"
   ]
  },
  {
   "cell_type": "code",
   "execution_count": 237,
   "metadata": {
    "collapsed": false
   },
   "outputs": [],
   "source": [
    "read_c = \"\tXhoI\tXhoI\t85.856\t28.703\t4.878\t24.503\t84.549\t3.166\t25.931\t24.461\t68.447\t70.083\t30.152\t24.183\t11.068\t3.284\t6.952\t28.481\t19.404\t44.525\t38.583\t36.019\t76.733\t3.374\t13.436\t27.244\t13.969\t7.883\t1.62\t58.762\t3.167\t4.471\"\n",
    "read = \"\tXhoI\tXhoI\t88.487\t28.277\t4.761\t108.091\t3.003\t25.838\t23.999\t67.249\t68.225\t30.854\t25.782\t11.655\t3.409\t34.424\t20.933\t43.642\t36.799\t36.273\t74.788\t3.333\t13.555\t27.912\t13.954\t7.864\t1.96\t52.081\t3.058\t4.219\""
   ]
  },
  {
   "cell_type": "code",
   "execution_count": 499,
   "metadata": {
    "collapsed": false
   },
   "outputs": [],
   "source": [
    "def signmaS(length):\n",
    "    singma = float((0.2*0.2) + (length * 0.1 * (-0.1)) + (length*length*0.04*0.04))\n",
    "    return(singma)\n",
    "\n",
    "def giveBellRange(sigma):\n",
    "    return(3 * math.sqrt(sigma))\n",
    "\n",
    "def findErrors(c_read, read):\n",
    "    deletion_index = []\n",
    "    deletion_count = 0\n",
    "    \n",
    "    c_frag = c_read.strip().split(\"\\t\")\n",
    "    del c_frag[0:2]\n",
    "    c_frag = [float(f) for f in c_frag]\n",
    "    \n",
    "    frag = read.strip().split(\"\\t\")\n",
    "    del frag[0:2]\n",
    "    frag = [float(f) for f in frag]\n",
    "    print(frag)\n",
    "    print(c_frag)\n",
    "    j = 0\n",
    "    for i, c_v in enumerate(c_frag):\n",
    "        d3 = giveBellRange(signmaS(c_v))                \n",
    "        aggr = 0.0\n",
    "        while(True):\n",
    "            aggr = aggr + frag[j]\n",
    "            if(aggr <= (c_v + d3) and aggr >= (c_v - d3)):\n",
    "               j+=1;\n",
    "               break;                                    \n",
    "            else:\n",
    "                deletion_index.append(j)\n",
    "                deletion_count+=1\n",
    "                j+=1\n",
    "                print(j)\n",
    "    return([deletion_count,deletion_index])"
   ]
  },
  {
   "cell_type": "code",
   "execution_count": 249,
   "metadata": {
    "collapsed": false
   },
   "outputs": [
    {
     "name": "stdout",
     "output_type": "stream",
     "text": [
      "[85.856, 28.703, 4.878, 24.503, 84.549, 3.166, 25.931, 24.461, 68.447, 70.083, 30.152, 24.183, 11.068, 3.284, 6.952, 28.481, 19.404, 44.525, 38.583, 36.019, 76.733, 3.374, 13.436, 27.244, 13.969, 7.883, 1.62, 58.762, 3.167, 4.471]\n",
      "[88.487, 28.277, 4.761, 108.091, 3.003, 25.838, 23.999, 67.249, 68.225, 30.854, 25.782, 11.655, 3.409, 34.424, 20.933, 43.642, 36.799, 36.273, 74.788, 3.333, 13.555, 27.912, 13.954, 7.864, 1.96, 52.081, 3.058, 4.219]\n",
      "4\n",
      "15\n",
      "28\n",
      "29\n",
      "30\n"
     ]
    },
    {
     "ename": "IndexError",
     "evalue": "list index out of range",
     "output_type": "error",
     "traceback": [
      "\u001b[1;31m---------------------------------------------------------------------------\u001b[0m\n\u001b[1;31mIndexError\u001b[0m                                Traceback (most recent call last)",
      "\u001b[1;32m<ipython-input-249-40a440e20495>\u001b[0m in \u001b[0;36m<module>\u001b[1;34m()\u001b[0m\n\u001b[1;32m----> 1\u001b[1;33m \u001b[0mfindErrors\u001b[0m\u001b[1;33m(\u001b[0m\u001b[0mread\u001b[0m\u001b[1;33m,\u001b[0m\u001b[0mread_c\u001b[0m\u001b[1;33m)\u001b[0m\u001b[1;33m\u001b[0m\u001b[0m\n\u001b[0m",
      "\u001b[1;32m<ipython-input-248-f5d68ea93d2a>\u001b[0m in \u001b[0;36mfindErrors\u001b[1;34m(c_read, read)\u001b[0m\n\u001b[0;32m     24\u001b[0m         \u001b[0maggr\u001b[0m \u001b[1;33m=\u001b[0m \u001b[1;36m0.0\u001b[0m\u001b[1;33m\u001b[0m\u001b[0m\n\u001b[0;32m     25\u001b[0m         \u001b[1;32mwhile\u001b[0m\u001b[1;33m(\u001b[0m\u001b[0mTrue\u001b[0m\u001b[1;33m)\u001b[0m\u001b[1;33m:\u001b[0m\u001b[1;33m\u001b[0m\u001b[0m\n\u001b[1;32m---> 26\u001b[1;33m             \u001b[0maggr\u001b[0m \u001b[1;33m=\u001b[0m \u001b[0maggr\u001b[0m \u001b[1;33m+\u001b[0m \u001b[0mfrag\u001b[0m\u001b[1;33m[\u001b[0m\u001b[0mj\u001b[0m\u001b[1;33m]\u001b[0m\u001b[1;33m\u001b[0m\u001b[0m\n\u001b[0m\u001b[0;32m     27\u001b[0m             \u001b[1;32mif\u001b[0m\u001b[1;33m(\u001b[0m\u001b[0maggr\u001b[0m \u001b[1;33m<=\u001b[0m \u001b[1;33m(\u001b[0m\u001b[0mc_v\u001b[0m \u001b[1;33m+\u001b[0m \u001b[0md3\u001b[0m\u001b[1;33m)\u001b[0m \u001b[1;32mand\u001b[0m \u001b[0maggr\u001b[0m \u001b[1;33m>=\u001b[0m \u001b[1;33m(\u001b[0m\u001b[0mc_v\u001b[0m \u001b[1;33m-\u001b[0m \u001b[0md3\u001b[0m\u001b[1;33m)\u001b[0m\u001b[1;33m)\u001b[0m\u001b[1;33m:\u001b[0m\u001b[1;33m\u001b[0m\u001b[0m\n\u001b[0;32m     28\u001b[0m                \u001b[0mj\u001b[0m\u001b[1;33m+=\u001b[0m\u001b[1;36m1\u001b[0m\u001b[1;33m;\u001b[0m\u001b[1;33m\u001b[0m\u001b[0m\n",
      "\u001b[1;31mIndexError\u001b[0m: list index out of range"
     ]
    }
   ],
   "source": [
    "findErrors(read,read_c)"
   ]
  },
  {
   "cell_type": "code",
   "execution_count": 370,
   "metadata": {
    "collapsed": false
   },
   "outputs": [],
   "source": []
  },
  {
   "cell_type": "code",
   "execution_count": 366,
   "metadata": {
    "collapsed": false
   },
   "outputs": [],
   "source": [
    "c_read = \"\tXhoI\tXhoI\t2.412\t8.396\t4.396\t48.964\t34.111\t55.638\t56.159\t48.165\t2.099\t13.095\t111.629\t66.318\t116.01\t20.27\"\n",
    "read = \"\tXhoI\tXhoI\t15.489\t49.737\t33.673\t54.262\t57.077\t47.537\t2.08\t13.176\t174.37\t115.055\t20.503\""
   ]
  },
  {
   "cell_type": "code",
   "execution_count": 372,
   "metadata": {
    "collapsed": false
   },
   "outputs": [],
   "source": [
    "c_read = \"\tXhoI\tXhoI\t85.856\t28.703\t4.878\t24.503\t84.549\t3.166\t25.931\t24.461\t68.447\t70.083\t30.152\t24.183\t11.068\t3.284\t6.952\t28.481\t19.404\t44.525\t38.583\t36.019\t76.733\t3.374\t13.436\t27.244\t13.969\t7.883\t1.62\t58.762\t3.167\t4.471\"\n",
    "read = \"\tXhoI\tXhoI\t88.487\t28.277\t4.761\t108.091\t3.003\t25.838\t23.999\t67.249\t68.225\t30.854\t25.782\t11.655\t3.409\t34.424\t20.933\t43.642\t36.799\t36.273\t74.788\t3.333\t13.555\t27.912\t13.954\t7.864\t1.96\t52.081\t3.058\t4.219\""
   ]
  },
  {
   "cell_type": "code",
   "execution_count": 374,
   "metadata": {
    "collapsed": false
   },
   "outputs": [],
   "source": [
    "c_read = \"\tXhoI\tXhoI\t5.458\t36.938\t19.058\t4.897\t32.535\t3.642\t4.556\t17.626\t3.007\t12.754\t28.213\t0.73\t26.3\t33.522\t9.614\t27.279\t28.887\t13.417\t2.786\t21.812\t24.018\t7.009\t14.835\t72.12\t9.739\t10.36\t64.508\t11.884\t18.627\t28.582\t1.557\t2.506\t1.913\t11.641\t15.44\t8.697\t6.17\t45.312\t4.218\t15.062\t20.234\t12.854\t12.396\t48.964\t34.111\t55.638\t56.159\t40.422\"\n",
    "read = \"\tXhoI\tXhoI\t43.904\t17.833\t5.052\t31.857\t8.315\t21.459\t12.728\t27.013\t0.714\t62.408\t9.538\t52.917\t13.121\t2.677\t46.168\t6.965\t14.937\t69.98\t9.231\t10.549\t70.151\t30.603\t27.33\t1.557\t2.267\t13.717\t14.854\t7.904\t6.629\t44.587\t4.063\t14.407\t20.164\t24.548\t49.608\t34.996\t56.041\t54.079\t39.948\""
   ]
  },
  {
   "cell_type": "code",
   "execution_count": 857,
   "metadata": {
    "collapsed": false
   },
   "outputs": [],
   "source": [
    "def noOfFragments(line):\n",
    "    return((len(line.strip().split(\"\\t\"))) - 2)\n",
    "\n",
    "def signmaS(length):\n",
    "    singma = float((0.2*0.2) + (length * 0.1 * (-0.1)) + (length*length*0.04*0.04))\n",
    "    return(singma)\n",
    "\n",
    "def giveBellRange(sigma):\n",
    "    return(4.0 * math.sqrt(sigma))\n",
    "\n",
    "def findErrors(read, c_read):\n",
    "    deletion_index = []\n",
    "    deletion_count = 0\n",
    "    \n",
    "    c_frag = c_read.strip().split(\"\\t\")\n",
    "    del c_frag[0:2]\n",
    "    c_frag = [float(f) for f in c_frag]\n",
    "    \n",
    "    frag = read.strip().split(\"\\t\")\n",
    "    del frag[0:2]\n",
    "    frag = [float(f) for f in frag]\n",
    "    j = 0\n",
    "    pad = 0\n",
    "    for i, c_v in enumerate(c_frag):\n",
    "        c_v = c_v + pad\n",
    "        d3 = giveBellRange(signmaS(c_v))\n",
    "        if(j>=len(frag)):\n",
    "            break;\n",
    "        #print(str(i)+\" => \"+str(frag[j]) + \" \"+ str(c_v - d3) + \" \"+ str(c_v + d3) + \" d3: \"+str(d3)+\" c_v: \"+str(c_v) + \" Count = \"+ str(deletion_count))\n",
    "        if(frag[j] <= (c_v + d3) and frag[j] >= (c_v - d3)):\n",
    "            j+=1\n",
    "            pad = 0\n",
    "        elif((c_v - d3) > frag[j]):            \n",
    "            pad = c_frag[i]\n",
    "            d3 = giveBellRange(signmaS(c_frag[i]))\n",
    "            if(frag[j] <= (c_frag[i] + d3) and frag[j] >= (c_frag[i] - d3)):\n",
    "                j+=1        \n",
    "                pad = 0\n",
    "        else:\n",
    "            pad = pad + c_frag[i]\n",
    "            deletion_index.append(i)\n",
    "            deletion_count+=1     \n",
    "            \n",
    "    return([deletion_count,deletion_index, (noOfFragments(c_read) - noOfFragments(read))])\n",
    "\n",
    "def errors(fname, c_fname):    \n",
    "    lines = [line for i,line in enumerate(open(fname)) if (i%3==1)]\n",
    "    c_lines = [line for i,line in enumerate(open(c_fname)) if (i%3==1)]\n",
    "    notFineList = []\n",
    "    FineList = []\n",
    "    fullList = []\n",
    "    \n",
    "    #print(lines[114])\n",
    "    #print(c_lines[114])\n",
    "    #print(findErrors(lines[114], c_lines[114]))\n",
    "    #return    \n",
    "    for i,line in enumerate(lines):\n",
    "        #print(lines[i])\n",
    "        #print(c_lines[i])\n",
    "        #print(findErrors(lines[i], c_lines[i]))\n",
    "        #print(i)\n",
    "        E = findErrors(lines[i], c_lines[i])\n",
    "        E = [i] + E # add read number\n",
    "        fullList.append(E)\n",
    "        if(E[1] == E[3]):\n",
    "            FineList.append(E)\n",
    "        else:\n",
    "            notFineList.append(E)            \n",
    "    return([FineList, notFineList, fullList])"
   ]
  },
  {
   "cell_type": "code",
   "execution_count": 939,
   "metadata": {
    "collapsed": false
   },
   "outputs": [
    {
     "name": "stdout",
     "output_type": "stream",
     "text": [
      "179\n",
      "189\n",
      "344\n",
      "24\n",
      "[7, 18, [0, 5, 7, 13, 19, 20, 21, 22, 23, 25, 26, 29, 32, 36, 42, 44, 45, 46], 18]\n"
     ]
    }
   ],
   "source": [
    "EC = errors(\"sim_single_molecule_100_corrected\", \"sim_single_molecule_100_efree\")\n",
    "print(len(EC[0]))\n",
    "print(len(EC[1]))\n",
    "E = errors(\"sim_single_molecule_100_newDel\", \"sim_single_molecule_100_efree\")\n",
    "print(len(E[0]))\n",
    "print(len(E[1]))\n",
    "print(EC[2][7])"
   ]
  },
  {
   "cell_type": "code",
   "execution_count": 876,
   "metadata": {
    "collapsed": false
   },
   "outputs": [
    {
     "name": "stdout",
     "output_type": "stream",
     "text": [
      "[1, 8, [2, 8, 9, 11, 12, 13, 15, 19], 3]\t[1, 4, [1, 7, 9, 19], 4]\n",
      "[2, 10, [0, 7, 13, 14, 16, 20, 21, 22, 23, 24], 8]\t[2, 9, [0, 7, 8, 10, 14, 15, 17, 19, 21], 9]\n",
      "[5, 6, [0, 3, 4, 8, 19, 22], 2]\t[5, 6, [0, 2, 4, 12, 13, 16], 6]\n",
      "[8, 5, [0, 4, 9, 17, 20], 6]\t[8, 8, [1, 4, 11, 13, 17, 20, 26, 30], 8]\n",
      "[12, 6, [3, 4, 5, 6, 8, 19], 4]\t[12, 10, [3, 6, 10, 15, 20, 21, 23, 30, 37, 38], 10]\n",
      "[13, 7, [1, 5, 20, 21, 22, 29, 32], 3]\t[13, 9, [5, 7, 8, 18, 19, 22, 29, 32, 34], 9]\n",
      "[14, 6, [6, 7, 10, 13, 19, 20], 2]\t[14, 4, [1, 8, 10, 19], 4]\n",
      "[16, 7, [0, 11, 16, 18, 19, 20, 21], 5]\t[16, 6, [0, 5, 11, 12, 13, 20], 6]\n",
      "[17, 4, [0, 4, 11, 14], 3]\t[17, 8, [0, 2, 6, 8, 12, 18, 25, 31], 8]\n",
      "[20, 5, [8, 14, 16, 18, 21], 5]\t[20, 8, [0, 1, 7, 8, 9, 19, 23, 32], 8]\n",
      "[26, 10, [1, 3, 7, 8, 10, 11, 18, 19, 20, 21], 5]\t[26, 8, [3, 6, 16, 18, 22, 24, 28, 33], 8]\n",
      "[27, 14, [0, 3, 5, 15, 16, 17, 19, 24, 25, 26, 27, 28, 29, 31], 5]\t[27, 8, [0, 3, 4, 16, 17, 27, 28, 31], 8]\n",
      "[32, 5, [2, 9, 15, 18, 22], 6]\t[32, 7, [7, 9, 11, 15, 18, 22, 23], 7]\n",
      "[39, 8, [0, 12, 14, 16, 17, 19, 21, 22], 3]\t[39, 5, [0, 12, 13, 14, 20], 5]\n",
      "[40, 1, [3], 2]\t[40, 3, [4, 5, 11], 3]\n",
      "[43, 7, [0, 1, 3, 6, 7, 9, 23], 7]\t[43, 10, [3, 4, 7, 8, 12, 14, 32, 34, 35, 37], 10]\n",
      "[44, 11, [2, 3, 5, 6, 7, 9, 10, 11, 14, 17, 21], 6]\t[44, 7, [0, 2, 5, 6, 14, 17, 20], 7]\n",
      "[46, 7, [6, 12, 20, 21, 22, 23, 33], 3]\t[46, 11, [6, 8, 13, 14, 18, 20, 22, 30, 32, 37, 40], 11]\n",
      "[47, 4, [0, 9, 16, 19], 3]\t[47, 4, [0, 9, 16, 19], 4]\n",
      "[54, 9, [1, 5, 7, 8, 9, 10, 11, 13, 16], 3]\t[54, 5, [2, 3, 7, 9, 12], 5]\n",
      "[55, 7, [0, 1, 18, 20, 21, 22, 23], 3]\t[55, 6, [0, 1, 7, 9, 18, 24], 6]\n",
      "[56, 5, [11, 17, 19, 28, 29], 6]\t[56, 13, [6, 8, 11, 17, 19, 20, 24, 25, 26, 29, 36, 38, 49], 13]\n",
      "[58, 10, [1, 3, 7, 9, 10, 23, 29, 46, 47, 51], 6]\t[58, 12, [1, 3, 7, 8, 16, 23, 29, 31, 39, 44, 47, 50], 12]\n",
      "[61, 2, [0, 16], 3]\t[61, 6, [0, 10, 13, 14, 16, 17], 6]\n",
      "[62, 1, [2], 1]\t[62, 5, [2, 8, 9, 11, 16], 5]\n",
      "[63, 13, [1, 9, 10, 11, 12, 15, 19, 20, 21, 22, 23, 24, 26], 2]\t[63, 9, [1, 8, 12, 17, 20, 21, 27, 29, 34], 9]\n",
      "[66, 11, [1, 3, 6, 8, 9, 14, 15, 18, 19, 21, 22], 8]\t[66, 9, [1, 3, 6, 8, 9, 12, 13, 15, 16], 9]\n",
      "[73, 3, [7, 13, 15], 3]\t[73, 5, [5, 7, 9, 13, 15], 5]\n",
      "[74, 1, [0], 3]\t[74, 4, [0, 8, 9, 12], 4]\n",
      "[75, 3, [6, 8, 21], 2]\t[75, 6, [6, 7, 8, 13, 23, 28], 6]\n",
      "[78, 3, [7, 9, 18], 3]\t[78, 5, [2, 9, 14, 17, 20], 5]\n",
      "[79, 1, [19], 1]\t[79, 2, [2, 17], 2]\n",
      "[80, 8, [0, 4, 8, 15, 23, 24, 28, 31], 8]\t[80, 9, [0, 4, 5, 9, 16, 18, 20, 22, 27], 9]\n",
      "[82, 17, [5, 8, 10, 11, 13, 15, 21, 24, 26, 34, 48, 49, 50, 52, 57, 58, 60], 8]\t[82, 11, [5, 8, 15, 19, 20, 30, 36, 37, 39, 43, 54], 12]\n",
      "[83, 4, [0, 10, 12, 23], 4]\t[83, 5, [0, 1, 12, 19, 23], 5]\n",
      "[85, 4, [1, 2, 5, 6], 6]\t[85, 12, [1, 6, 9, 12, 18, 23, 25, 31, 36, 38, 40, 45], 12]\n",
      "[86, 3, [0, 12, 20], 6]\t[86, 8, [7, 9, 15, 18, 19, 21, 30, 33], 8]\n",
      "[87, 6, [5, 20, 22, 23, 24, 46], 11]\t[87, 13, [5, 6, 14, 15, 17, 21, 22, 26, 28, 29, 38, 41, 42], 13]\n",
      "[89, 16, [1, 3, 14, 15, 16, 18, 20, 21, 22, 24, 25, 26, 27, 28, 46, 47], 9]\t[89, 12, [1, 2, 7, 8, 23, 27, 29, 30, 33, 36, 37, 43], 12]\n",
      "[90, 17, [0, 10, 12, 15, 17, 23, 30, 31, 35, 39, 41, 43, 46, 53, 54, 55, 56], 17]\t[90, 18, [4, 6, 10, 13, 15, 17, 23, 30, 35, 39, 41, 43, 45, 46, 47, 50, 51, 53], 18]\n",
      "[93, 1, [0], 1]\t[93, 3, [0, 8, 10], 3]\n",
      "[95, 4, [1, 6, 7, 9], 6]\t[95, 9, [1, 2, 3, 9, 14, 29, 33, 34, 35], 9]\n",
      "[96, 10, [0, 9, 13, 17, 19, 20, 40, 49, 74, 75], 14]\t[96, 20, [1, 13, 17, 19, 23, 24, 26, 33, 35, 37, 39, 46, 48, 49, 62, 71, 73, 76, 83, 85], 20]\n",
      "[99, 5, [0, 2, 5, 10, 11], 2]\t[99, 4, [0, 2, 5, 10], 4]\n",
      "[102, 5, [1, 2, 11, 13, 23], 6]\t[102, 6, [1, 12, 13, 17, 20, 25], 7]\n",
      "[104, 8, [7, 11, 13, 14, 16, 18, 20, 27], 5]\t[104, 6, [0, 6, 9, 11, 24, 25], 6]\n",
      "[108, 10, [2, 5, 16, 21, 25, 26, 30, 33, 34, 36], 13]\t[108, 15, [2, 5, 8, 9, 13, 14, 17, 22, 25, 26, 30, 37, 39, 43, 47], 15]\n",
      "[109, 14, [0, 9, 13, 14, 15, 16, 17, 18, 20, 22, 24, 25, 27, 29], 4]\t[109, 6, [9, 13, 15, 17, 20, 25], 6]\n",
      "[113, 3, [0, 4, 19], 3]\t[113, 5, [1, 4, 17, 19, 23], 5]\n",
      "[114, 1, [5], 2]\t[114, 4, [5, 6, 7, 9], 4]\n",
      "[118, 4, [9, 11, 15, 19], 3]\t[118, 6, [9, 11, 15, 17, 19, 20], 6]\n",
      "[120, 6, [0, 3, 5, 6, 7, 19], 4]\t[120, 10, [0, 2, 3, 10, 14, 21, 24, 28, 31, 35], 10]\n",
      "[123, 10, [4, 5, 7, 8, 10, 11, 12, 14, 20, 24], 5]\t[123, 6, [0, 4, 5, 6, 10, 16], 6]\n",
      "[125, 12, [0, 10, 11, 13, 22, 23, 24, 25, 27, 32, 34, 35], 4]\t[125, 10, [1, 10, 13, 17, 23, 29, 30, 31, 32, 36], 10]\n",
      "[126, 2, [1, 5], 2]\t[126, 3, [1, 8, 13], 4]\n",
      "[127, 6, [6, 8, 9, 18, 19, 20], 5]\t[127, 6, [6, 8, 9, 11, 12, 16], 6]\n",
      "[131, 14, [4, 7, 13, 15, 16, 17, 23, 25, 26, 27, 29, 30, 35, 37], 11]\t[131, 14, [4, 6, 14, 15, 17, 22, 23, 24, 26, 27, 40, 41, 44, 49], 14]\n",
      "[135, 5, [1, 2, 12, 13, 14], 1]\t[135, 3, [1, 3, 14], 3]\n",
      "[136, 15, [0, 6, 14, 15, 17, 18, 20, 21, 22, 24, 25, 26, 28, 29, 31], 6]\t[136, 7, [3, 5, 7, 15, 24, 29, 31], 7]\n",
      "[140, 3, [16, 18, 24], 3]\t[140, 6, [1, 7, 16, 17, 19, 21], 6]\n",
      "[141, 7, [0, 13, 18, 19, 20, 21, 23], 3]\t[141, 6, [1, 8, 17, 19, 20, 23], 6]\n",
      "[145, 14, [0, 8, 16, 17, 18, 19, 22, 26, 27, 28, 29, 30, 31, 33], 5]\t[145, 8, [0, 8, 14, 19, 25, 32, 36, 39], 8]\n",
      "[147, 7, [0, 2, 3, 5, 6, 8, 14], 2]\t[147, 4, [0, 2, 3, 5], 4]\n",
      "[148, 11, [0, 2, 10, 15, 16, 19, 20, 28, 30, 31, 41], 10]\t[148, 13, [0, 10, 14, 15, 23, 25, 26, 27, 32, 34, 36, 50, 53], 13]\n",
      "[151, 5, [2, 4, 5, 34, 38], 5]\t[151, 9, [2, 13, 16, 19, 23, 26, 28, 31, 34], 9]\n",
      "[154, 10, [0, 2, 7, 12, 14, 15, 16, 22, 24, 26], 7]\t[154, 11, [0, 2, 5, 6, 8, 19, 21, 30, 35, 40, 41], 11]\n",
      "[155, 9, [3, 8, 9, 10, 11, 12, 13, 15, 17], 3]\t[155, 5, [3, 4, 13, 20, 23], 5]\n",
      "[159, 5, [1, 4, 6, 7, 8], 5]\t[159, 8, [1, 7, 10, 13, 16, 25, 29, 35], 8]\n",
      "[160, 9, [4, 6, 10, 18, 21, 23, 24, 25, 41], 8]\t[160, 11, [4, 10, 18, 25, 26, 27, 31, 33, 34, 36, 39], 11]\n",
      "[166, 17, [4, 9, 13, 29, 31, 32, 34, 36, 38, 39, 40, 41, 42, 44, 60, 61, 66], 10]\t[166, 20, [4, 6, 13, 15, 19, 20, 32, 33, 39, 44, 45, 47, 50, 59, 70, 72, 74, 75, 88, 90], 20]\n",
      "[170, 15, [1, 4, 5, 12, 13, 16, 17, 19, 20, 21, 25, 26, 27, 28, 29], 11]\t[170, 12, [1, 4, 13, 15, 16, 17, 18, 19, 22, 26, 27, 28], 12]\n",
      "[173, 4, [6, 18, 26, 29], 6]\t[173, 10, [6, 11, 18, 26, 28, 29, 34, 36, 38, 43], 10]\n",
      "[174, 4, [0, 2, 17, 20], 2]\t[174, 3, [0, 12, 17], 3]\n",
      "[177, 7, [0, 3, 6, 8, 11, 50, 51], 8]\t[177, 13, [3, 6, 8, 20, 29, 40, 43, 51, 52, 55, 57, 61, 62], 13]\n",
      "[180, 17, [0, 2, 5, 7, 12, 13, 14, 16, 22, 24, 26, 30, 33, 34, 36, 37, 38], 11]\t[180, 18, [0, 5, 6, 7, 9, 11, 14, 24, 26, 28, 32, 36, 37, 42, 48, 57, 58, 61], 18]\n",
      "[181, 2, [13, 15], 2]\t[181, 7, [4, 6, 7, 13, 15, 18, 31], 7]\n",
      "[183, 6, [3, 11, 13, 14, 22, 27], 6]\t[183, 7, [3, 7, 11, 12, 14, 23, 27], 7]\n",
      "[187, 7, [0, 9, 10, 11, 12, 18, 22], 9]\t[187, 17, [0, 6, 12, 21, 22, 24, 35, 43, 48, 51, 53, 58, 65, 69, 72, 74, 75], 18]\n",
      "[193, 6, [1, 6, 8, 9, 10, 22], 8]\t[193, 12, [1, 5, 6, 10, 13, 17, 19, 21, 25, 27, 30, 40], 12]\n",
      "[194, 15, [6, 14, 15, 16, 17, 20, 24, 25, 26, 27, 28, 29, 31, 47, 48], 6]\t[194, 12, [6, 13, 15, 21, 24, 29, 38, 39, 41, 46, 47, 49], 12]\n",
      "[201, 13, [9, 20, 21, 22, 24, 26, 29, 30, 31, 32, 33, 34, 35], 4]\t[201, 9, [2, 9, 14, 16, 17, 18, 21, 23, 33], 9]\n",
      "[206, 4, [3, 7, 9, 18], 4]\t[206, 5, [0, 2, 3, 4, 10], 5]\n",
      "[210, 5, [1, 6, 7, 12, 34], 8]\t[210, 10, [1, 7, 12, 13, 15, 17, 22, 25, 34, 41], 10]\n",
      "[213, 9, [0, 4, 5, 8, 10, 23, 24, 33, 44], 8]\t[213, 11, [1, 2, 6, 10, 16, 17, 18, 26, 29, 39, 44], 11]\n",
      "[216, 0, [], 0]\t[216, 1, [3], 1]\n",
      "[217, 4, [4, 19, 22, 24], 7]\t[217, 13, [4, 6, 19, 20, 22, 25, 29, 31, 32, 34, 35, 44, 45], 13]\n",
      "[221, 5, [20, 21, 22, 24, 28], 3]\t[221, 7, [2, 4, 14, 15, 19, 25, 28], 7]\n",
      "[229, 13, [5, 16, 17, 18, 20, 22, 25, 26, 27, 28, 29, 30, 32], 3]\t[229, 8, [5, 18, 20, 23, 24, 25, 30, 32], 8]\n",
      "[239, 15, [6, 33, 35, 37, 38, 39, 40, 44, 47, 49, 50, 51, 52, 55, 59], 13]\t[239, 14, [6, 10, 11, 31, 33, 39, 48, 54, 57, 59, 63, 66, 67, 68], 15]\n",
      "[245, 1, [4], 7]\t[245, 9, [0, 4, 5, 12, 13, 18, 23, 29, 30], 9]\n",
      "[247, 7, [0, 2, 9, 12, 14, 23, 26], 4]\t[247, 7, [0, 2, 9, 10, 12, 14, 27], 7]\n",
      "[251, 5, [0, 3, 5, 18, 19], 2]\t[251, 6, [3, 4, 6, 13, 15, 16], 6]\n",
      "[259, 11, [0, 1, 8, 10, 24, 42, 43, 51, 53, 54, 56], 13]\t[259, 14, [0, 8, 10, 17, 21, 22, 29, 39, 41, 43, 45, 48, 56, 60], 14]\n",
      "[263, 6, [0, 19, 22, 26, 29, 30], 4]\t[263, 9, [2, 4, 11, 13, 15, 16, 18, 26, 30], 9]\n",
      "[266, 3, [0, 6, 14], 3]\t[266, 4, [0, 6, 7, 14], 4]\n",
      "[267, 6, [2, 12, 16, 18, 19, 20], 3]\t[267, 6, [2, 7, 12, 14, 15, 22], 6]\n",
      "[271, 9, [5, 8, 14, 16, 17, 19, 21, 27, 28], 5]\t[271, 6, [5, 9, 11, 13, 19, 23], 6]\n",
      "[277, 4, [0, 8, 16, 18], 3]\t[277, 6, [1, 8, 16, 18, 25, 26], 6]\n",
      "[284, 2, [3, 5], 4]\t[284, 5, [3, 4, 11, 16, 17], 5]\n",
      "[292, 11, [1, 7, 8, 17, 24, 26, 29, 49, 74, 77, 78], 15]\t[292, 17, [1, 7, 8, 15, 17, 22, 23, 31, 32, 36, 38, 40, 48, 53, 57, 63, 64], 17]\n",
      "[297, 2, [11, 12], 2]\t[297, 4, [5, 7, 11, 12], 4]\n",
      "[300, 3, [7, 12, 20], 5]\t[300, 6, [7, 12, 14, 16, 19, 20], 6]\n",
      "[301, 15, [0, 6, 8, 17, 19, 20, 21, 23, 27, 28, 29, 30, 31, 32, 33], 5]\t[301, 7, [6, 8, 9, 12, 22, 26, 29], 7]\n",
      "[311, 7, [0, 2, 18, 33, 35, 41, 42], 3]\t[311, 9, [11, 13, 18, 23, 29, 34, 36, 37, 38], 9]\n",
      "[332, 19, [3, 5, 6, 10, 12, 18, 23, 37, 38, 41, 48, 56, 59, 62, 63, 64, 65, 71, 74], 21]\t[332, 21, [3, 5, 6, 10, 12, 16, 18, 22, 33, 37, 38, 41, 48, 56, 59, 62, 63, 64, 65, 71, 74], 22]\n",
      "[333, 3, [2, 15, 16], 3]\t[333, 4, [2, 5, 15, 16], 4]\n"
     ]
    }
   ],
   "source": [
    "for i in range(0, len(EC[2])):\n",
    "    if(EC[2][i][3] < E[2][i][3]):\n",
    "        print(str(EC[2][i]) + \"\\t\" +  str(E[2][i]))  "
   ]
  },
  {
   "cell_type": "code",
   "execution_count": 940,
   "metadata": {
    "collapsed": false
   },
   "outputs": [
    {
     "name": "stdout",
     "output_type": "stream",
     "text": [
      "\tXhoI\tXhoI\t56.831\t20.481\t66.57\t11.365\t18.19\t30.223\t4.41\t10.779\t16.155\t8.466\t6.104\t45.186\t4.209\t15.126\t19.258\t12.922\t63.763\t30.327\n",
      "\n",
      "\tXhoI\tXhoI\t58.202\t9.739\t10.36\t64.508\t11.884\t18.627\t28.582\t1.557\t2.506\t1.913\t11.641\t15.44\t8.697\t6.17\t45.312\t4.218\t15.062\t20.234\t12.854\t12.396\t48.964\t30.026\n",
      "\n",
      "\tXhoI\tXhoI\t31.948\t10.165\t66.570\t11.365\t18.190\t30.223\t2.741\t2.422\t10.779\t16.155\t8.466\t6.104\t45.186\t4.209\t15.126\t19.258\t12.922\t63.763\t30.327\n",
      "\n",
      "\n",
      "Errored\n",
      "\n",
      "XhoI\n",
      "XhoI\n",
      "56.831\n",
      "20.481\n",
      "66.57\n",
      "11.365\n",
      "18.19\n",
      "30.223\n",
      "4.41\n",
      "10.779\n",
      "16.155\n",
      "8.466\n",
      "6.104\n",
      "45.186\n",
      "4.209\n",
      "15.126\n",
      "19.258\n",
      "12.922\n",
      "63.763\n",
      "30.327\n",
      "\n",
      "Error Free\n",
      "\n",
      "XhoI\n",
      "XhoI\n",
      "58.202\n",
      "9.739\n",
      "10.36\n",
      "64.508\n",
      "11.884\n",
      "18.627\n",
      "28.582\n",
      "1.557\n",
      "2.506\n",
      "1.913\n",
      "11.641\n",
      "15.44\n",
      "8.697\n",
      "6.17\n",
      "45.312\n",
      "4.218\n",
      "15.062\n",
      "20.234\n",
      "12.854\n",
      "12.396\n",
      "48.964\n",
      "30.026\n",
      "\n",
      "Corrected\n",
      "\n",
      "XhoI\n",
      "XhoI\n",
      "31.948\n",
      "10.165\n",
      "66.570\n",
      "11.365\n",
      "18.190\n",
      "30.223\n",
      "2.741\n",
      "2.422\n",
      "10.779\n",
      "16.155\n",
      "8.466\n",
      "6.104\n",
      "45.186\n",
      "4.209\n",
      "15.126\n",
      "19.258\n",
      "12.922\n",
      "63.763\n",
      "30.327\n"
     ]
    }
   ],
   "source": [
    "lines = [line for i,line in enumerate(open(\"sim_single_molecule_100_newDel\")) if (i%3==1)]\n",
    "c_lines = [line for i,line in enumerate(open(\"sim_single_molecule_100_efree\")) if (i%3==1)]\n",
    "lines_corrected = [line for i,line in enumerate(open(\"sim_single_molecule_100_corrected\")) if (i%3==1)]\n",
    "S = (lines[1] + \"\\n\" + c_lines[1] + \"\\n\" + lines_corrected[1])\n",
    "print(S)\n",
    "lines = S.split(\"\\n\")\n",
    "print(\"\\nErrored\\n\")\n",
    "print(\"\\n\".join(lines[0].strip().split(\"\\t\")))\n",
    "print(\"\\nError Free\\n\")\n",
    "print(\"\\n\".join(lines[2].strip().split(\"\\t\")))\n",
    "print(\"\\nCorrected\\n\")\n",
    "print(\"\\n\".join(lines[4].strip().split(\"\\t\")))"
   ]
  },
  {
   "cell_type": "code",
   "execution_count": 863,
   "metadata": {
    "collapsed": false
   },
   "outputs": [
    {
     "data": {
      "text/plain": [
       "8"
      ]
     },
     "execution_count": 863,
     "metadata": {},
     "output_type": "execute_result"
    }
   ],
   "source": [
    "EC[2][2][3]"
   ]
  },
  {
   "cell_type": "code",
   "execution_count": 9,
   "metadata": {
    "collapsed": false
   },
   "outputs": [
    {
     "ename": "NameError",
     "evalue": "name 'EC' is not defined",
     "output_type": "error",
     "traceback": [
      "\u001b[1;31m---------------------------------------------------------------------------\u001b[0m",
      "\u001b[1;31mNameError\u001b[0m                                 Traceback (most recent call last)",
      "\u001b[1;32m<ipython-input-9-38282d674db5>\u001b[0m in \u001b[0;36m<module>\u001b[1;34m()\u001b[0m\n\u001b[0;32m      3\u001b[0m \u001b[0mcounttotal\u001b[0m \u001b[1;33m=\u001b[0m \u001b[1;36m0\u001b[0m\u001b[1;33m\u001b[0m\u001b[0m\n\u001b[0;32m      4\u001b[0m \u001b[1;32mfor\u001b[0m \u001b[0mi\u001b[0m\u001b[1;33m,\u001b[0m \u001b[0mline\u001b[0m \u001b[1;32min\u001b[0m \u001b[0menumerate\u001b[0m\u001b[1;33m(\u001b[0m\u001b[0mlines\u001b[0m\u001b[1;33m)\u001b[0m\u001b[1;33m:\u001b[0m\u001b[1;33m\u001b[0m\u001b[0m\n\u001b[1;32m----> 5\u001b[1;33m     \u001b[1;32mif\u001b[0m\u001b[1;33m(\u001b[0m\u001b[0mline\u001b[0m \u001b[1;33m>\u001b[0m \u001b[0mEC\u001b[0m\u001b[1;33m[\u001b[0m\u001b[1;36m2\u001b[0m\u001b[1;33m]\u001b[0m\u001b[1;33m[\u001b[0m\u001b[0mi\u001b[0m\u001b[1;33m]\u001b[0m\u001b[1;33m[\u001b[0m\u001b[1;36m3\u001b[0m\u001b[1;33m]\u001b[0m\u001b[1;33m)\u001b[0m\u001b[1;33m:\u001b[0m\u001b[1;33m\u001b[0m\u001b[0m\n\u001b[0m\u001b[0;32m      6\u001b[0m         \u001b[0mcounttotal\u001b[0m\u001b[1;33m+=\u001b[0m\u001b[0mline\u001b[0m\u001b[1;33m\u001b[0m\u001b[0m\n\u001b[0;32m      7\u001b[0m         \u001b[0mcount\u001b[0m \u001b[1;33m+=\u001b[0m \u001b[1;33m(\u001b[0m\u001b[0mline\u001b[0m \u001b[1;33m-\u001b[0m \u001b[0mEC\u001b[0m\u001b[1;33m[\u001b[0m\u001b[1;36m2\u001b[0m\u001b[1;33m]\u001b[0m\u001b[1;33m[\u001b[0m\u001b[0mi\u001b[0m\u001b[1;33m]\u001b[0m\u001b[1;33m[\u001b[0m\u001b[1;36m3\u001b[0m\u001b[1;33m]\u001b[0m\u001b[1;33m)\u001b[0m\u001b[1;33m\u001b[0m\u001b[0m\n",
      "\u001b[1;31mNameError\u001b[0m: name 'EC' is not defined"
     ]
    }
   ],
   "source": [
    "lines = [len(line.strip().split(\" \")) for line in open(\"sim_single_molecule_100_elocations\")]\n",
    "count = 0\n",
    "counttotal = 0\n",
    "for i, line in enumerate(lines):\n",
    "    if(line > EC[2][i][3]):\n",
    "        counttotal+=line\n",
    "        count += (line - EC[2][i][3])\n",
    "print(\"Total: \"+ str(counttotal) + \"\\ncorrected: \" + str(count))"
   ]
  },
  {
   "cell_type": "code",
   "execution_count": 4,
   "metadata": {
    "collapsed": false
   },
   "outputs": [
    {
     "ename": "IndentationError",
     "evalue": "expected an indented block (<ipython-input-4-a19136fcf14d>, line 5)",
     "output_type": "error",
     "traceback": [
      "\u001b[1;36m  File \u001b[1;32m\"<ipython-input-4-a19136fcf14d>\"\u001b[1;36m, line \u001b[1;32m5\u001b[0m\n\u001b[1;33m    \u001b[0m\n\u001b[1;37m    ^\u001b[0m\n\u001b[1;31mIndentationError\u001b[0m\u001b[1;31m:\u001b[0m expected an indented block\n"
     ]
    }
   ],
   "source": [
    "lines = [line.strip().split(\" \") for line in open(\"sim_single_molecule_100_elocations\")]\n",
    "lines_ef = [line.strip().split() for i,line in enumerate(open(\"sim_single_molecule_100_efree\")) if (i%3==1)]\n",
    "for line in lines:\n",
    "    for i in line:\n",
    "        "
   ]
  },
  {
   "cell_type": "code",
   "execution_count": 17,
   "metadata": {
    "collapsed": false
   },
   "outputs": [],
   "source": [
    "def findInsertionDeletion(fname):\n",
    "    deletions = 0\n",
    "    insertions = 0\n",
    "    for line in open(fname):\n",
    "        deletions += int(line.strip().split(\" \")[2])\n",
    "        insertions += int(line.strip().split(\" \")[6])\n",
    "    print(\"Deletions: \"+ str(deletions))\n",
    "    print(\"Insertions: \"+ str(insertions))"
   ]
  },
  {
   "cell_type": "code",
   "execution_count": 18,
   "metadata": {
    "collapsed": false
   },
   "outputs": [
    {
     "name": "stdout",
     "output_type": "stream",
     "text": [
      "Deletions: 860\n",
      "Insertions: 1699\n"
     ]
    }
   ],
   "source": [
    "findInsertionDeletion(\"corrected\")"
   ]
  },
  {
   "cell_type": "code",
   "execution_count": 836,
   "metadata": {
    "collapsed": false
   },
   "outputs": [
    {
     "data": {
      "text/plain": [
       "0.6964586846543002"
      ]
     },
     "execution_count": 836,
     "metadata": {},
     "output_type": "execute_result"
    }
   ],
   "source": [
    "413/593.0"
   ]
  },
  {
   "cell_type": "code",
   "execution_count": 841,
   "metadata": {
    "collapsed": false
   },
   "outputs": [
    {
     "name": "stdout",
     "output_type": "stream",
     "text": [
      "3 7\n",
      "7 3\n",
      "5 5\n",
      "6 4\n",
      "4 6\n"
     ]
    }
   ],
   "source": [
    "# your code goes here\n",
    "sum = 10\n",
    "A = [3, 7, 2, 5, 6, 4]\n",
    "D = {}\n",
    "for a in A:\n",
    "    D[a] = 1\n",
    "for a in A:    \n",
    "    if(D.has_key(sum - a)):\n",
    "        print(str(a) + \" \" + str(sum - a))"
   ]
  },
  {
   "cell_type": "code",
   "execution_count": 14,
   "metadata": {
    "collapsed": false
   },
   "outputs": [],
   "source": [
    "def noOfFragments(line):\n",
    "    return((len(line.strip().split(\"\\t\"))) - 2)\n",
    "\n",
    "def findTotalErrors(file1, file1_w_e):\n",
    "    errors = []\n",
    "    e_count = 0\n",
    "    lines = [line.strip() for i,line in enumerate(open(file1)) if (i%3==1)]\n",
    "    lines_w_e = [line.strip() for i,line in enumerate(open(file1_w_e)) if (i%3==1)]\n",
    "    for i in range(len(lines)):\n",
    "        errors.append(noOfFragments(lines_w_e[i]) - noOfFragments(lines[i]))\n",
    "    for e in errors:\n",
    "        e_count += int(e)\n",
    "    return(e_count)"
   ]
  },
  {
   "cell_type": "code",
   "execution_count": 15,
   "metadata": {
    "collapsed": false
   },
   "outputs": [
    {
     "data": {
      "text/plain": [
       "5524"
      ]
     },
     "execution_count": 15,
     "metadata": {},
     "output_type": "execute_result"
    }
   ],
   "source": [
    "findTotalErrors(\"sim_single_molecule_100_newDel\",\"sim_single_molecule_100_efree\")"
   ]
  },
  {
   "cell_type": "code",
   "execution_count": 16,
   "metadata": {
    "collapsed": false
   },
   "outputs": [
    {
     "data": {
      "text/plain": [
       "800"
      ]
     },
     "execution_count": 16,
     "metadata": {},
     "output_type": "execute_result"
    }
   ],
   "source": [
    "findTotalErrors(\"sim_single_molecule_100_corrected\",\"sim_single_molecule_100_efree\")"
   ]
  },
  {
   "cell_type": "code",
   "execution_count": 915,
   "metadata": {
    "collapsed": false
   },
   "outputs": [
    {
     "name": "stdout",
     "output_type": "stream",
     "text": [
      "\n"
     ]
    }
   ],
   "source": [
    "lines = S.split(\"\\n\")\n",
    "print(\"\\n\".join(lines[1].strip().split(\"\\t\")))"
   ]
  },
  {
   "cell_type": "code",
   "execution_count": 912,
   "metadata": {
    "collapsed": false
   },
   "outputs": [
    {
     "name": "stdout",
     "output_type": "stream",
     "text": [
      "ssa\n",
      "tsx\n"
     ]
    }
   ],
   "source": [
    "A = [\"ssa\", \"tsx\"]\n",
    "B = \"sa\"\n",
    "print(\"\\n\".join(A))"
   ]
  },
  {
   "cell_type": "code",
   "execution_count": 920,
   "metadata": {
    "collapsed": false
   },
   "outputs": [
    {
     "data": {
      "text/plain": [
       "'\\tXhoI\\tXhoI\\t19.206\\t64.657\\t68.451\\t82.015\\t35.874\\t11.383\\t3.258\\t6.948\\t28.365\\t19.128\\t51.210\\t38.302\\t36.137\\t78.898\\t3.285\\t16.386\\t27.898\\t14.684\\t1.603\\t58.576\\t49.088\\t24.635\\t44.991\\t38.679\\t7.808\\t4.952\\t33.224\\t18.560\\t22.910\\t10.520\\t39.991\\t38.868\\t6.724\\t4.591\\t16.345\\t61.072\\t13.336\\t12.346\\t19.405\\t8.636'"
      ]
     },
     "execution_count": 920,
     "metadata": {},
     "output_type": "execute_result"
    }
   ],
   "source": [
    "lines[4]"
   ]
  },
  {
   "cell_type": "code",
   "execution_count": 941,
   "metadata": {
    "collapsed": false
   },
   "outputs": [
    {
     "name": "stdout",
     "output_type": "stream",
     "text": [
      "-1\n",
      "2\n",
      "1\n",
      "1\n",
      "1\n",
      "1\n",
      "2\n",
      "1\n",
      "1\n",
      "1\n",
      "1\n",
      "1\n",
      "1\n",
      "1\n",
      "1\n",
      "1\n",
      "-1\n",
      "------------------ \n",
      "9\n",
      "12\n",
      "12\n",
      "13\n",
      "16\n",
      "20\n",
      "10\n",
      "19\n",
      "22\n",
      "20\n",
      "22\n",
      "20\n",
      "20\n",
      "18\n",
      "21\n",
      "15\n",
      "10\n"
     ]
    }
   ],
   "source": [
    "L = \"-1 2 1 1 1 1 2 1 1 1 1 1 1 1 1 1 -1\\n\" + \"9 12 12 13 16 20 10 19 22 20 22 20 20 18 21 15 10\"\n",
    "L = L.split(\"\\n\")\n",
    "L = \"\\n\".join(L[0].split(\" \")) + \"\\n------------------ \\n\" +\"\\n\".join(L[1].split(\" \"))\n",
    "print L"
   ]
  },
  {
   "cell_type": "code",
   "execution_count": 1169,
   "metadata": {
    "collapsed": false
   },
   "outputs": [],
   "source": []
  },
  {
   "cell_type": "code",
   "execution_count": 1028,
   "metadata": {
    "collapsed": false
   },
   "outputs": [],
   "source": [
    "map = dict()\n",
    "A = ['b','a','d','b','b','b','c','a','b']\n",
    "first = '0'\n",
    "for a in A:\n",
    "    if map.has_key(a):\n",
    "        if(map[a][0] != '0'):\n",
    "            map[map[a][0]] = [map[map[a][0]][0], map[a][1]]\n",
    "            map[a] = ['0', first]   \n",
    "            map[first] = [a,map[first][1]]\n",
    "            first = a\n",
    "    else:           \n",
    "        if first != '0' :\n",
    "            map[first] = [a, map[first][1]]\n",
    "        map[a]= ['0', first]\n",
    "        first = a\n",
    "        \n",
    "def giveLastN(map, n, first):\n",
    "    cur = first\n",
    "    while(n > 0 and cur != '0'):        \n",
    "        print(cur)\n",
    "        cur = map[cur][1]\n",
    "        n-=1"
   ]
  },
  {
   "cell_type": "code",
   "execution_count": 1029,
   "metadata": {
    "collapsed": false
   },
   "outputs": [
    {
     "name": "stdout",
     "output_type": "stream",
     "text": [
      "{'a': ['b', 'c'], 'c': ['a', 'd'], 'b': ['0', 'a'], 'd': ['b', '0']}\n"
     ]
    }
   ],
   "source": [
    "print map"
   ]
  },
  {
   "cell_type": "code",
   "execution_count": 1033,
   "metadata": {
    "collapsed": false
   },
   "outputs": [
    {
     "name": "stdout",
     "output_type": "stream",
     "text": [
      "b\n"
     ]
    }
   ],
   "source": [
    "giveLastN(map, 1, first)"
   ]
  },
  {
   "cell_type": "code",
   "execution_count": 1025,
   "metadata": {
    "collapsed": false
   },
   "outputs": [
    {
     "data": {
      "text/plain": [
       "'d'"
      ]
     },
     "execution_count": 1025,
     "metadata": {},
     "output_type": "execute_result"
    }
   ],
   "source": [
    "first"
   ]
  },
  {
   "cell_type": "code",
   "execution_count": 1043,
   "metadata": {
    "collapsed": false
   },
   "outputs": [
    {
     "name": "stdout",
     "output_type": "stream",
     "text": [
      "k\n",
      "a\n",
      "b\n",
      "c\n"
     ]
    }
   ],
   "source": [
    "class TradeTracker(object):\n",
    "    def __init__(self):\n",
    "        self.map = dict()\n",
    "        self.first = '0'\n",
    "\n",
    "    def addTrade(self, A):\n",
    "        for a in A:\n",
    "            if  self.map.has_key(a):\n",
    "                if(self.map[a][0] != '0'):\n",
    "                    self.map[self.map[a][0]] = [self.map[self.map[a][0]][0], self.map[a][1]]\n",
    "                    self.map[a] = ['0', self.first]   \n",
    "                    self.map[self.first] = [a,self.map[self.first][1]]\n",
    "                    self.first = a\n",
    "            else:\n",
    "                if self.first != '0' :\n",
    "                    self.map[self.first] = [a, self.map[self.first][1]]\n",
    "                self.map[a]= ['0', self.first]\n",
    "                self.first = a\n",
    "        \n",
    "    def giveLastN(self, n):\n",
    "        cur = self.first\n",
    "        while(n > 0 and cur != '0'):        \n",
    "            print(cur)\n",
    "            cur = self.map[cur][1]\n",
    "            n-=1\n",
    "            \n",
    "A = ['b','a','d','b','b','b','c','a','b','a','a','k']\n",
    "T = TradeTracker();\n",
    "T.addTrade(A)\n",
    "T.giveLastN(4)"
   ]
  },
  {
   "cell_type": "code",
   "execution_count": 1069,
   "metadata": {
    "collapsed": false
   },
   "outputs": [],
   "source": [
    "def nextRange(cur_range, bin_size, s_varience):\n",
    "    if(cur_range < 2000):\n",
    "        return(cur_range + bin_size)\n",
    "    else:\n",
    "        return(round(((double)(cur_range/1000.0) + 3 * math.sqrt(((float)(cur_range/1000.0)) * s_varience))*1000))"
   ]
  },
  {
   "cell_type": "code",
   "execution_count": 1067,
   "metadata": {
    "collapsed": false
   },
   "outputs": [],
   "source": [
    "# standard deviation with Bionano data\n",
    "def signmaS(len):\n",
    "    singma = (0.2*0.2) + len * 0.1 * (-0.1) + len*len*0.04*0.04\n",
    "    return(singma)"
   ]
  },
  {
   "cell_type": "code",
   "execution_count": 1068,
   "metadata": {
    "collapsed": false
   },
   "outputs": [
    {
     "data": {
      "text/plain": [
       "0.037144"
      ]
     },
     "execution_count": 1068,
     "metadata": {},
     "output_type": "execute_result"
    }
   ],
   "source": [
    "signmaS(0.3)"
   ]
  },
  {
   "cell_type": "code",
   "execution_count": 1094,
   "metadata": {
    "collapsed": false
   },
   "outputs": [],
   "source": [
    "quantizeList = []\n",
    "def quantize(val, bin_size, s_varience):    \n",
    "    if(val == 0):\n",
    "        return;\n",
    "    \n",
    "    if(quantizeList.size() == 0):\n",
    "        quantizeList.push_back(0.0)\n",
    "        quantizeList.push_back(nextRange(0.0, bin_size, s_varience))\n",
    "\n",
    "    for i in range(0, quantizeList.len):\n",
    "        if(val < quantizeList[i]):        \n",
    "            val = quantizeList[i-1];\n",
    "            return;\n",
    "\n",
    "    while(1):\n",
    "        quantizeList.append(nextRange(quantizeList[len(quantizeList) - 1], bin_size, s_varience))\n",
    "        if(val < quantizeList[len(quantizeList) - 1]):\n",
    "            val = quantizeList[len(quantizeList) - 2]\n",
    "            return"
   ]
  },
  {
   "cell_type": "code",
   "execution_count": 1094,
   "metadata": {
    "collapsed": false
   },
   "outputs": [],
   "source": [
    "len(quantizeList)"
   ]
  },
  {
   "cell_type": "code",
   "execution_count": 1095,
   "metadata": {
    "collapsed": false
   },
   "outputs": [
    {
     "ename": "TypeError",
     "evalue": "quantize() takes exactly 3 arguments (2 given)",
     "output_type": "error",
     "traceback": [
      "\u001b[1;31m---------------------------------------------------------------------------\u001b[0m\n\u001b[1;31mTypeError\u001b[0m                                 Traceback (most recent call last)",
      "\u001b[1;32m<ipython-input-1095-86a37a19f9cb>\u001b[0m in \u001b[0;36m<module>\u001b[1;34m()\u001b[0m\n\u001b[1;32m----> 1\u001b[1;33m \u001b[0mquantize\u001b[0m\u001b[1;33m(\u001b[0m\u001b[1;36m1000\u001b[0m\u001b[1;33m,\u001b[0m \u001b[1;36m300\u001b[0m\u001b[1;33m,\u001b[0m \u001b[1;33m)\u001b[0m\u001b[1;33m\u001b[0m\u001b[0m\n\u001b[0m",
      "\u001b[1;31mTypeError\u001b[0m: quantize() takes exactly 3 arguments (2 given)"
     ]
    }
   ],
   "source": [
    "quantize(1000, 300, )"
   ]
  },
  {
   "cell_type": "code",
   "execution_count": 1150,
   "metadata": {
    "collapsed": false
   },
   "outputs": [],
   "source": [
    "# standard deviation with Bionano data\n",
    "def signmaS(len):\n",
    "    singma = (0.2*0.2) + len * 0.1 * (-0.1) + len*len*0.04*0.04\n",
    "    return(math.sqrt(singma))\n",
    "\n",
    "def nextRange(pre_val, folds):\n",
    "    S = signmaS(float(pre_val/1000.0))\n",
    "    d = (2.0 * folds * S) * 1000\n",
    "    return(int(pre_val + d))\n",
    "\n",
    "quantizeList = []\n",
    "def quantizeNew(val):\n",
    "    folds = 3\n",
    "    start = 500\n",
    "    if(val <= start):\n",
    "        return;\n",
    "    if(len(quantizeList) == 0):\n",
    "        quantizeList.append(start)\n",
    "        quantizeList.append(nextRange(start, folds))\n",
    "    \n",
    "    for i in range(0, len(quantizeList)):\n",
    "        if(val < quantizeList[i]):        \n",
    "            val = quantizeList[i-1];\n",
    "            return(val);\n",
    "        \n",
    "    while(1):\n",
    "        quantizeList.append(nextRange(quantizeList[len(quantizeList) - 1], folds))\n",
    "        if(val < quantizeList[len(quantizeList) - 1]):\n",
    "            val = quantizeList[len(quantizeList) - 2]\n",
    "            return(val)"
   ]
  },
  {
   "cell_type": "code",
   "execution_count": 1169,
   "metadata": {
    "collapsed": false
   },
   "outputs": [
    {
     "data": {
      "text/plain": [
       "19012"
      ]
     },
     "execution_count": 1169,
     "metadata": {},
     "output_type": "execute_result"
    }
   ],
   "source": [
    "quantizeNew(20000)"
   ]
  },
  {
   "cell_type": "code",
   "execution_count": 1167,
   "metadata": {
    "collapsed": false
   },
   "outputs": [
    {
     "data": {
      "text/plain": [
       "0.1881488772222678"
      ]
     },
     "execution_count": 1167,
     "metadata": {},
     "output_type": "execute_result"
    }
   ],
   "source": [
    "signmaS(0.5)"
   ]
  },
  {
   "cell_type": "markdown",
   "metadata": {},
   "source": [
    "# ================================================"
   ]
  },
  {
   "cell_type": "code",
   "execution_count": 2,
   "metadata": {
    "collapsed": false
   },
   "outputs": [],
   "source": [
    "# standard deviation with Bionano data\n",
    "def signmaS(len):\n",
    "    singma = (0.2*0.2) + len * 0.1 * (-0.1) + len*len*0.04*0.04\n",
    "    return(singma)\n",
    "\n",
    "handle = open(\"/s/fir/a/nobackup/data/ECOLI_Reference_Genome/ecoli.fa\", \"rU\")\n",
    "for record in Bio.SeqIO.parse(handle, \"fasta\"):\n",
    "    ref_seq = record.seq\n",
    "frag_sizes = [len(seq) for seq in Bio.Restriction.XhoI.catalyse(ref_seq)]\n",
    "\n",
    "def subseq(seq, limits):\n",
    "    x,y = limits\n",
    "    if x < y : return seq[x:y]\n",
    "    return seq[x:len(seq)] + seq[0:y]\n",
    "\n",
    "molecules = []\n",
    "for i in range(200):\n",
    "    breaks = []\n",
    "    num_breaks = 10 #random.randint(20,50)\n",
    "    for j in range(num_breaks):\n",
    "        breaks.append(random.randint(0,len(ref_seq) - 1))\n",
    "    breaks.sort()        \n",
    "    pairs = [(x,y) for x,y in zip(breaks[:-1], breaks[1:])] + [(breaks[-1], breaks[0])]\n",
    "    molecules += [[subseq(ref_seq, pair), pair] for pair in pairs]"
   ]
  },
  {
   "cell_type": "code",
   "execution_count": 3,
   "metadata": {
    "collapsed": false
   },
   "outputs": [],
   "source": [
    "def generateRandomList(listv, count):\n",
    "    randomList = []\n",
    "    randomListIndex = []\n",
    "    if(count >= len(listv) + 1):\n",
    "        return(randomListIndex, randomList)\n",
    "    if(count <= 0):\n",
    "        return(randomListIndex, randomList)\n",
    "    if(len(listv) == 0):\n",
    "        return(randomListIndex, randomList)\n",
    "    \n",
    "    index = range(0, len(listv))\n",
    "    for c in range(0, count):\n",
    "        i = random.choice(index)\n",
    "        randomList.append(listv[i])\n",
    "        randomListIndex.append(i)\n",
    "        index.remove(i)\n",
    "    \n",
    "    randomListIndex, randomList = zip(*sorted(zip(randomListIndex,randomList)))\n",
    "    return(randomListIndex, randomList)\n",
    "\n",
    "def deleteRandomly(listv, count):\n",
    "    deleted = generateRandomList(listv, count)\n",
    "    deleted_index = list(deleted[0])\n",
    "    deleted_values = list(deleted[1])    \n",
    "    for d in deleted_values:\n",
    "        listv.remove(d)\n",
    "    return(listv, deleted_index, deleted_values)\n",
    "\n",
    "def insertVal(A, val):\n",
    "    idx = A.index(val)\n",
    "    if(idx + 1 != len(A)):\n",
    "        A.insert(idx + 1, random.randint(A[idx], A[idx + 1] ))\n",
    "    else:\n",
    "        A.insert(idx, random.randint(A[idx-1], A[idx]))\n",
    "        \n",
    "def addfalsepositive(listv, count):\n",
    "    if(count == 0):\n",
    "        return(listv, count)\n",
    "    sel_cites,sel_val = generateRandomList(listv, count)\n",
    "    for val in sel_val:\n",
    "        insertVal(listv, val)\n",
    "    return(listv, count)\n",
    "\n",
    "def sim(mol):\n",
    "    \"Return a simulated set of fragment sizes in bp for a Bio.SeqIO seq\"    \n",
    "    sites = [biosite - 1 for biosite in Bio.Restriction.XhoI.search(mol)]\n",
    "    e_f_sites = list(sites);    \n",
    "    sites, dindex, dsites = deleteRandomly( sites, int(round(len(sites)/6.66)))\n",
    "    sites, ins_err = addfalsepositive(sites, int(round(len(mol)/100000.0)))\n",
    "    allsites = [0] + sites + [len(mol)]\n",
    "    e_f_allsites = [0] + e_f_sites + [len(mol)]    \n",
    "    # TODO add random break sites\n",
    "    sizes = [y - x for x,y in zip(allsites[:-1], allsites[1:])]\n",
    "    e_f_sizes = [y - x for x,y in zip(e_f_allsites[:-1], e_f_allsites[1:])]\n",
    "    sizes = [size/1000.0 for size in sizes] # convert to kb\n",
    "    e_f_sizes = [size/1000.0 for size in e_f_sizes] # convert to kb    \n",
    "    sizes = [size + random.gauss(0, math.sqrt(signmaS(size))) for size in sizes if size > 0.5]\n",
    "    sizes = [size for size in sizes if size > 0.5]\n",
    "    e_f_sizes = [size for size in e_f_sizes if size > 0.5]\n",
    "    return (sizes, e_f_sizes, dindex, ins_err)"
   ]
  },
  {
   "cell_type": "code",
   "execution_count": 4,
   "metadata": {
    "collapsed": false
   },
   "outputs": [],
   "source": [
    "filename = \"sim_single_molecule_100\"\n",
    "m = open(filename+\"_newDel\",\"w\")\n",
    "mwe = open(filename+\"_efree\",\"w\")\n",
    "efile  = open(filename+\"_elocations\",\"w\")\n",
    "\n",
    "start = 0\n",
    "end = 0\n",
    "length_of_original = []\n",
    "length_of_errored = []\n",
    "accum = 0\n",
    "tot_ins_err = 0\n",
    "tot_del_err = 0\n",
    "for i, mol in enumerate((molecule for molecule in molecules if len(molecule[0]) > 250000)):\n",
    "    simulated = sim(mol[0])      \n",
    "    lens = [str(round(frag,3)) for frag in simulated[0]]\n",
    "    if len(lens) < 10: continue\n",
    "    map_name = \"map_\" + str(i) + \"\\n\"\n",
    "    \n",
    "    lens_e_free = [str(round(frag,3)) for frag in simulated[1]]\n",
    "    length_of_errored.append(len(lens))\n",
    "    length_of_original.append(len(lens_e_free))\n",
    "    #if i == 100: break\n",
    "    tot_ins_err += simulated[3]\n",
    "    tot_del_err += len(simulated[2])\n",
    "    \n",
    "    if(start == 0 and end ==0):\n",
    "        start = mol[1][0]\n",
    "        end = mol[1][1]\n",
    "    \n",
    "#    elif(start <= mol[1][0] and mol[1][0] >= end):\n",
    "#    if((start <= mol[1][0] and mol[1][0] <= end) or (start <= mol[1][1] and mol[1][1] <= end) or (start >= mol[1][0] and mol[1][1] >= end)):\n",
    "    m.write(map_name)\n",
    "    m.write(\"\\tXhoI\\tXhoI\\t\" + \"\\t\".join(lens) + \"\\n\")\n",
    "    m.write(\"\\n\")\n",
    "\n",
    "    mwe.write(map_name)\n",
    "    mwe.write(\"\\tXhoI\\tXhoI\\t\" + \"\\t\".join(lens_e_free) + \"\\n\")\n",
    "    mwe.write(\"\\n\")\n",
    "\n",
    "    efile.write(' '.join([str(s) for s in simulated[2]]))\n",
    "    efile.write(\"\\n\")\n",
    "\"\"\"        \n",
    "    elif(start <= mol[1][1] and mol[1][0] >= end):\n",
    "        m.write(\"map_\" + str(i) + \"\\n\")\n",
    "        m.write(\"\\tXhoI\\tXhoI\\t\" + \"\\t\".join(lens) + \"\\n\")        \n",
    "        m.write(\"\\n\")\n",
    "        \n",
    "        mwe.write(map_name)\n",
    "        mwe.write(\"\\tXhoI\\tXhoI\\t\" + \"\\t\".join(lens_e_free) + \"\\n\")\n",
    "        mwe.write(\"\\n\")\n",
    "                \n",
    "        efile.write(' '.join([str(s) for s in simulated[2]]))\n",
    "        efile.write(\"\\n\")\n",
    "\"\"\"\n",
    "m.close()\n",
    "mwe.close()\n",
    "efile.close()"
   ]
  },
  {
   "cell_type": "code",
   "execution_count": 92,
   "metadata": {
    "collapsed": false
   },
   "outputs": [
    {
     "name": "stdout",
     "output_type": "stream",
     "text": [
      "8295\n",
      "4835\n"
     ]
    }
   ],
   "source": [
    "print(tot_ins_err)\n",
    "print(tot_del_err)"
   ]
  },
  {
   "cell_type": "code",
   "execution_count": 9,
   "metadata": {
    "collapsed": false
   },
   "outputs": [
    {
     "data": {
      "text/plain": [
       "([16.661084748208314,\n",
       "  43.70944988565148,\n",
       "  36.68483729040059,\n",
       "  6.166476837458508,\n",
       "  2.2833071155421356,\n",
       "  4.678181974795673,\n",
       "  28.39280830620119,\n",
       "  4.72748533400852,\n",
       "  6.349912406371118,\n",
       "  11.665345742826457,\n",
       "  11.98442646820368,\n",
       "  5.1987928289760035,\n",
       "  10.29788725160603,\n",
       "  21.450466784232596,\n",
       "  20.80503321462935,\n",
       "  45.539693030552435,\n",
       "  16.693412325513393,\n",
       "  11.868400426718367,\n",
       "  3.0677588944895344,\n",
       "  1.5738562963077127,\n",
       "  11.069184117362395,\n",
       "  3.697835722660505,\n",
       "  17.868432926059306,\n",
       "  40.853293336586944,\n",
       "  6.515085925338014,\n",
       "  6.736002721819806,\n",
       "  32.26512551441425,\n",
       "  8.038889568497952,\n",
       "  16.315186447704882,\n",
       "  0.9780097524662003,\n",
       "  26.1015410585528],\n",
       " [16.373,\n",
       "  44.498,\n",
       "  39.605,\n",
       "  8.075,\n",
       "  4.687,\n",
       "  32.319,\n",
       "  18.488,\n",
       "  17.26,\n",
       "  10.482,\n",
       "  42.73,\n",
       "  37.485,\n",
       "  6.481,\n",
       "  29.06,\n",
       "  4.547,\n",
       "  14.475,\n",
       "  60.323,\n",
       "  13.128,\n",
       "  12.437,\n",
       "  19.199,\n",
       "  8.085,\n",
       "  17.715,\n",
       "  25.914],\n",
       " [10, 17, 18],\n",
       " 13)"
      ]
     },
     "execution_count": 9,
     "metadata": {},
     "output_type": "execute_result"
    }
   ],
   "source": [
    "sim(molecules[8][0])"
   ]
  },
  {
   "cell_type": "code",
   "execution_count": 57,
   "metadata": {
    "collapsed": false
   },
   "outputs": [
    {
     "data": {
      "text/plain": [
       "([], [], [])"
      ]
     },
     "execution_count": 57,
     "metadata": {},
     "output_type": "execute_result"
    }
   ],
   "source": [
    "A = []\n",
    "deleteRandomly(A,7)\n",
    "#random.choice()"
   ]
  },
  {
   "cell_type": "code",
   "execution_count": 153,
   "metadata": {
    "collapsed": false
   },
   "outputs": [
    {
     "name": "stdout",
     "output_type": "stream",
     "text": [
      "[43196, 91066, 225524, 257866, 272748]\n"
     ]
    }
   ],
   "source": [
    "A = [43196, 225524, 257866, 272748]\n",
    "addfalsepositive(A, 1)\n",
    "print(A)"
   ]
  },
  {
   "cell_type": "code",
   "execution_count": 115,
   "metadata": {
    "collapsed": false
   },
   "outputs": [],
   "source": [
    "A = [43196, 225524, 257866, 272748]\n",
    "\n",
    "        \n",
    "insertVal(A, 43196)"
   ]
  },
  {
   "cell_type": "code",
   "execution_count": 116,
   "metadata": {
    "collapsed": false
   },
   "outputs": [
    {
     "data": {
      "text/plain": [
       "[43196, 82743, 225524, 257866, 272748]"
      ]
     },
     "execution_count": 116,
     "metadata": {},
     "output_type": "execute_result"
    }
   ],
   "source": [
    "A"
   ]
  },
  {
   "cell_type": "code",
   "execution_count": 82,
   "metadata": {
    "collapsed": false
   },
   "outputs": [
    {
     "data": {
      "text/plain": [
       "4"
      ]
     },
     "execution_count": 82,
     "metadata": {},
     "output_type": "execute_result"
    }
   ],
   "source": [
    "len(A)"
   ]
  },
  {
   "cell_type": "code",
   "execution_count": 163,
   "metadata": {
    "collapsed": false
   },
   "outputs": [
    {
     "data": {
      "text/plain": [
       "3.0"
      ]
     },
     "execution_count": 163,
     "metadata": {},
     "output_type": "execute_result"
    }
   ],
   "source": [
    "round(len(molecules[5][0])/100000.0)"
   ]
  },
  {
   "cell_type": "code",
   "execution_count": 6,
   "metadata": {
    "collapsed": false
   },
   "outputs": [
    {
     "name": "stdout",
     "output_type": "stream",
     "text": [
      "Usage:\r\n",
      "ovlp <Map_File> <Ouput> <Range num1> <Range num2>\r\n"
     ]
    }
   ],
   "source": [
    "!/s/oak/b/nobackup/darshanw/valuev_optmap_alignment-master/ovlp/ovlp"
   ]
  },
  {
   "cell_type": "code",
   "execution_count": 139,
   "metadata": {
    "collapsed": false
   },
   "outputs": [],
   "source": [
    "def createExcel(copies, tot_del, tol_ins, in_file):\n",
    "    lines = [line for line in open(in_file)]    \n",
    "    print(\"Copies,K,MIN COMMON K IN READS (m),MIN_CONSENSUS (d),Deletions, Insertions,Reads aligned (B),Avg S-score (B),Reads aligned (A),Avg S-score (A)\")            \n",
    "    for i in range(0, len(lines)/7):\n",
    "        k = lines[0+i*7].strip().split(\" \")[1]\n",
    "        m = lines[0+i*7].strip().split(\" \")[4]\n",
    "        d = lines[0+i*7].strip().split(\" \")[8]    \n",
    "        no_algn_r_B = lines[1+i*7].strip().split(\":\")[1].strip().split(\"(\")[0]\n",
    "        tot_r = lines[1+i*7].strip().split(\":\")[1].strip().split(\"(\")[1].split(\")\")[0]\n",
    "        avg_S_B = lines[2+i*7].strip().split(\":\")[1].strip()\n",
    "        no_algn_r_A = lines[3+i*7].strip().split(\":\")[1].strip().split(\"(\")[0]\n",
    "        avg_S_A = lines[4+i*7].strip().split(\":\")[1].strip()\n",
    "        deletion = lines[5+i*7].strip().split(\":\")[1].strip()\n",
    "        insertion = lines[6+i*7].strip().split(\":\")[1].strip()\n",
    "        print(str(copies)+\",\"+str(k)+\",\"+str(m)+\",\"+str(d)+\",\"+str(deletion)+\"[\"+tot_del+\"]\"+\",\"+str(insertion)+\"[\"+tol_ins+\"]\"+\",\"+str(no_algn_r_B)+\"[\"+str(tot_r)+\"],\"+str(avg_S_B)+\",\"+str(no_algn_r_A)+\"[\"+str(tot_r)+\"],\"+str(avg_S_A))    "
   ]
  },
  {
   "cell_type": "code",
   "execution_count": 140,
   "metadata": {
    "collapsed": false,
    "scrolled": true
   },
   "outputs": [
    {
     "name": "stdout",
     "output_type": "stream",
     "text": [
      "Copies,K,MIN COMMON K IN READS (m),MIN_CONSENSUS (d),Deletions, Insertions,Reads aligned (B),Avg S-score (B),Reads aligned (A),Avg S-score (A)\n",
      "100,3,3,3,871[2364],674[1005],406[569],83.6360800493,350[569],74.4751637143\n",
      "100,3,3,4,725[2364],542[1005],406[569],83.6360800493,364[569],76.1814417582\n",
      "100,3,4,3,722[2364],521[1005],406[569],83.6360800493,373[569],75.1897680965\n",
      "100,3,4,4,591[2364],409[1005],406[569],83.6360800493,379[569],77.4527548813\n",
      "100,3,5,3,602[2364],409[1005],406[569],83.6360800493,377[569],76.4011779841\n",
      "100,3,5,4,452[2364],313[1005],406[569],83.6360800493,386[569],78.6214935233\n",
      "100,3,6,3,465[2364],311[1005],406[569],83.6360800493,381[569],78.1248698163\n",
      "100,3,6,4,339[2364],222[1005],406[569],83.6360800493,393[569],79.8416101781\n",
      "100,4,3,3,541[2364],392[1005],406[569],83.6360800493,376[569],77.6900329787\n",
      "100,4,3,4,410[2364],284[1005],406[569],83.6360800493,381[569],80.5583664042\n",
      "100,4,4,3,365[2364],260[1005],406[569],83.6360800493,382[569],79.4010798429\n",
      "100,4,4,4,233[2364],174[1005],406[569],83.6360800493,390[569],81.1712607692\n",
      "100,4,5,3,202[2364],162[1005],406[569],83.6360800493,392[569],80.6711729592\n",
      "100,4,5,4,108[2364],91[1005],406[569],83.6360800493,401[569],82.3390167082\n",
      "100,4,6,3,118[2364],86[1005],406[569],83.6360800493,397[569],81.6632745592\n",
      "100,4,6,4,46[2364],42[1005],406[569],83.6360800493,405[569],82.9071224691\n",
      "100,5,3,3,251[2364],177[1005],406[569],83.6360800493,387[569],80.9344640827\n",
      "100,5,3,4,143[2364],108[1005],406[569],83.6360800493,395[569],82.3741908861\n",
      "100,5,4,3,140[2364],111[1005],406[569],83.6360800493,396[569],81.7156444444\n",
      "100,5,4,4,53[2364],58[1005],406[569],83.6360800493,402[569],82.6482666667\n",
      "100,5,5,3,69[2364],53[1005],406[569],83.6360800493,403[569],82.4090076923\n",
      "100,5,5,4,19[2364],22[1005],406[569],83.6360800493,406[569],83.0508559113\n",
      "100,5,6,3,28[2364],20[1005],406[569],83.6360800493,406[569],83.2058327586\n",
      "100,5,6,4,8[2364],10[1005],406[569],83.6360800493,406[569],83.4566896552\n"
     ]
    }
   ],
   "source": [
    "createExcel(\"100\", \"2364\", \"1005\", \"/s/oak/b/nobackup/darshanw/COmap/test/with-100\")"
   ]
  },
  {
   "cell_type": "code",
   "execution_count": 187,
   "metadata": {
    "collapsed": false
   },
   "outputs": [],
   "source": [
    "A = \"\"\"344[2049]\"\"\""
   ]
  },
  {
   "cell_type": "code",
   "execution_count": 188,
   "metadata": {
    "collapsed": false
   },
   "outputs": [
    {
     "name": "stdout",
     "output_type": "stream",
     "text": [
      "16.79% [344]\n"
     ]
    }
   ],
   "source": [
    "A = A.split(\"\\n\")\n",
    "for i in range(0, len(A)):    \n",
    "    val = A[i].strip().split(\"[\")[0]\n",
    "    tot = A[i].strip().split(\"[\")[1].split(\"]\")[0]\n",
    "    percent = (float(val)/float(tot))*100.0\n",
    "    percent = round(percent,2)\n",
    "    print(str(percent)+\"% [\"+str(val)+\"]\")"
   ]
  },
  {
   "cell_type": "code",
   "execution_count": 149,
   "metadata": {
    "collapsed": false
   },
   "outputs": [
    {
     "data": {
      "text/plain": [
       "'871[2364]'"
      ]
     },
     "execution_count": 149,
     "metadata": {},
     "output_type": "execute_result"
    }
   ],
   "source": [
    "A[0]"
   ]
  },
  {
   "cell_type": "code",
   "execution_count": null,
   "metadata": {
    "collapsed": false
   },
   "outputs": [],
   "source": [
    "for i in range(0, 1000000000):\n",
    "    i = i + 10\n",
    "    i = i - 10"
   ]
  },
  {
   "cell_type": "code",
   "execution_count": 457,
   "metadata": {
    "collapsed": false,
    "scrolled": true
   },
   "outputs": [
    {
     "name": "stdout",
     "output_type": "stream",
     "text": [
      "68\n",
      "65\n",
      "3\n",
      "4\n",
      "0\n",
      "1\n",
      "0\n"
     ]
    },
    {
     "data": {
      "text/plain": [
       "([1, 11, 13, 15], [2])"
      ]
     },
     "execution_count": 457,
     "metadata": {},
     "output_type": "execute_result"
    }
   ],
   "source": [
    "A = \"\"\"map_0\n",
    "\tXhoI\tXhoI\t42.775\t51.518\t16.481\t37.904\t4.946\t35.071\t17.61\t58.586\t28.871\t14.231\t71.874\t55.145\t2.763\t37.516\t2.107\t3.698\t2.894\t16.741\t60.041\t36.938\t19.058\t4.897\t32.535\t3.642\t4.556\t17.626\t3.007\t12.754\t28.213\t26.3\t33.522\t9.614\t27.279\t28.887\t13.417\t2.786\t21.812\t24.018\t7.009\t14.835\t72.12\t9.739\t10.36\t64.508\t11.884\t18.627\t28.582\t1.557\t2.506\t1.913\t11.641\t15.44\t8.697\t6.17\t45.312\t4.218\t15.062\t20.234\t12.854\t12.396\t48.964\t34.111\t55.638\t56.159\t48.165\t2.099\t13.095\t7.375\n",
    "\n",
    "\"\"\"\n",
    "B = \"\"\"map_0\n",
    "\tXhoI\tXhoI\t44.617\t51.091\t16.655\t38.27\t4.801\t34.72\t18.1\t86.118\t\t\t14.007\t69.636\t55.972\t37.284\t\t\t2.474\t3.766\t2.598\t16.698\t60.875\t36.399\t18.954\t5.025\t32.848\t7.911\t20.872\t13.18\t26.291\t4.137\t22.175\t44.452\t28.029\t29.394\t11.691\t1.801\t23.03\t23.284\t7.059\t14.563\t69.41\t9.619\t72.232\t11.745\t18.805\t30.361\t1.501\t2.471\t1.718\t11.645\t14.989\t14.565\t42.496\t19.018\t18.792\t9.871\t2.773\t60.874\t32.248\t59.05\t40.6\t15.116\t53.477\t15.904\t7.436\n",
    "\n",
    "\"\"\"\n",
    "L = \"1,11,14,17 : 2\"\n",
    "def countContinuous(V):    \n",
    "    count = 0;\n",
    "    V = [int(v) for v in V]\n",
    "    for i in range(0,len(V)):\n",
    "        if(i == 0):\n",
    "            vprev = int(V[i])\n",
    "        else:\n",
    "            if(V[i] == (vprev + 1)):\n",
    "                count+=1\n",
    "                print(\"I'm here\")\n",
    "            vprev = V[i]\n",
    "    return(count)\n",
    "\n",
    "e_f = A.strip().split(\"\\n\")[1].strip().split(\"\\t\")[2:]\n",
    "w_e = B.strip().split(\"\\n\")[1].strip().split(\"\\t\")[2:]\n",
    "\n",
    "deletion = L.strip().split(\":\")[0].strip().split(\",\")\n",
    "insertion = L.strip().split(\":\")[1].strip().split(\",\")\n",
    "\n",
    "print(len(e_f))\n",
    "print(len(w_e))\n",
    "print(len(e_f) - len(w_e))\n",
    "print(len(deletion))\n",
    "print(countContinuous(deletion))\n",
    "print(len(insertion))\n",
    "print(countContinuous(insertion))\n",
    "\n",
    "def findTrueErrorLocation(E):\n",
    "    deletion = E.strip().split(\":\")[0].strip().split(\",\")\n",
    "    insertion = E.strip().split(\":\")[1].strip().split(\",\")\n",
    "    insertion = [ (int(insertion[i])+i) for i in range(0, len(insertion))]\n",
    "    deletion = [ (int(deletion[i])-i) for i in range(0, len(deletion))]\n",
    "    for z in range(0,len(deletion)):\n",
    "        less = [i for i in insertion if i < deletion[z]]\n",
    "        deletion[z] = deletion[z] + len(less)        \n",
    "    return(deletion, insertion)\n",
    "\n",
    "findTrueErrorLocation(L)"
   ]
  },
  {
   "cell_type": "code",
   "execution_count": 307,
   "metadata": {
    "collapsed": true
   },
   "outputs": [],
   "source": [
    "import random \n",
    "def insertVal(A, val):\n",
    "    idx = A.index(val)\n",
    "    if(idx + 1 != len(A)):\n",
    "        A.insert(idx + 1, random.randint(A[idx], A[idx + 1] ))\n",
    "    else:\n",
    "        A.insert(idx, random.randint(A[idx-1], A[idx]))"
   ]
  },
  {
   "cell_type": "code",
   "execution_count": 351,
   "metadata": {
    "collapsed": false
   },
   "outputs": [
    {
     "ename": "SyntaxError",
     "evalue": "invalid syntax (<ipython-input-351-b909ad99ed5e>, line 4)",
     "output_type": "error",
     "traceback": [
      "\u001b[1;36m  File \u001b[1;32m\"<ipython-input-351-b909ad99ed5e>\"\u001b[1;36m, line \u001b[1;32m4\u001b[0m\n\u001b[1;33m    A =  [continue if(a == 50) else a for a in A ]\u001b[0m\n\u001b[1;37m                 ^\u001b[0m\n\u001b[1;31mSyntaxError\u001b[0m\u001b[1;31m:\u001b[0m invalid syntax\n"
     ]
    }
   ],
   "source": [
    "A = [10,20,30,40,50,60,70,80,90]\n",
    "insertVal(A, 10)\n",
    "insertVal(A, 20)\n",
    "for a in A:\n",
    "    if(a ==50):\n",
    "        continue\n",
    "A =  [if(a == 50) else a for a in A ]\n",
    "A"
   ]
  },
  {
   "cell_type": "code",
   "execution_count": 316,
   "metadata": {
    "collapsed": false
   },
   "outputs": [],
   "source": [
    "def insertVal(A, val):\n",
    "    idx = A.index(val)\n",
    "    if(idx == 0):\n",
    "        A.insert(idx, random.randint(0, A[idx]))\n",
    "    else:\n",
    "        A.insert(idx, random.randint((A[idx - 1 ]), A[idx]))"
   ]
  },
  {
   "cell_type": "code",
   "execution_count": 766,
   "metadata": {
    "collapsed": true
   },
   "outputs": [],
   "source": [
    "A = \"\"\"Base read aligned to: 11 map_793\n",
    "Starting at: 6 -> 0 0 0 0 0 0 0 0 0 0 2 1 1 1 1 1 \n",
    "Base read aligned to: 6 map_331\n",
    "Starting at: 3 -> -1 -1 1 8 8 2 1 1 1 2 1 -1 1 1 1 1 \n",
    "Base read aligned to: 2 map_447\n",
    "Starting at: 27 -> -1 1 -1 1 3 8 8 1 1 2 3 1 1 1 1 1 \n",
    "Base read aligned to: 3 map_115\n",
    "Starting at: 0 -> -1 1 -1 1 3 1 1 1 1 1 -1 1 1 1 0 0 \n",
    "Base read aligned to: 8 map_1579\n",
    "Starting at: 0 -> 0 -1 -1 -1 2 1 1 1 1 8 8 1 1 1 2 1 \n",
    "Base read aligned to: 12 map_19\n",
    "Starting at: 15 -> -1 1 1 1 -1 4 1 1 -1 1 1 1 1 1 1 1 \n",
    "Base read aligned to: 1 map_1530\n",
    "Starting at: 11 -> 0 0 0 0 0 1 1 1 1 1 1 1 1 1 2 1 \n",
    "Base read aligned to: 13 map_1179\n",
    "Starting at: 12 -> 0 -1 -1 1 1 2 1 1 1 1 1 -1 1 1 1 1 \n",
    "Base read aligned to: 7 map_955\n",
    "Starting at: 0 -> -1 1 -1 1 3 1 -1 1 1 1 1 1 1 1 2 1 \n",
    "Base read aligned to: 10 map_175\n",
    "Starting at: 9 -> 0 0 0 0 0 1 -1 1 1 1 1 1 1 1 1 1 \n",
    "Base read aligned to: 9 map_136\n",
    "Starting at: 0 -> -1 1 -1 1 2 8 8 1 1 1 1 1 1 1 1 1 \n",
    "Base read aligned to: 4 map_2320\n",
    "Starting at: 17 -> -1 1 8 8 2 2 1 1 1 1 2 1 1 1 1 1 \n",
    "Base read aligned to: 5 map_919\n",
    "Starting at: 0 -> 8 8 -1 1 2 1 1 1 1 1 2 1 1 1 -1 1\n",
    "\"\"\""
   ]
  },
  {
   "cell_type": "code",
   "execution_count": 769,
   "metadata": {
    "collapsed": false
   },
   "outputs": [
    {
     "name": "stdout",
     "output_type": "stream",
     "text": [
      "Counter({'1': 6, '0': 3, '-1': 3, '8': 1})\n",
      "13\n"
     ]
    }
   ],
   "source": [
    "from collections import Counter\n",
    "def getCountStat(A, loc):\n",
    "    alignment = A.strip().split(\"\\n\")\n",
    "    alignment = [alignment[i] for i in range(0, len(alignment)) if i%2 == 1]\n",
    "    countLoc = []\n",
    "    for line in alignment:\n",
    "        line = line.strip().split(\"->\")[1]\n",
    "        line = line.strip().split(\" \")\n",
    "        countLoc.append(line[loc])\n",
    "    print(Counter(countLoc))\n",
    "    print(len(alignment))\n",
    "getCountStat(A, 1)"
   ]
  },
  {
   "cell_type": "code",
   "execution_count": 495,
   "metadata": {
    "collapsed": false
   },
   "outputs": [],
   "source": [
    "def createExcel(copies, tot_del, tot_ins, in_file):\n",
    "    lines = [line for line in open(in_file)]    \n",
    "    print(\"Copies,K,MIN COMMON K IN READS (m),MIN_CONSENSUS (d),Deletions,True +ve (Del),Insertions,True +ve (Ins),Reads aligned (B),Avg S-score (B),Reads aligned (A),Avg S-score (A)\")            \n",
    "    linepset = 11\n",
    "    for i in range(0, len(lines)/linepset):\n",
    "        k = lines[0+i*linepset].strip().split(\" \")[1]\n",
    "        m = lines[0+i*linepset].strip().split(\" \")[4]\n",
    "        d = lines[0+i*linepset].strip().split(\" \")[8]    \n",
    "        no_algn_r_B = lines[1+i*linepset].strip().split(\":\")[1].strip().split(\"(\")[0]\n",
    "        tot_r = lines[1+i*linepset].strip().split(\":\")[1].strip().split(\"(\")[1].split(\")\")[0]\n",
    "        avg_S_B = round(float(lines[2+i*linepset].strip().split(\":\")[1].strip()),3)\n",
    "        no_algn_r_A = lines[3+i*linepset].strip().split(\":\")[1].strip().split(\"(\")[0]\n",
    "        avg_S_A = round(float(lines[4+i*linepset].strip().split(\":\")[1].strip()), 3)\n",
    "        no_algn_r_A_per = round(((int(no_algn_r_A)*100.0)/int(no_algn_r_B)),2)\n",
    "        deletion = lines[5+i*linepset].strip().split(\":\")[1].strip()\n",
    "        insertion = lines[6+i*linepset].strip().split(\":\")[1].strip()\n",
    "        deletion_per = round(((float(deletion)/float(tot_del))*100.0),2)\n",
    "        insertion_per = round(((float(insertion)/float(tot_ins))*100.0),2)\n",
    "        correctd = lines[7+i*linepset].strip().split(\":\")[1].strip()\n",
    "        incorrectd = lines[8+i*linepset].strip().split(\":\")[1].strip()\n",
    "        correcti = lines[9+i*linepset].strip().split(\":\")[1].strip()\n",
    "        incorrecti = lines[10+i*linepset].strip().split(\":\")[1].strip()\n",
    "        correctdper = round((int(correctd)*100.0)/int(deletion),2)\n",
    "        correctiper = round((int(correcti)*100.0)/int(insertion),2)\n",
    "        print(str(copies)+\",\"+str(k)+\",\"+str(m)+\",\"+str(d)+\",\"+str(deletion_per)+\"% [\"+str(deletion)+\"],\"+str(correctdper)+\"% [\"+str(correctd)+\"],\"+str(insertion_per)+\"% [\"+str(insertion)+\"],\"+str(correctiper)+\"% [\"+str(correcti)+\"],\"+str(no_algn_r_B)+\"[\"+str(tot_r)+\"],\"+str(avg_S_B)+\",\"+str(no_algn_r_A_per)+\"% [\"+str(no_algn_r_A)+\"],\"+str(avg_S_A))    "
   ]
  },
  {
   "cell_type": "code",
   "execution_count": 496,
   "metadata": {
    "collapsed": false
   },
   "outputs": [
    {
     "name": "stdout",
     "output_type": "stream",
     "text": [
      "Copies,K,MIN COMMON K IN READS (m),MIN_CONSENSUS (d),Deletions,True +ve (Del),Insertions,True +ve (Ins),Reads aligned (B),Avg S-score (B),Reads aligned (A),Avg S-score (A)\n",
      "500,3,3,3,60.34% [7163],73.82% [5288],100.26% [5090],53.67% [2732],1892[2757],86.836,97.83% [1851],81.611\n",
      "500,3,3,4,56.87% [6752],74.14% [5006],92.53% [4698],54.83% [2576],1892[2757],86.836,98.78% [1869],82.322\n",
      "500,3,3,5,54.13% [6426],74.4% [4781],86.59% [4396],55.55% [2442],1892[2757],86.836,99.84% [1889],82.87\n",
      "500,3,3,6,51.72% [6140],74.36% [4566],81.31% [4128],56.32% [2325],1892[2757],86.836,100.53% [1902],83.264\n"
     ]
    }
   ],
   "source": [
    "createExcel(\"500\", \"11872\", \"5077\", \"/s/oak/b/nobackup/darshanw/COmap/test/with-100\")"
   ]
  },
  {
   "cell_type": "code",
   "execution_count": 502,
   "metadata": {
    "collapsed": false
   },
   "outputs": [
    {
     "name": "stdout",
     "output_type": "stream",
     "text": [
      "Done as Always!!\n"
     ]
    }
   ],
   "source": [
    "for i in range(0, 10000):\n",
    "    for j in range(0, 10000):\n",
    "        a = i + j\n",
    "print(\"Done as Always!!\")"
   ]
  },
  {
   "cell_type": "code",
   "execution_count": 719,
   "metadata": {
    "collapsed": false,
    "scrolled": true
   },
   "outputs": [
    {
     "name": "stdout",
     "output_type": "stream",
     "text": [
      "map_0\n",
      "\tXhoI\tXhoI\t2.818\t53.177\t39.813\t1.623\t4.768\t35.427\t28.231\t45.115\t51.285\t51.683\t9.39\t7.196\t39.674\t2.666\t1.943\t35.23\t18.15\t59.354\t27.53\t13.615\t69.173\t56.923\t2.672\t20.22\n",
      "\n",
      "\n",
      "map_0\n",
      "\tXhoI\tXhoI\t20.22\t2.672\t56.923\t69.173\t13.615\t27.53\t59.354\t18.15\t35.23\t1.943\t2.666\t39.674\t7.196\t9.39\t51.683\t51.285\t45.115\t28.231\t35.427\t4.768\t1.623\t39.813\t53.177\t2.818\n",
      "\n",
      "\n"
     ]
    }
   ],
   "source": [
    "R = \"\"\"map_0\n",
    "\tXhoI\tXhoI\t2.818\t53.177\t39.813\t1.623\t4.768\t35.427\t28.231\t45.115\t51.285\t51.683\t9.39\t7.196\t39.674\t2.666\t1.943\t35.23\t18.15\t59.354\t27.53\t13.615\t69.173\t56.923\t2.672\t20.22\n",
    "\n",
    "\"\"\"\n",
    "\n",
    "print(R)\n",
    "\n",
    "print(reverseOMRead(R))"
   ]
  },
  {
   "cell_type": "code",
   "execution_count": 715,
   "metadata": {
    "collapsed": false
   },
   "outputs": [],
   "source": [
    "def reverseOMRead(R):\n",
    "    NR = R.strip().split(\"\\n\")[0]    \n",
    "    NR = NR +\"\\n\"\n",
    "    NR = NR +\"\\t\"+ \"\\t\".join(R.strip().split(\"\\n\")[1].strip().split(\"\\t\")[0:2]) + \"\\t\"\n",
    "    NR = NR + \"\\t\".join(R.strip().split(\"\\n\")[1].strip().split(\"\\t\")[2:][::-1])\n",
    "    NR = NR + \"\\n\\n\"\n",
    "    return(NR)\n",
    "\n",
    "def addReverseReads(fname, sname):\n",
    "    lines  = [line for line in open(fname)]\n",
    "    slines = [line for line in open(sname)]\n",
    "    f = open(fname, 'w')\n",
    "    s = open(sname, 'w')\n",
    "    for i in range(0,(len(lines)/3)):\n",
    "        R = lines[i*3 + 0]\n",
    "        R = R + lines[i*3 + 1]\n",
    "        R = R + lines[i*3 + 2]\n",
    "        \n",
    "        S = slines[i*3 + 0]\n",
    "        S = S + slines[i*3 + 1]\n",
    "        S = S + slines[i*3 + 2]\n",
    "        \n",
    "        if(bool(random.getrandbits(1)) == True):\n",
    "            f.write(reverseOMRead(R))\n",
    "            s.write(reverseOMRead(S))\n",
    "        else:\n",
    "            f.write(R)\n",
    "            s.write(S)\n",
    "    f.close()"
   ]
  },
  {
   "cell_type": "code",
   "execution_count": 716,
   "metadata": {
    "collapsed": false
   },
   "outputs": [],
   "source": [
    "addReverseReads(\"sim_single_molecule_100_newDel\",\"sim_single_molecule_100_efree\")"
   ]
  },
  {
   "cell_type": "code",
   "execution_count": 652,
   "metadata": {
    "collapsed": false
   },
   "outputs": [
    {
     "data": {
      "text/plain": [
       "50147"
      ]
     },
     "execution_count": 652,
     "metadata": {},
     "output_type": "execute_result"
    }
   ],
   "source": [
    "t = 0\n",
    "f = 0\n",
    "for i in range (0, 100000):\n",
    "    if(bool(random.getrandbits(1)) == True):\n",
    "        t+=1\n",
    "    else:\n",
    "        f+=1\n",
    "t"
   ]
  },
  {
   "cell_type": "code",
   "execution_count": 704,
   "metadata": {
    "collapsed": false
   },
   "outputs": [
    {
     "data": {
      "text/plain": [
       "8"
      ]
     },
     "execution_count": 704,
     "metadata": {},
     "output_type": "execute_result"
    }
   ],
   "source": [
    "2+6"
   ]
  },
  {
   "cell_type": "code",
   "execution_count": 720,
   "metadata": {
    "collapsed": true
   },
   "outputs": [],
   "source": [
    "A = [1, 2, 3, 4, 5, 6]\n"
   ]
  },
  {
   "cell_type": "code",
   "execution_count": 724,
   "metadata": {
    "collapsed": false
   },
   "outputs": [
    {
     "data": {
      "text/plain": [
       "[2, 3, 4, 5]"
      ]
     },
     "execution_count": 724,
     "metadata": {},
     "output_type": "execute_result"
    }
   ],
   "source": [
    "A[1:-1]"
   ]
  },
  {
   "cell_type": "code",
   "execution_count": 726,
   "metadata": {
    "collapsed": false
   },
   "outputs": [],
   "source": [
    "def findTrueErrorLocation(E):\n",
    "    deletion = E.strip().split(\":\")[0].strip().split(\",\")\n",
    "    insertion = E.strip().split(\":\")[1].strip().split(\",\")\n",
    "    insertion = [ (int(insertion[i])+i) for i in range(0, len(insertion))]\n",
    "    deletion = [ (int(deletion[i])-i) for i in range(0, len(deletion))]\n",
    "    for z in range(0,len(deletion)):\n",
    "        less = [i for i in insertion if i < deletion[z]]\n",
    "        deletion[z] = deletion[z] + len(less)        \n",
    "    return(deletion, insertion)"
   ]
  },
  {
   "cell_type": "code",
   "execution_count": 765,
   "metadata": {
    "collapsed": false
   },
   "outputs": [
    {
     "name": "stdout",
     "output_type": "stream",
     "text": [
      "([3, 5, 10], [0, 2])\n",
      "+0 +2 -4 \n"
     ]
    }
   ],
   "source": [
    "print(findTrueErrorLocation(\"2,4,10 : 0,1\"))\n",
    "print(\"+0 +2 -4 \")"
   ]
  },
  {
   "cell_type": "code",
   "execution_count": 741,
   "metadata": {
    "collapsed": true
   },
   "outputs": [],
   "source": [
    "def howManyCorrected(dactual, iactual, dcorrected, icorrected):\n",
    "    correctlyCorrectedDeletions = 0\n",
    "    correctlyCorrectedInsertions = 0\n",
    "    incorrectlyCorrectedDeletions = 0\n",
    "    incorrectlyCorrecteInsertions = 0    \n",
    "    for d in dcorrected:        \n",
    "        for delloc in d[1]:\n",
    "            if delloc in dactual[d[0]][1]:\n",
    "                correctlyCorrectedDeletions+=1\n",
    "            else:\n",
    "                print(delloc)\n",
    "                incorrectlyCorrectedDeletions+=1                \n",
    "    for i in icorrected:\n",
    "        for insloc in i[1]:\n",
    "            if insloc in iactual[i[0]][1]:\n",
    "                correctlyCorrectedInsertions+=1\n",
    "            else:\n",
    "                incorrectlyCorrecteInsertions+=1                \n",
    "    return(correctlyCorrectedDeletions,correctlyCorrectedInsertions,incorrectlyCorrectedDeletions,incorrectlyCorrecteInsertions)"
   ]
  },
  {
   "cell_type": "code",
   "execution_count": 742,
   "metadata": {
    "collapsed": false
   },
   "outputs": [
    {
     "name": "stdout",
     "output_type": "stream",
     "text": [
      "17\n"
     ]
    },
    {
     "data": {
      "text/plain": [
       "(3, 2, 1, 0)"
      ]
     },
     "execution_count": 742,
     "metadata": {},
     "output_type": "execute_result"
    }
   ],
   "source": [
    "dactual = []\n",
    "iactual = []\n",
    "dcorrected = []\n",
    "icorrected  = []\n",
    "dactual.append([0, [5, 8, 16, 16, 28]])\n",
    "iactual.append([0, [17, 25]])\n",
    "dcorrected.append([0, [5,8,16,17]])\n",
    "icorrected.append([0, [17, 25]])\n",
    "howManyCorrected(dactual, iactual, dcorrected, icorrected)"
   ]
  },
  {
   "cell_type": "code",
   "execution_count": 747,
   "metadata": {
    "collapsed": false
   },
   "outputs": [
    {
     "data": {
      "text/plain": [
       "0"
      ]
     },
     "execution_count": 747,
     "metadata": {},
     "output_type": "execute_result"
    }
   ],
   "source": [
    "import subprocess as sp\n",
    "sp.call('ls')"
   ]
  },
  {
   "cell_type": "code",
   "execution_count": 819,
   "metadata": {
    "collapsed": false
   },
   "outputs": [
    {
     "ename": "SyntaxError",
     "evalue": "invalid syntax (<ipython-input-819-291383618567>, line 15)",
     "output_type": "error",
     "traceback": [
      "\u001b[1;36m  File \u001b[1;32m\"<ipython-input-819-291383618567>\"\u001b[1;36m, line \u001b[1;32m15\u001b[0m\n\u001b[1;33m    print timeit(stmt = \"sp.call([prg, \"-x\",\"-z\", \"-k\", str(k), \"-m\", str(m), \"-d\", str(d), \"-f\",in_file], stdout = open(out_file, \"wb\"), stderr=sp.STDOUT)\", setup = \"import subprocess\", number = 1)\u001b[0m\n\u001b[1;37m                                            ^\u001b[0m\n\u001b[1;31mSyntaxError\u001b[0m\u001b[1;31m:\u001b[0m invalid syntax\n"
     ]
    }
   ],
   "source": [
    "from timeit import timeit\n",
    "prg_path = \"/s/oak/b/nobackup/darshanw/COmap/\"\n",
    "prg = prg_path + \"bin/COmap\"\n",
    "in_file = prg_path + \"test/sim_single_molecule_100_newDel\"\n",
    "out_file = prg_path + \"test/output/sim_single_molecule_100_corrected\"\n",
    "eloc_file = prg_path + \"test/sim_single_molecule_100_elocations\"\n",
    "e_free = prg_path + \"test/sim_single_molecule_100_efree\"\n",
    "eloc_corrected = prg_path + \"test/output/corrected\"\n",
    "k = 3\n",
    "d = 3\n",
    "m = 3\n",
    "copies = 400\n",
    "out_file = out_file+\"_k\"+str(k)+\"m\"+str(m)+\"d\"+str(d)+\"_\"+str(copies)\n",
    "eloc_corrected = eloc_corrected+\"_k\"+str(k)+\"m\"+str(m)+\"d\"+str(d)+\"_\"+str(copies)\n",
    "print timeit(stmt = \"sp.call([prg, \"-x\",\"-z\", \"-k\", str(k), \"-m\", str(m), \"-d\", str(d), \"-f\",in_file], stdout = open(out_file, \"wb\"), stderr=sp.STDOUT)\", setup = \"import subprocess\", number = 1)"
   ]
  },
  {
   "cell_type": "code",
   "execution_count": 827,
   "metadata": {
    "collapsed": false
   },
   "outputs": [
    {
     "name": "stdout",
     "output_type": "stream",
     "text": [
      "2.83635997772\n"
     ]
    }
   ],
   "source": [
    "from timeit import timeit\n",
    "#aa = '-l'\n",
    "#stmt = \"subprocess.call(['ls','\"+aa+\"'])\"\n",
    "#k = 3\n",
    "#stmt = \"subprocess.call(['\"+prg+\"', '-x','-z', '-k', '\"+str(k)+\"', '-m', '\"+str(m)+\"', '-d', '\"+str(d)+\"', '-f','\"+in_file+\"'], stdout = open(out_file, 'wb'), stderr=sp.STDOUT)\"\n",
    "prg_path = \"/s/oak/b/nobackup/darshanw/COmap/\"\n",
    "prg = prg_path + \"bin/COmap\"\n",
    "in_file = prg_path + \"test/sim_single_molecule_100_newDel\"\n",
    "out_file = prg_path + \"test/output/sim_single_molecule_100_corrected\"\n",
    "eloc_file = prg_path + \"test/sim_single_molecule_100_elocations\"\n",
    "e_free = prg_path + \"test/sim_single_molecule_100_efree\"\n",
    "eloc_corrected = prg_path + \"test/output/corrected\"\n",
    "k = 8\n",
    "d = 6\n",
    "m = 3\n",
    "copies = 400\n",
    "time = (timeit(stmt = \"subprocess.call(['\"+prg+\"', '-x','-z', '-k', '\"+str(k)+\"', '-m', '\"+str(m)+\"', '-d', '\"+str(d)+\"', '-f','\"+in_file+\"'], stdout = open('\"+out_file+\"', 'wb'), stderr=subprocess.STDOUT)\", setup = \"import subprocess\", number = 1))\n",
    "print(time)"
   ]
  },
  {
   "cell_type": "code",
   "execution_count": 8,
   "metadata": {
    "collapsed": false
   },
   "outputs": [
    {
     "name": "stdout",
     "output_type": "stream",
     "text": [
      "Installed tikzmagic.py. To use it, type:\n",
      "  %load_ext tikzmagic\n"
     ]
    }
   ],
   "source": [
    "%install_ext https://raw.githubusercontent.com/meduz/ipython_magics/master/tikzmagic.py"
   ]
  },
  {
   "cell_type": "code",
   "execution_count": 13,
   "metadata": {
    "collapsed": true
   },
   "outputs": [],
   "source": [
    "%reload_ext tikzmagic"
   ]
  },
  {
   "cell_type": "code",
   "execution_count": 14,
   "metadata": {
    "collapsed": false
   },
   "outputs": [
    {
     "name": "stderr",
     "output_type": "stream",
     "text": [
      "LaTeX terminated with signal -1\n",
      "No image generated.\n"
     ]
    },
    {
     "data": {
      "text/plain": [
       "This is pdfTeX, Version 3.14159265-2.6-1.40.15 (TeX Live 2014) (preloaded format=pdflatex 2016.2.26)  16 APR 2016 14:06\n",
       "entering extended mode\n",
       " \\write18 enabled.\n",
       " %&-line parsing enabled.\n",
       "**tikz.tex\n",
       "(./tikz.tex\n",
       "LaTeX2e <2011/06/27>\n",
       "Babel <3.9k> and hyphenation patterns for 2 languages loaded.\n",
       "\n",
       "! LaTeX Error: File `standalone.cls' not found.\n",
       "\n",
       "Type X to quit or <RETURN> to proceed,\n",
       "or enter new name. (Default extension: cls)\n",
       "\n",
       "Enter file name: \n",
       "! Emergency stop.\n",
       "<read *> \n",
       "         \n",
       "l.3 \\usepackage\n",
       "               {xcolor}^^M\n",
       "End of file on the terminal!\n",
       "\n",
       " \n",
       "Here is how much of TeX's memory you used:\n",
       " 10 strings out of 495025\n",
       " 184 string characters out of 6181515\n",
       " 45959 words of memory out of 5000000\n",
       " 3322 multiletter control sequences out of 15000+600000\n",
       " 3640 words of font info for 14 fonts, out of 8000000 for 9000\n",
       " 14 hyphenation exceptions out of 8191\n",
       " 10i,0n,7p,96b,8s stack positions out of 5000i,500n,10000p,200000b,80000s\n",
       "!  ==> Fatal error occurred, no output PDF file produced!\n"
      ]
     },
     "metadata": {},
     "output_type": "display_data"
    }
   ],
   "source": [
    "%%tikz\n",
    "\n",
    "%# the number line\n",
    "\\draw [thick,dashed] (-1,0) -- (0,0);\n",
    "\\draw [thick](0,0) -- (9,0);\n",
    "\n",
    "%# The bucket boundaries\n",
    "\\draw [thick](0,-.4) -- (0, .4);\n",
    "\\draw [thick](2,-.4) -- (2, .4);\n",
    "\\draw [thick](5,-.4) -- (5, .4);\n",
    "\\draw [thick](9,-.4) -- (9, .4);\n",
    "\n",
    "%# Labels for the bucket boundaries\n",
    "\\node[below] at (0,-.4) {$U(n-3)$};\n",
    "\\node[below] at (2,-.4) {$U(n-2)$};\n",
    "\\node[below] at (5,-.4) {$U(n-1)$};\n",
    "\\node[below] at (9,-.4) {$U(n)$};\n",
    "\n",
    "%# A hypothetical ideal actual fragment size centered in a bucket\n",
    "\\draw (7,-.2) -- (7, .2);\n",
    "\n",
    "\n",
    "\n",
    "%# delta measurements\n",
    "\\draw[|<->|] (5,.6) -- (7, .6);\n",
    "\\node[above] at (6,.6) {$\\delta$};\n",
    "\\draw[|<->|] (7,.6) -- (9, .6);\n",
    "\\node[above] at (8,.6) {$\\delta$};\n",
    "\n",
    "\n",
    "%# normal code, taken from http://tex.stackexchange.com/questions/43610/plotting-bell-shaped-curve-in-tikz-pgf\n",
    "%# define normal distribution function 'normaltwo'\n",
    "\\def\\normaltwo{\\x,{4*1/exp(((\\x-3)^2)/2)}}\n",
    "\n",
    "%# input y parameter\n",
    "\\def\\y{4.4}\n",
    "\n",
    "%# this line calculates f(y)\n",
    "\\def\\fy{4*1/exp(((\\y-3)^2)/2)}\n",
    "\n",
    "\n",
    "%# Draw and label normal distribution function\n",
    "\\draw[color=blue,domain=0:6,shift={(4,-5)}] plot (\\normaltwo) node[right] {};"
   ]
  },
  {
   "cell_type": "code",
   "execution_count": 2,
   "metadata": {
    "collapsed": false
   },
   "outputs": [],
   "source": [
    "import subprocess\n",
    "import time"
   ]
  },
  {
   "cell_type": "code",
   "execution_count": 3,
   "metadata": {
    "collapsed": false
   },
   "outputs": [
    {
     "data": {
      "text/plain": [
       "<subprocess.Popen at 0x7ff2a0824e10>"
      ]
     },
     "execution_count": 3,
     "metadata": {},
     "output_type": "execute_result"
    }
   ],
   "source": [
    "subprocess.Popen('ls')"
   ]
  },
  {
   "cell_type": "code",
   "execution_count": 14,
   "metadata": {
    "collapsed": false
   },
   "outputs": [],
   "source": [
    "comb = [[2,2,2],[3,2,2],[4,2,2],[5,2,2],[6,2,2],[7,2,2],[8,2,2], [3,3,2], [3,4,2], [3,5,2], [3,6,2], [3,7,2], [3,8,2], [3,2,3], [3,2,4], [3,2,5], [3,2,6], [3,2,7], [3,2,8]]"
   ]
  },
  {
   "cell_type": "code",
   "execution_count": 15,
   "metadata": {
    "collapsed": false
   },
   "outputs": [
    {
     "name": "stdout",
     "output_type": "stream",
     "text": [
      "2 2 2\n",
      "3 2 2\n",
      "4 2 2\n",
      "5 2 2\n",
      "6 2 2\n",
      "7 2 2\n",
      "8 2 2\n",
      "3 3 2\n",
      "3 4 2\n",
      "3 5 2\n",
      "3 6 2\n",
      "3 7 2\n",
      "3 8 2\n",
      "3 2 3\n",
      "3 2 4\n",
      "3 2 5\n",
      "3 2 6\n",
      "3 2 7\n",
      "3 2 8\n"
     ]
    }
   ],
   "source": [
    "for k,m,d in A:\n",
    "    print(str(k)+\" \"+str(m)+\" \"+str(d))"
   ]
  },
  {
   "cell_type": "code",
   "execution_count": 26,
   "metadata": {
    "collapsed": false
   },
   "outputs": [
    {
     "name": "stdout",
     "output_type": "stream",
     "text": [
      "--2016-05-28 11:58:47--  ftp://climb.genomics.cn/pub/10.5524/100001_101000/100084/plum.OM.raw/14088LA.maps\n",
      "           => ‘14088LA.maps’\n",
      "Resolving climb.genomics.cn (climb.genomics.cn)... 218.188.108.76\n",
      "Connecting to climb.genomics.cn (climb.genomics.cn)|218.188.108.76|:21... connected.\n",
      "Logging in as anonymous ... Logged in!\n",
      "==> SYST ... done.    ==> PWD ... done.\n",
      "==> TYPE I ... done.  ==> CWD (1) /pub/10.5524/100001_101000/100084/plum.OM.raw ... done.\n",
      "==> SIZE 14088LA.maps ... 15430424\n",
      "==> PASV ... done.    ==> RETR 14088LA.maps ... done.\n",
      "Length: 15430424 (15M) (unauthoritative)\n",
      "\n",
      "14088LA.maps        100%[===================>]  14.71M   496KB/s    in 31s     \n",
      "\n",
      "2016-05-28 11:59:21 (484 KB/s) - ‘14088LA.maps’ saved [15430424]\n",
      "\n"
     ]
    }
   ],
   "source": [
    "!wget ftp://climb.genomics.cn/pub/10.5524/100001_101000/100084/plum.OM.raw/14088LA.maps"
   ]
  },
  {
   "cell_type": "code",
   "execution_count": 29,
   "metadata": {
    "collapsed": false
   },
   "outputs": [
    {
     "name": "stdout",
     "output_type": "stream",
     "text": [
      "348900 14088LA.maps\r\n"
     ]
    }
   ],
   "source": [
    "!wc -l 14088LA.maps"
   ]
  },
  {
   "cell_type": "code",
   "execution_count": 30,
   "metadata": {
    "collapsed": false
   },
   "outputs": [],
   "source": [
    "lines = [line for line in open(\"14088LA.maps\")]"
   ]
  },
  {
   "cell_type": "code",
   "execution_count": 31,
   "metadata": {
    "collapsed": false
   },
   "outputs": [
    {
     "name": "stdout",
     "output_type": "stream",
     "text": [
      "96853\n"
     ]
    }
   ],
   "source": [
    "count = 0\n",
    "for i in range(0,len(lines)):\n",
    "    if(i%3 != 1):\n",
    "        continue\n",
    "    frags = lines[i].strip().split()\n",
    "    if(len(frags)-1 > 10):\n",
    "        count+=1\n",
    "print(count)"
   ]
  },
  {
   "cell_type": "code",
   "execution_count": 34,
   "metadata": {
    "collapsed": false
   },
   "outputs": [
    {
     "name": "stdout",
     "output_type": "stream",
     "text": [
      "625\n",
      "610\n",
      "506\n",
      "347\n",
      "247\n",
      "131\n",
      "72\n",
      "560\n",
      "560\n",
      "507\n",
      "507\n",
      "409\n",
      "409\n",
      "598\n",
      "597\n",
      "588\n",
      "578\n",
      "570\n",
      "565\n"
     ]
    }
   ],
   "source": [
    "filename = \"/s/oak/b/nobackup/darshanw/COmap/test/output-200/output.txt\"\n",
    "lines = [line for line in open(filename)]\n",
    "for i in range(0, len(lines)):\n",
    "    if((i%13) == 6):\n",
    "        print(lines[i].strip().split()[4])    "
   ]
  },
  {
   "cell_type": "code",
   "execution_count": null,
   "metadata": {
    "collapsed": true
   },
   "outputs": [],
   "source": []
  }
 ],
 "metadata": {
  "kernelspec": {
   "display_name": "Python 2",
   "language": "python",
   "name": "python2"
  },
  "language_info": {
   "codemirror_mode": {
    "name": "ipython",
    "version": 2
   },
   "file_extension": ".py",
   "mimetype": "text/x-python",
   "name": "python",
   "nbconvert_exporter": "python",
   "pygments_lexer": "ipython2",
   "version": "2.7.11"
  }
 },
 "nbformat": 4,
 "nbformat_minor": 0
}
