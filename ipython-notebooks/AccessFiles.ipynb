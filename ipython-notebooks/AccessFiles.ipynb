{
 "metadata": {
  "name": "",
  "signature": "sha256:e8a1c0d513259760e7676846629f6d6497cb6808b96a6c2b046ed63609762939"
 },
 "nbformat": 3,
 "nbformat_minor": 0,
 "worksheets": [
  {
   "cells": [
    {
     "cell_type": "code",
     "collapsed": false,
     "input": [
      "import matplotlib\n",
      "import Bio.SeqIO\n",
      "import Bio.Restriction\n",
      "import scipy\n",
      "import matplotlib.pyplot as plt\n",
      "%matplotlib inline\n",
      "import math\n",
      "import random\n",
      "import numpy as np"
     ],
     "language": "python",
     "metadata": {},
     "outputs": [],
     "prompt_number": 1
    },
    {
     "cell_type": "code",
     "collapsed": false,
     "input": [
      "#lines = [line for i,line in enumerate(open(\"sim_single_molecule_100_newDel\")) if (i%3==1)]\n",
      "def printLine(filename,no):\n",
      "    lines = [line for i,line in enumerate(open(filename))]\n",
      "    print(lines[no*3])\n",
      "    print(lines[no*3 + 1])"
     ],
     "language": "python",
     "metadata": {},
     "outputs": [],
     "prompt_number": 14
    },
    {
     "cell_type": "code",
     "collapsed": false,
     "input": [
      "printLine(\"sim_single_molecule_100_newDel\", 47)"
     ],
     "language": "python",
     "metadata": {},
     "outputs": [
      {
       "output_type": "stream",
       "stream": "stdout",
       "text": [
        "map_78\n",
        "\n",
        "\tXhoI\tXhoI\t21.795\t2.781\t21.034\t24.902\t6.833\t14.581\t79.248\t10.453\t64.283\t12.079\t19.261\t29.243\t1.514\t2.324\t12.82\t15.356\t13.708\t45.37\t4.268\t14.751\t21.79\t13.114\t2.679\n",
        "\n"
       ]
      }
     ],
     "prompt_number": 22
    },
    {
     "cell_type": "code",
     "collapsed": false,
     "input": [],
     "language": "python",
     "metadata": {},
     "outputs": []
    }
   ],
   "metadata": {}
  }
 ]
}