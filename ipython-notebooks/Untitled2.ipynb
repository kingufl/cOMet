{
 "metadata": {
  "name": "",
  "signature": "sha256:f087e4f3cd25e9456957aa69d6b2aee09517c06c1aac7960cbc0b6cb702cb8a0"
 },
 "nbformat": 3,
 "nbformat_minor": 0,
 "worksheets": []
}